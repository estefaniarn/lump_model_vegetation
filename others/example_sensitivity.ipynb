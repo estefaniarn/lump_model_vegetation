{
 "cells": [
  {
   "cell_type": "code",
   "execution_count": 1,
   "metadata": {},
   "outputs": [],
   "source": [
    "import numpy as np\n",
    "import matplotlib.pyplot as plt\n",
    "import plotly.graph_objects as go"
   ]
  },
  {
   "cell_type": "code",
   "execution_count": 2,
   "metadata": {},
   "outputs": [],
   "source": [
    "# Define the stock-flow model\n",
    "def stock_flow_model(initial_stock, inflow_rate, outflow_rate, time_horizon):\n",
    "    stock = np.zeros(time_horizon)\n",
    "    stock[0] = initial_stock\n",
    "    for t in range(1, time_horizon):\n",
    "        inflow = inflow_rate * stock[t-1]\n",
    "        outflow = outflow_rate * stock[t-1]\n",
    "        stock[t] = stock[t-1] + inflow - outflow\n",
    "    return stock"
   ]
  },
  {
   "cell_type": "code",
   "execution_count": 3,
   "metadata": {},
   "outputs": [],
   "source": [
    "# Set up the parameter ranges to vary in the sensitivity analysis\n",
    "initial_stock_range = np.linspace(0, 100, num=21)\n",
    "inflow_rate_range = np.linspace(0.1, 1.0, num=10)\n",
    "outflow_rate_range = np.linspace(0.1, 1.0, num=10)"
   ]
  },
  {
   "cell_type": "code",
   "execution_count": 4,
   "metadata": {},
   "outputs": [],
   "source": [
    "# Set up a loop to run the model with each combination of input parameters\n",
    "results = np.zeros((len(initial_stock_range), len(inflow_rate_range), len(outflow_rate_range)))"
   ]
  },
  {
   "cell_type": "code",
   "execution_count": 5,
   "metadata": {},
   "outputs": [],
   "source": [
    "for i, initial_stock in enumerate(initial_stock_range):\n",
    "    for j, inflow_rate in enumerate(inflow_rate_range):\n",
    "        for k, outflow_rate in enumerate(outflow_rate_range):\n",
    "            stock = stock_flow_model(initial_stock, inflow_rate, outflow_rate, time_horizon=100)\n",
    "            results[i,j,k] = stock[-1]\n",
    "            #print(stock[-1])\n",
    "            "
   ]
  },
  {
   "cell_type": "code",
   "execution_count": null,
   "metadata": {},
   "outputs": [],
   "source": [
    "results[0,:,:]"
   ]
  },
  {
   "cell_type": "code",
   "execution_count": 6,
   "metadata": {},
   "outputs": [
    {
     "data": {
      "application/vnd.plotly.v1+json": {
       "config": {
        "plotlyServerURL": "https://plot.ly"
       },
       "data": [
        {
         "colorscale": [
          [
           0,
           "#440154"
          ],
          [
           0.1111111111111111,
           "#482878"
          ],
          [
           0.2222222222222222,
           "#3e4989"
          ],
          [
           0.3333333333333333,
           "#31688e"
          ],
          [
           0.4444444444444444,
           "#26828e"
          ],
          [
           0.5555555555555556,
           "#1f9e89"
          ],
          [
           0.6666666666666666,
           "#35b779"
          ],
          [
           0.7777777777777778,
           "#6ece58"
          ],
          [
           0.8888888888888888,
           "#b5de2b"
          ],
          [
           1,
           "#fde725"
          ]
         ],
         "type": "heatmap",
         "x": [
          0.1,
          0.2,
          0.30000000000000004,
          0.4,
          0.5,
          0.6,
          0.7000000000000001,
          0.8,
          0.9,
          1
         ],
         "y": [
          0,
          5,
          10,
          15,
          20,
          25,
          30,
          35,
          40,
          45,
          50,
          55,
          60,
          65,
          70,
          75,
          80,
          85,
          90,
          95,
          100
         ],
         "z": [
          [
           0,
           0,
           0,
           0,
           0,
           0,
           0,
           0,
           0,
           0
          ],
          [
           5,
           62639.146999192104,
           345074893.84172815,
           953590427294.6055,
           1464352174589260.5,
           1355203925117382100,
           806953086902161400000,
           3.2614687434729044e+23,
           9.352937011875483e+25,
           1.975042742059263e+28
          ],
          [
           10,
           125278.29399838421,
           690149787.6834563,
           1907180854589.211,
           2928704349178521,
           2710407850234764300,
           1.6139061738043228e+21,
           6.522937486945809e+23,
           1.8705874023750966e+26,
           3.950085484118526e+28
          ],
          [
           15,
           187917.4409975762,
           1035224681.5251842,
           2860771281883.82,
           4393056523767783,
           4065611775352146400,
           2.4208592607064873e+21,
           9.784406230418712e+23,
           2.8058811035626435e+26,
           5.925128226177789e+28
          ],
          [
           20,
           250556.58799676842,
           1380299575.3669126,
           3814361709178.422,
           5857408698357042,
           5420815700469529000,
           3.2278123476086455e+21,
           1.3045874973891618e+24,
           3.741174804750193e+26,
           7.900170968237052e+28
          ],
          [
           25,
           313195.73499596067,
           1725374469.2086403,
           4767952136473.035,
           7321760872946304,
           6776019625586910000,
           4.0347654345108064e+21,
           1.6307343717364511e+24,
           4.6764685059377415e+26,
           9.875213710296316e+28
          ],
          [
           30,
           375834.8819951524,
           2070449363.0503683,
           5721542563767.64,
           8786113047535566,
           8131223550704293000,
           4.841718521412975e+21,
           1.9568812460837424e+24,
           5.611762207125287e+26,
           1.1850256452355577e+29
          ],
          [
           35,
           438474.02899434493,
           2415524256.892097,
           6675132991062.241,
           10250465222124826,
           9486427475821677000,
           5.648671608315131e+21,
           2.2830281204310315e+24,
           6.547055908312826e+26,
           1.3825299194414842e+29
          ],
          [
           40,
           501113.17599353683,
           2760599150.733825,
           7628723418356.844,
           11714817396714084,
           10841631400939057000,
           6.455624695217291e+21,
           2.6091749947783235e+24,
           7.482349609500386e+26,
           1.5800341936474104e+29
          ],
          [
           45,
           563752.3229927301,
           3105674044.5755568,
           8582313845651.451,
           13179169571303360,
           12196835326056438000,
           7.262577782119458e+21,
           2.9353218691256135e+24,
           8.417643310687935e+26,
           1.7775384678533363e+29
          ],
          [
           50,
           626391.4699919213,
           3450748938.4172807,
           9535904272946.07,
           14643521745892608,
           13552039251173820000,
           8.069530869021613e+21,
           3.2614687434729023e+24,
           9.352937011875483e+26,
           1.9750427420592632e+29
          ],
          [
           55,
           689030.6169911134,
           3795823832.2590113,
           10489494700240.668,
           16107873920481874,
           14907243176291197000,
           8.876483955923781e+21,
           3.5876156178201954e+24,
           1.0288230713063037e+27,
           2.172547016265187e+29
          ],
          [
           60,
           751669.7639903048,
           4140898726.1007366,
           11443085127535.28,
           17572226095071132,
           16262447101408586000,
           9.68343704282595e+21,
           3.913762492167485e+24,
           1.1223524414250574e+27,
           2.3700512904711155e+29
          ],
          [
           65,
           814308.9109894985,
           4485973619.942478,
           12396675554829.89,
           19036578269660388,
           17617651026525964000,
           1.049039012972811e+22,
           4.2399093665147725e+24,
           1.2158818115438129e+27,
           2.5675555646770416e+29
          ],
          [
           70,
           876948.0579886899,
           4831048513.784194,
           13350265982124.482,
           20500930444249652,
           18972854951643353000,
           1.1297343216630261e+22,
           4.566056240862063e+24,
           1.3094111816625651e+27,
           2.7650598388829685e+29
          ],
          [
           75,
           939587.2049878826,
           5176123407.625927,
           14303856409419.1,
           21965282618838936,
           20328058876760730000,
           1.2104296303532437e+22,
           4.892203115209352e+24,
           1.4029405517813222e+27,
           2.9625641130888932e+29
          ],
          [
           80,
           1002226.3519870737,
           5521198301.46765,
           15257446836713.688,
           23429634793428170,
           21683262801878114000,
           1.2911249390434582e+22,
           5.218349989556647e+24,
           1.4964699219000773e+27,
           3.1600683872948207e+29
          ],
          [
           85,
           1064865.498986267,
           5866273195.309377,
           16211037264008.271,
           24893986968017410,
           23038466726995500000,
           1.3718202477336743e+22,
           5.544496863903935e+24,
           1.5899992920188307e+27,
           3.357572661500748e+29
          ],
          [
           90,
           1127504.6459854601,
           6211348089.1511135,
           17164627691302.902,
           26358339142606720,
           24393670652112876000,
           1.4525155564238915e+22,
           5.870643738251227e+24,
           1.683528662137587e+27,
           3.555076935706673e+29
          ],
          [
           95,
           1190143.7929846493,
           6556422982.992834,
           18118218118597.504,
           27822691317195970,
           25748874577230275000,
           1.5332108651141066e+22,
           6.196790612598515e+24,
           1.777058032256342e+27,
           3.7525812099126e+29
          ],
          [
           100,
           1252782.9399838427,
           6901497876.834561,
           19071808545892.14,
           29287043491785216,
           27104078502347640000,
           1.6139061738043225e+22,
           6.522937486945805e+24,
           1.8705874023750966e+27,
           3.9500854841185264e+29
          ]
         ]
        }
       ],
       "layout": {
        "template": {
         "data": {
          "bar": [
           {
            "error_x": {
             "color": "#2a3f5f"
            },
            "error_y": {
             "color": "#2a3f5f"
            },
            "marker": {
             "line": {
              "color": "#E5ECF6",
              "width": 0.5
             },
             "pattern": {
              "fillmode": "overlay",
              "size": 10,
              "solidity": 0.2
             }
            },
            "type": "bar"
           }
          ],
          "barpolar": [
           {
            "marker": {
             "line": {
              "color": "#E5ECF6",
              "width": 0.5
             },
             "pattern": {
              "fillmode": "overlay",
              "size": 10,
              "solidity": 0.2
             }
            },
            "type": "barpolar"
           }
          ],
          "carpet": [
           {
            "aaxis": {
             "endlinecolor": "#2a3f5f",
             "gridcolor": "white",
             "linecolor": "white",
             "minorgridcolor": "white",
             "startlinecolor": "#2a3f5f"
            },
            "baxis": {
             "endlinecolor": "#2a3f5f",
             "gridcolor": "white",
             "linecolor": "white",
             "minorgridcolor": "white",
             "startlinecolor": "#2a3f5f"
            },
            "type": "carpet"
           }
          ],
          "choropleth": [
           {
            "colorbar": {
             "outlinewidth": 0,
             "ticks": ""
            },
            "type": "choropleth"
           }
          ],
          "contour": [
           {
            "colorbar": {
             "outlinewidth": 0,
             "ticks": ""
            },
            "colorscale": [
             [
              0,
              "#0d0887"
             ],
             [
              0.1111111111111111,
              "#46039f"
             ],
             [
              0.2222222222222222,
              "#7201a8"
             ],
             [
              0.3333333333333333,
              "#9c179e"
             ],
             [
              0.4444444444444444,
              "#bd3786"
             ],
             [
              0.5555555555555556,
              "#d8576b"
             ],
             [
              0.6666666666666666,
              "#ed7953"
             ],
             [
              0.7777777777777778,
              "#fb9f3a"
             ],
             [
              0.8888888888888888,
              "#fdca26"
             ],
             [
              1,
              "#f0f921"
             ]
            ],
            "type": "contour"
           }
          ],
          "contourcarpet": [
           {
            "colorbar": {
             "outlinewidth": 0,
             "ticks": ""
            },
            "type": "contourcarpet"
           }
          ],
          "heatmap": [
           {
            "colorbar": {
             "outlinewidth": 0,
             "ticks": ""
            },
            "colorscale": [
             [
              0,
              "#0d0887"
             ],
             [
              0.1111111111111111,
              "#46039f"
             ],
             [
              0.2222222222222222,
              "#7201a8"
             ],
             [
              0.3333333333333333,
              "#9c179e"
             ],
             [
              0.4444444444444444,
              "#bd3786"
             ],
             [
              0.5555555555555556,
              "#d8576b"
             ],
             [
              0.6666666666666666,
              "#ed7953"
             ],
             [
              0.7777777777777778,
              "#fb9f3a"
             ],
             [
              0.8888888888888888,
              "#fdca26"
             ],
             [
              1,
              "#f0f921"
             ]
            ],
            "type": "heatmap"
           }
          ],
          "heatmapgl": [
           {
            "colorbar": {
             "outlinewidth": 0,
             "ticks": ""
            },
            "colorscale": [
             [
              0,
              "#0d0887"
             ],
             [
              0.1111111111111111,
              "#46039f"
             ],
             [
              0.2222222222222222,
              "#7201a8"
             ],
             [
              0.3333333333333333,
              "#9c179e"
             ],
             [
              0.4444444444444444,
              "#bd3786"
             ],
             [
              0.5555555555555556,
              "#d8576b"
             ],
             [
              0.6666666666666666,
              "#ed7953"
             ],
             [
              0.7777777777777778,
              "#fb9f3a"
             ],
             [
              0.8888888888888888,
              "#fdca26"
             ],
             [
              1,
              "#f0f921"
             ]
            ],
            "type": "heatmapgl"
           }
          ],
          "histogram": [
           {
            "marker": {
             "pattern": {
              "fillmode": "overlay",
              "size": 10,
              "solidity": 0.2
             }
            },
            "type": "histogram"
           }
          ],
          "histogram2d": [
           {
            "colorbar": {
             "outlinewidth": 0,
             "ticks": ""
            },
            "colorscale": [
             [
              0,
              "#0d0887"
             ],
             [
              0.1111111111111111,
              "#46039f"
             ],
             [
              0.2222222222222222,
              "#7201a8"
             ],
             [
              0.3333333333333333,
              "#9c179e"
             ],
             [
              0.4444444444444444,
              "#bd3786"
             ],
             [
              0.5555555555555556,
              "#d8576b"
             ],
             [
              0.6666666666666666,
              "#ed7953"
             ],
             [
              0.7777777777777778,
              "#fb9f3a"
             ],
             [
              0.8888888888888888,
              "#fdca26"
             ],
             [
              1,
              "#f0f921"
             ]
            ],
            "type": "histogram2d"
           }
          ],
          "histogram2dcontour": [
           {
            "colorbar": {
             "outlinewidth": 0,
             "ticks": ""
            },
            "colorscale": [
             [
              0,
              "#0d0887"
             ],
             [
              0.1111111111111111,
              "#46039f"
             ],
             [
              0.2222222222222222,
              "#7201a8"
             ],
             [
              0.3333333333333333,
              "#9c179e"
             ],
             [
              0.4444444444444444,
              "#bd3786"
             ],
             [
              0.5555555555555556,
              "#d8576b"
             ],
             [
              0.6666666666666666,
              "#ed7953"
             ],
             [
              0.7777777777777778,
              "#fb9f3a"
             ],
             [
              0.8888888888888888,
              "#fdca26"
             ],
             [
              1,
              "#f0f921"
             ]
            ],
            "type": "histogram2dcontour"
           }
          ],
          "mesh3d": [
           {
            "colorbar": {
             "outlinewidth": 0,
             "ticks": ""
            },
            "type": "mesh3d"
           }
          ],
          "parcoords": [
           {
            "line": {
             "colorbar": {
              "outlinewidth": 0,
              "ticks": ""
             }
            },
            "type": "parcoords"
           }
          ],
          "pie": [
           {
            "automargin": true,
            "type": "pie"
           }
          ],
          "scatter": [
           {
            "fillpattern": {
             "fillmode": "overlay",
             "size": 10,
             "solidity": 0.2
            },
            "type": "scatter"
           }
          ],
          "scatter3d": [
           {
            "line": {
             "colorbar": {
              "outlinewidth": 0,
              "ticks": ""
             }
            },
            "marker": {
             "colorbar": {
              "outlinewidth": 0,
              "ticks": ""
             }
            },
            "type": "scatter3d"
           }
          ],
          "scattercarpet": [
           {
            "marker": {
             "colorbar": {
              "outlinewidth": 0,
              "ticks": ""
             }
            },
            "type": "scattercarpet"
           }
          ],
          "scattergeo": [
           {
            "marker": {
             "colorbar": {
              "outlinewidth": 0,
              "ticks": ""
             }
            },
            "type": "scattergeo"
           }
          ],
          "scattergl": [
           {
            "marker": {
             "colorbar": {
              "outlinewidth": 0,
              "ticks": ""
             }
            },
            "type": "scattergl"
           }
          ],
          "scattermapbox": [
           {
            "marker": {
             "colorbar": {
              "outlinewidth": 0,
              "ticks": ""
             }
            },
            "type": "scattermapbox"
           }
          ],
          "scatterpolar": [
           {
            "marker": {
             "colorbar": {
              "outlinewidth": 0,
              "ticks": ""
             }
            },
            "type": "scatterpolar"
           }
          ],
          "scatterpolargl": [
           {
            "marker": {
             "colorbar": {
              "outlinewidth": 0,
              "ticks": ""
             }
            },
            "type": "scatterpolargl"
           }
          ],
          "scatterternary": [
           {
            "marker": {
             "colorbar": {
              "outlinewidth": 0,
              "ticks": ""
             }
            },
            "type": "scatterternary"
           }
          ],
          "surface": [
           {
            "colorbar": {
             "outlinewidth": 0,
             "ticks": ""
            },
            "colorscale": [
             [
              0,
              "#0d0887"
             ],
             [
              0.1111111111111111,
              "#46039f"
             ],
             [
              0.2222222222222222,
              "#7201a8"
             ],
             [
              0.3333333333333333,
              "#9c179e"
             ],
             [
              0.4444444444444444,
              "#bd3786"
             ],
             [
              0.5555555555555556,
              "#d8576b"
             ],
             [
              0.6666666666666666,
              "#ed7953"
             ],
             [
              0.7777777777777778,
              "#fb9f3a"
             ],
             [
              0.8888888888888888,
              "#fdca26"
             ],
             [
              1,
              "#f0f921"
             ]
            ],
            "type": "surface"
           }
          ],
          "table": [
           {
            "cells": {
             "fill": {
              "color": "#EBF0F8"
             },
             "line": {
              "color": "white"
             }
            },
            "header": {
             "fill": {
              "color": "#C8D4E3"
             },
             "line": {
              "color": "white"
             }
            },
            "type": "table"
           }
          ]
         },
         "layout": {
          "annotationdefaults": {
           "arrowcolor": "#2a3f5f",
           "arrowhead": 0,
           "arrowwidth": 1
          },
          "autotypenumbers": "strict",
          "coloraxis": {
           "colorbar": {
            "outlinewidth": 0,
            "ticks": ""
           }
          },
          "colorscale": {
           "diverging": [
            [
             0,
             "#8e0152"
            ],
            [
             0.1,
             "#c51b7d"
            ],
            [
             0.2,
             "#de77ae"
            ],
            [
             0.3,
             "#f1b6da"
            ],
            [
             0.4,
             "#fde0ef"
            ],
            [
             0.5,
             "#f7f7f7"
            ],
            [
             0.6,
             "#e6f5d0"
            ],
            [
             0.7,
             "#b8e186"
            ],
            [
             0.8,
             "#7fbc41"
            ],
            [
             0.9,
             "#4d9221"
            ],
            [
             1,
             "#276419"
            ]
           ],
           "sequential": [
            [
             0,
             "#0d0887"
            ],
            [
             0.1111111111111111,
             "#46039f"
            ],
            [
             0.2222222222222222,
             "#7201a8"
            ],
            [
             0.3333333333333333,
             "#9c179e"
            ],
            [
             0.4444444444444444,
             "#bd3786"
            ],
            [
             0.5555555555555556,
             "#d8576b"
            ],
            [
             0.6666666666666666,
             "#ed7953"
            ],
            [
             0.7777777777777778,
             "#fb9f3a"
            ],
            [
             0.8888888888888888,
             "#fdca26"
            ],
            [
             1,
             "#f0f921"
            ]
           ],
           "sequentialminus": [
            [
             0,
             "#0d0887"
            ],
            [
             0.1111111111111111,
             "#46039f"
            ],
            [
             0.2222222222222222,
             "#7201a8"
            ],
            [
             0.3333333333333333,
             "#9c179e"
            ],
            [
             0.4444444444444444,
             "#bd3786"
            ],
            [
             0.5555555555555556,
             "#d8576b"
            ],
            [
             0.6666666666666666,
             "#ed7953"
            ],
            [
             0.7777777777777778,
             "#fb9f3a"
            ],
            [
             0.8888888888888888,
             "#fdca26"
            ],
            [
             1,
             "#f0f921"
            ]
           ]
          },
          "colorway": [
           "#636efa",
           "#EF553B",
           "#00cc96",
           "#ab63fa",
           "#FFA15A",
           "#19d3f3",
           "#FF6692",
           "#B6E880",
           "#FF97FF",
           "#FECB52"
          ],
          "font": {
           "color": "#2a3f5f"
          },
          "geo": {
           "bgcolor": "white",
           "lakecolor": "white",
           "landcolor": "#E5ECF6",
           "showlakes": true,
           "showland": true,
           "subunitcolor": "white"
          },
          "hoverlabel": {
           "align": "left"
          },
          "hovermode": "closest",
          "mapbox": {
           "style": "light"
          },
          "paper_bgcolor": "white",
          "plot_bgcolor": "#E5ECF6",
          "polar": {
           "angularaxis": {
            "gridcolor": "white",
            "linecolor": "white",
            "ticks": ""
           },
           "bgcolor": "#E5ECF6",
           "radialaxis": {
            "gridcolor": "white",
            "linecolor": "white",
            "ticks": ""
           }
          },
          "scene": {
           "xaxis": {
            "backgroundcolor": "#E5ECF6",
            "gridcolor": "white",
            "gridwidth": 2,
            "linecolor": "white",
            "showbackground": true,
            "ticks": "",
            "zerolinecolor": "white"
           },
           "yaxis": {
            "backgroundcolor": "#E5ECF6",
            "gridcolor": "white",
            "gridwidth": 2,
            "linecolor": "white",
            "showbackground": true,
            "ticks": "",
            "zerolinecolor": "white"
           },
           "zaxis": {
            "backgroundcolor": "#E5ECF6",
            "gridcolor": "white",
            "gridwidth": 2,
            "linecolor": "white",
            "showbackground": true,
            "ticks": "",
            "zerolinecolor": "white"
           }
          },
          "shapedefaults": {
           "line": {
            "color": "#2a3f5f"
           }
          },
          "ternary": {
           "aaxis": {
            "gridcolor": "white",
            "linecolor": "white",
            "ticks": ""
           },
           "baxis": {
            "gridcolor": "white",
            "linecolor": "white",
            "ticks": ""
           },
           "bgcolor": "#E5ECF6",
           "caxis": {
            "gridcolor": "white",
            "linecolor": "white",
            "ticks": ""
           }
          },
          "title": {
           "x": 0.05
          },
          "xaxis": {
           "automargin": true,
           "gridcolor": "white",
           "linecolor": "white",
           "ticks": "",
           "title": {
            "standoff": 15
           },
           "zerolinecolor": "white",
           "zerolinewidth": 2
          },
          "yaxis": {
           "automargin": true,
           "gridcolor": "white",
           "linecolor": "white",
           "ticks": "",
           "title": {
            "standoff": 15
           },
           "zerolinecolor": "white",
           "zerolinewidth": 2
          }
         }
        },
        "title": {
         "text": "Final Stock Level as a Function of Initial Stock and Inflow Rate"
        },
        "xaxis": {
         "title": {
          "text": "Inflow Rate"
         }
        },
        "yaxis": {
         "title": {
          "text": "Initial Stock"
         }
        }
       }
      }
     },
     "metadata": {},
     "output_type": "display_data"
    }
   ],
   "source": [
    "# Create the heatmap\n",
    "heatmap = go.Heatmap(z=results[:,:,0],\n",
    "                     x=inflow_rate_range,\n",
    "                     y=initial_stock_range,\n",
    "                     colorscale='Viridis')\n",
    "\n",
    "# Set the axis labels and title\n",
    "layout = go.Layout(title='Final Stock Level as a Function of Initial Stock and Inflow Rate',\n",
    "                   xaxis=dict(title='Inflow Rate'),\n",
    "                   yaxis=dict(title='Initial Stock'))\n",
    "\n",
    "# Create the figure and plot the heatmap\n",
    "fig = go.Figure(data=[heatmap], layout=layout)\n",
    "\n",
    "fig.show()"
   ]
  },
  {
   "cell_type": "code",
   "execution_count": 10,
   "metadata": {},
   "outputs": [
    {
     "data": {
      "text/plain": [
       "'/Users/ed/Documents/GitHub/Data_Wasootch/LATEST/MODELS/simple_modelsensitivity.html'"
      ]
     },
     "execution_count": 10,
     "metadata": {},
     "output_type": "execute_result"
    }
   ],
   "source": [
    "from pathlib import Path\n",
    "import plotly.offline as pyo\n",
    "\n",
    "path_cwd=str(Path.cwd())\n",
    "\n",
    "#pyo.plot(fig, filename=path_cwd+'sensitivity.html')\n",
    "\n"
   ]
  },
  {
   "cell_type": "code",
   "execution_count": 14,
   "metadata": {},
   "outputs": [
    {
     "data": {
      "text/html": [
       "<iframe\n",
       "    scrolling=\"no\"\n",
       "    width=\"100%\"\n",
       "    height=\"545px\"\n",
       "    src=\"iframe_figures/figure_14.html\"\n",
       "    frameborder=\"0\"\n",
       "    allowfullscreen\n",
       "></iframe>\n"
      ]
     },
     "metadata": {},
     "output_type": "display_data"
    }
   ],
   "source": [
    "import plotly.io as pio\n",
    "\n",
    "pyo.plot(fig, filename='sensitivity.html', auto_open=True, auto_play=False)\n",
    "pio.show(fig, \"iframe\")"
   ]
  },
  {
   "cell_type": "code",
   "execution_count": 9,
   "metadata": {},
   "outputs": [
    {
     "data": {
      "application/vnd.plotly.v1+json": {
       "config": {
        "plotlyServerURL": "https://plot.ly"
       },
       "data": [
        {
         "colorscale": [
          [
           0,
           "#440154"
          ],
          [
           0.1111111111111111,
           "#482878"
          ],
          [
           0.2222222222222222,
           "#3e4989"
          ],
          [
           0.3333333333333333,
           "#31688e"
          ],
          [
           0.4444444444444444,
           "#26828e"
          ],
          [
           0.5555555555555556,
           "#1f9e89"
          ],
          [
           0.6666666666666666,
           "#35b779"
          ],
          [
           0.7777777777777778,
           "#6ece58"
          ],
          [
           0.8888888888888888,
           "#b5de2b"
          ],
          [
           1,
           "#fde725"
          ]
         ],
         "type": "heatmap",
         "x": [
          0,
          5,
          10,
          15,
          20,
          25,
          30,
          35,
          40,
          45,
          50,
          55,
          60,
          65,
          70,
          75,
          80,
          85,
          90,
          95,
          100
         ],
         "xaxis": "x",
         "y": [
          0.1,
          0.2,
          0.30000000000000004,
          0.4,
          0.5,
          0.6,
          0.7000000000000001,
          0.8,
          0.9,
          1
         ],
         "yaxis": "y",
         "z": [
          0,
          5,
          10,
          15,
          20,
          25,
          30,
          35,
          40,
          45,
          50,
          55,
          60,
          65,
          70,
          75,
          80,
          85,
          90,
          95,
          100
         ]
        },
        {
         "colorscale": [
          [
           0,
           "#440154"
          ],
          [
           0.1111111111111111,
           "#482878"
          ],
          [
           0.2222222222222222,
           "#3e4989"
          ],
          [
           0.3333333333333333,
           "#31688e"
          ],
          [
           0.4444444444444444,
           "#26828e"
          ],
          [
           0.5555555555555556,
           "#1f9e89"
          ],
          [
           0.6666666666666666,
           "#35b779"
          ],
          [
           0.7777777777777778,
           "#6ece58"
          ],
          [
           0.8888888888888888,
           "#b5de2b"
          ],
          [
           1,
           "#fde725"
          ]
         ],
         "type": "heatmap",
         "x": [
          0,
          5,
          10,
          15,
          20,
          25,
          30,
          35,
          40,
          45,
          50,
          55,
          60,
          65,
          70,
          75,
          80,
          85,
          90,
          95,
          100
         ],
         "xaxis": "x2",
         "y": [
          0.1,
          0.2,
          0.30000000000000004,
          0.4,
          0.5,
          0.6,
          0.7000000000000001,
          0.8,
          0.9,
          1
         ],
         "yaxis": "y2",
         "z": [
          0,
          0.00014756332715326368,
          0.00029512665430652735,
          0.00044268998145979073,
          0.0005902533086130547,
          0.0007378166357663179,
          0.0008853799629195815,
          0.0010329432900728457,
          0.0011805066172261094,
          0.0013280699443793723,
          0.0014756332715326359,
          0.0016231965986858994,
          0.001770759925839163,
          0.0019183232529924273,
          0.0020658865801456913,
          0.002213449907298953,
          0.002361013234452219,
          0.002508576561605482,
          0.0026561398887587446,
          0.0028037032159120064,
          0.0029512665430652717
         ]
        },
        {
         "colorscale": [
          [
           0,
           "#440154"
          ],
          [
           0.1111111111111111,
           "#482878"
          ],
          [
           0.2222222222222222,
           "#3e4989"
          ],
          [
           0.3333333333333333,
           "#31688e"
          ],
          [
           0.4444444444444444,
           "#26828e"
          ],
          [
           0.5555555555555556,
           "#1f9e89"
          ],
          [
           0.6666666666666666,
           "#35b779"
          ],
          [
           0.7777777777777778,
           "#6ece58"
          ],
          [
           0.8888888888888888,
           "#b5de2b"
          ],
          [
           1,
           "#fde725"
          ]
         ],
         "type": "heatmap",
         "x": [
          0,
          5,
          10,
          15,
          20,
          25,
          30,
          35,
          40,
          45,
          50,
          55,
          60,
          65,
          70,
          75,
          80,
          85,
          90,
          95,
          100
         ],
         "xaxis": "x3",
         "y": [
          0.1,
          0.2,
          0.30000000000000004,
          0.4,
          0.5,
          0.6,
          0.7000000000000001,
          0.8,
          0.9,
          1
         ],
         "yaxis": "y3",
         "z": [
          0,
          1.2731474852090488e-9,
          2.5462949704180975e-9,
          3.819442455627141e-9,
          5.092589940836195e-9,
          6.365737426045244e-9,
          7.638884911254281e-9,
          8.912032396463332e-9,
          1.018517988167239e-8,
          1.1458327366881413e-8,
          1.2731474852090487e-8,
          1.4004622337299543e-8,
          1.5277769822508563e-8,
          1.655091730771763e-8,
          1.7824064792926665e-8,
          1.9097212278135706e-8,
          2.037035976334478e-8,
          2.1643507248553815e-8,
          2.2916654733762826e-8,
          2.4189802218971877e-8,
          2.5462949704180974e-8
         ]
        },
        {
         "colorscale": [
          [
           0,
           "#440154"
          ],
          [
           0.1111111111111111,
           "#482878"
          ],
          [
           0.2222222222222222,
           "#3e4989"
          ],
          [
           0.3333333333333333,
           "#31688e"
          ],
          [
           0.4444444444444444,
           "#26828e"
          ],
          [
           0.5555555555555556,
           "#1f9e89"
          ],
          [
           0.6666666666666666,
           "#35b779"
          ],
          [
           0.7777777777777778,
           "#6ece58"
          ],
          [
           0.8888888888888888,
           "#b5de2b"
          ],
          [
           1,
           "#fde725"
          ]
         ],
         "type": "heatmap",
         "x": [
          0,
          5,
          10,
          15,
          20,
          25,
          30,
          35,
          40,
          45,
          50,
          55,
          60,
          65,
          70,
          75,
          80,
          85,
          90,
          95,
          100
         ],
         "xaxis": "x4",
         "y": [
          0.1,
          0.2,
          0.30000000000000004,
          0.4,
          0.5,
          0.6,
          0.7000000000000001,
          0.8,
          0.9,
          1
         ],
         "yaxis": "y4",
         "z": [
          0,
          2.3103403640176744e-15,
          4.620680728035349e-15,
          6.931021092053029e-15,
          9.241361456070698e-15,
          1.1551701820088376e-14,
          1.3862042184106058e-14,
          1.6172382548123727e-14,
          1.8482722912141395e-14,
          2.079306327615908e-14,
          2.3103403640176752e-14,
          2.541374400419447e-14,
          2.7724084368212115e-14,
          3.003442473222978e-14,
          3.234476509624745e-14,
          3.4655105460265204e-14,
          3.696544582428279e-14,
          3.927578618830057e-14,
          4.158612655231816e-14,
          4.3896466916335854e-14,
          4.6206807280353504e-14
         ]
        },
        {
         "colorscale": [
          [
           0,
           "#440154"
          ],
          [
           0.1111111111111111,
           "#482878"
          ],
          [
           0.2222222222222222,
           "#3e4989"
          ],
          [
           0.3333333333333333,
           "#31688e"
          ],
          [
           0.4444444444444444,
           "#26828e"
          ],
          [
           0.5555555555555556,
           "#1f9e89"
          ],
          [
           0.6666666666666666,
           "#35b779"
          ],
          [
           0.7777777777777778,
           "#6ece58"
          ],
          [
           0.8888888888888888,
           "#b5de2b"
          ],
          [
           1,
           "#fde725"
          ]
         ],
         "type": "heatmap",
         "x": [
          0,
          5,
          10,
          15,
          20,
          25,
          30,
          35,
          40,
          45,
          50,
          55,
          60,
          65,
          70,
          75,
          80,
          85,
          90,
          95,
          100
         ],
         "xaxis": "x5",
         "y": [
          0.1,
          0.2,
          0.30000000000000004,
          0.4,
          0.5,
          0.6,
          0.7000000000000001,
          0.8,
          0.9,
          1
         ],
         "yaxis": "y5",
         "z": [
          0,
          5.444321862500595e-22,
          1.088864372500119e-21,
          1.6332965587501805e-21,
          2.177728745000238e-21,
          2.7221609312503004e-21,
          3.266593117500361e-21,
          3.811025303750413e-21,
          4.355457490000476e-21,
          4.899889676250534e-21,
          5.444321862500601e-21,
          5.988754048750645e-21,
          6.533186235000722e-21,
          7.077618421250778e-21,
          7.622050607500826e-21,
          8.16648279375089e-21,
          8.710914980000952e-21,
          9.25534716625102e-21,
          9.799779352501069e-21,
          1.034421153875114e-20,
          1.0888643725001202e-20
         ]
        },
        {
         "colorscale": [
          [
           0,
           "#440154"
          ],
          [
           0.1111111111111111,
           "#482878"
          ],
          [
           0.2222222222222222,
           "#3e4989"
          ],
          [
           0.3333333333333333,
           "#31688e"
          ],
          [
           0.4444444444444444,
           "#26828e"
          ],
          [
           0.5555555555555556,
           "#1f9e89"
          ],
          [
           0.6666666666666666,
           "#35b779"
          ],
          [
           0.7777777777777778,
           "#6ece58"
          ],
          [
           0.8888888888888888,
           "#b5de2b"
          ],
          [
           1,
           "#fde725"
          ]
         ],
         "type": "heatmap",
         "x": [
          0,
          5,
          10,
          15,
          20,
          25,
          30,
          35,
          40,
          45,
          50,
          55,
          60,
          65,
          70,
          75,
          80,
          85,
          90,
          95,
          100
         ],
         "xaxis": "x6",
         "y": [
          0.1,
          0.2,
          0.30000000000000004,
          0.4,
          0.5,
          0.6,
          0.7000000000000001,
          0.8,
          0.9,
          1
         ],
         "yaxis": "y6",
         "z": [
          0,
          7.888609052210118e-30,
          1.5777218104420236e-29,
          2.3665827156630354e-29,
          3.155443620884047e-29,
          3.944304526105059e-29,
          4.733165431326071e-29,
          5.522026336547083e-29,
          6.310887241768094e-29,
          7.099748146989106e-29,
          7.888609052210118e-29,
          8.67746995743113e-29,
          9.466330862652142e-29,
          1.0255191767873153e-28,
          1.1044052673094165e-28,
          1.1832913578315177e-28,
          1.262177448353619e-28,
          1.34106353887572e-28,
          1.4199496293978212e-28,
          1.4988357199199224e-28,
          1.5777218104420236e-28
         ]
        },
        {
         "colorscale": [
          [
           0,
           "#440154"
          ],
          [
           0.1111111111111111,
           "#482878"
          ],
          [
           0.2222222222222222,
           "#3e4989"
          ],
          [
           0.3333333333333333,
           "#31688e"
          ],
          [
           0.4444444444444444,
           "#26828e"
          ],
          [
           0.5555555555555556,
           "#1f9e89"
          ],
          [
           0.6666666666666666,
           "#35b779"
          ],
          [
           0.7777777777777778,
           "#6ece58"
          ],
          [
           0.8888888888888888,
           "#b5de2b"
          ],
          [
           1,
           "#fde725"
          ]
         ],
         "type": "heatmap",
         "x": [
          0,
          5,
          10,
          15,
          20,
          25,
          30,
          35,
          40,
          45,
          50,
          55,
          60,
          65,
          70,
          75,
          80,
          85,
          90,
          95,
          100
         ],
         "xaxis": "x7",
         "y": [
          0.1,
          0.2,
          0.30000000000000004,
          0.4,
          0.5,
          0.6,
          0.7000000000000001,
          0.8,
          0.9,
          1
         ],
         "yaxis": "y7",
         "z": [
          0,
          2.008672555323704e-39,
          4.017345110647408e-39,
          6.026017665971116e-39,
          8.034690221294816e-39,
          1.0043362776618524e-38,
          1.205203533194223e-38,
          1.4060707887265926e-38,
          1.6069380442589633e-38,
          1.807805299791336e-38,
          2.0086725553237048e-38,
          2.209539810856076e-38,
          2.410407066388446e-38,
          2.6112743219208253e-38,
          2.812141577453185e-38,
          3.0130088329855585e-38,
          3.2138760885179266e-38,
          3.4147433440503e-38,
          3.615610599582672e-38,
          3.816477855115037e-38,
          4.0173451106474095e-38
         ]
        },
        {
         "colorscale": [
          [
           0,
           "#440154"
          ],
          [
           0.1111111111111111,
           "#482878"
          ],
          [
           0.2222222222222222,
           "#3e4989"
          ],
          [
           0.3333333333333333,
           "#31688e"
          ],
          [
           0.4444444444444444,
           "#26828e"
          ],
          [
           0.5555555555555556,
           "#1f9e89"
          ],
          [
           0.6666666666666666,
           "#35b779"
          ],
          [
           0.7777777777777778,
           "#6ece58"
          ],
          [
           0.8888888888888888,
           "#b5de2b"
          ],
          [
           1,
           "#fde725"
          ]
         ],
         "type": "heatmap",
         "x": [
          0,
          5,
          10,
          15,
          20,
          25,
          30,
          35,
          40,
          45,
          50,
          55,
          60,
          65,
          70,
          75,
          80,
          85,
          90,
          95,
          100
         ],
         "xaxis": "x8",
         "y": [
          0.1,
          0.2,
          0.30000000000000004,
          0.4,
          0.5,
          0.6,
          0.7000000000000001,
          0.8,
          0.9,
          1
         ],
         "yaxis": "y8",
         "z": [
          0,
          8.589625345533358e-52,
          1.7179250691066716e-51,
          2.5768876036600137e-51,
          3.435850138213343e-51,
          4.294812672766692e-51,
          5.1537752073200273e-51,
          6.012737741873391e-51,
          6.871700276426686e-51,
          7.730662810980103e-51,
          8.589625345533384e-51,
          9.44858788008671e-51,
          1.0307550414640055e-50,
          1.116651294919339e-50,
          1.2025475483746783e-50,
          1.288443801830017e-50,
          1.3743400552853373e-50,
          1.460236308740679e-50,
          1.5461325621960205e-50,
          1.632028815651348e-50,
          1.7179250691066767e-50
         ]
        },
        {
         "colorscale": [
          [
           0,
           "#440154"
          ],
          [
           0.1111111111111111,
           "#482878"
          ],
          [
           0.2222222222222222,
           "#3e4989"
          ],
          [
           0.3333333333333333,
           "#31688e"
          ],
          [
           0.4444444444444444,
           "#26828e"
          ],
          [
           0.5555555555555556,
           "#1f9e89"
          ],
          [
           0.6666666666666666,
           "#35b779"
          ],
          [
           0.7777777777777778,
           "#6ece58"
          ],
          [
           0.8888888888888888,
           "#b5de2b"
          ],
          [
           1,
           "#fde725"
          ]
         ],
         "type": "heatmap",
         "x": [
          0,
          5,
          10,
          15,
          20,
          25,
          30,
          35,
          40,
          45,
          50,
          55,
          60,
          65,
          70,
          75,
          80,
          85,
          90,
          95,
          100
         ],
         "xaxis": "x9",
         "y": [
          0.1,
          0.2,
          0.30000000000000004,
          0.4,
          0.5,
          0.6,
          0.7000000000000001,
          0.8,
          0.9,
          1
         ],
         "yaxis": "y9",
         "z": [
          0,
          3.1691265005705254e-69,
          6.338253001141051e-69,
          9.507379501711568e-69,
          1.2676506002282102e-68,
          1.5845632502852627e-68,
          1.9014759003423136e-68,
          2.21838855039939e-68,
          2.5353012004564203e-68,
          2.852213850513477e-68,
          3.1691265005705254e-68,
          3.4860391506275903e-68,
          3.802951800684627e-68,
          4.119864450741684e-68,
          4.43677710079878e-68,
          4.753689750855784e-68,
          5.070602400912841e-68,
          5.387515050969878e-68,
          5.704427701026954e-68,
          6.021340351084001e-68,
          6.338253001141051e-68
         ]
        },
        {
         "colorscale": [
          [
           0,
           "#440154"
          ],
          [
           0.1111111111111111,
           "#482878"
          ],
          [
           0.2222222222222222,
           "#3e4989"
          ],
          [
           0.3333333333333333,
           "#31688e"
          ],
          [
           0.4444444444444444,
           "#26828e"
          ],
          [
           0.5555555555555556,
           "#1f9e89"
          ],
          [
           0.6666666666666666,
           "#35b779"
          ],
          [
           0.7777777777777778,
           "#6ece58"
          ],
          [
           0.8888888888888888,
           "#b5de2b"
          ],
          [
           1,
           "#fde725"
          ]
         ],
         "type": "heatmap",
         "x": [
          0,
          5,
          10,
          15,
          20,
          25,
          30,
          35,
          40,
          45,
          50,
          55,
          60,
          65,
          70,
          75,
          80,
          85,
          90,
          95,
          100
         ],
         "xaxis": "x10",
         "y": [
          0.1,
          0.2,
          0.30000000000000004,
          0.4,
          0.5,
          0.6,
          0.7000000000000001,
          0.8,
          0.9,
          1
         ],
         "yaxis": "y10",
         "z": [
          0,
          5.000000000000002e-99,
          1.0000000000000004e-98,
          1.5000000000000175e-98,
          2.000000000000001e-98,
          2.4999999999999998e-98,
          3.000000000000035e-98,
          3.500000000000008e-98,
          4.000000000000002e-98,
          4.500000000000042e-98,
          4.9999999999999995e-98,
          5.500000000000019e-98,
          6.00000000000007e-98,
          6.500000000000007e-98,
          7.000000000000016e-98,
          7.500000000000088e-98,
          8.000000000000003e-98,
          8.500000000000002e-98,
          9.000000000000084e-98,
          9.500000000000021e-98,
          9.999999999999999e-98
         ]
        },
        {
         "colorscale": [
          [
           0,
           "#440154"
          ],
          [
           0.1111111111111111,
           "#482878"
          ],
          [
           0.2222222222222222,
           "#3e4989"
          ],
          [
           0.3333333333333333,
           "#31688e"
          ],
          [
           0.4444444444444444,
           "#26828e"
          ],
          [
           0.5555555555555556,
           "#1f9e89"
          ],
          [
           0.6666666666666666,
           "#35b779"
          ],
          [
           0.7777777777777778,
           "#6ece58"
          ],
          [
           0.8888888888888888,
           "#b5de2b"
          ],
          [
           1,
           "#fde725"
          ]
         ],
         "type": "heatmap",
         "x": [
          0,
          5,
          10,
          15,
          20,
          25,
          30,
          35,
          40,
          45,
          50,
          55,
          60,
          65,
          70,
          75,
          80,
          85,
          90,
          95,
          100
         ],
         "xaxis": "x11",
         "y": [
          0.1,
          0.2,
          0.30000000000000004,
          0.4,
          0.5,
          0.6,
          0.7000000000000001,
          0.8,
          0.9,
          1
         ],
         "yaxis": "y11",
         "z": [
          0,
          62639.146999192104,
          125278.29399838421,
          187917.4409975762,
          250556.58799676842,
          313195.73499596067,
          375834.8819951524,
          438474.02899434493,
          501113.17599353683,
          563752.3229927301,
          626391.4699919213,
          689030.6169911134,
          751669.7639903048,
          814308.9109894985,
          876948.0579886899,
          939587.2049878826,
          1002226.3519870737,
          1064865.498986267,
          1127504.6459854601,
          1190143.7929846493,
          1252782.9399838427
         ]
        },
        {
         "colorscale": [
          [
           0,
           "#440154"
          ],
          [
           0.1111111111111111,
           "#482878"
          ],
          [
           0.2222222222222222,
           "#3e4989"
          ],
          [
           0.3333333333333333,
           "#31688e"
          ],
          [
           0.4444444444444444,
           "#26828e"
          ],
          [
           0.5555555555555556,
           "#1f9e89"
          ],
          [
           0.6666666666666666,
           "#35b779"
          ],
          [
           0.7777777777777778,
           "#6ece58"
          ],
          [
           0.8888888888888888,
           "#b5de2b"
          ],
          [
           1,
           "#fde725"
          ]
         ],
         "type": "heatmap",
         "x": [
          0,
          5,
          10,
          15,
          20,
          25,
          30,
          35,
          40,
          45,
          50,
          55,
          60,
          65,
          70,
          75,
          80,
          85,
          90,
          95,
          100
         ],
         "xaxis": "x12",
         "y": [
          0.1,
          0.2,
          0.30000000000000004,
          0.4,
          0.5,
          0.6,
          0.7000000000000001,
          0.8,
          0.9,
          1
         ],
         "yaxis": "y12",
         "z": [
          0,
          5,
          10,
          15,
          20,
          25,
          30,
          35,
          40,
          45,
          50,
          55,
          60,
          65,
          70,
          75,
          80,
          85,
          90,
          95,
          100
         ]
        },
        {
         "colorscale": [
          [
           0,
           "#440154"
          ],
          [
           0.1111111111111111,
           "#482878"
          ],
          [
           0.2222222222222222,
           "#3e4989"
          ],
          [
           0.3333333333333333,
           "#31688e"
          ],
          [
           0.4444444444444444,
           "#26828e"
          ],
          [
           0.5555555555555556,
           "#1f9e89"
          ],
          [
           0.6666666666666666,
           "#35b779"
          ],
          [
           0.7777777777777778,
           "#6ece58"
          ],
          [
           0.8888888888888888,
           "#b5de2b"
          ],
          [
           1,
           "#fde725"
          ]
         ],
         "type": "heatmap",
         "x": [
          0,
          5,
          10,
          15,
          20,
          25,
          30,
          35,
          40,
          45,
          50,
          55,
          60,
          65,
          70,
          75,
          80,
          85,
          90,
          95,
          100
         ],
         "xaxis": "x13",
         "y": [
          0.1,
          0.2,
          0.30000000000000004,
          0.4,
          0.5,
          0.6,
          0.7000000000000001,
          0.8,
          0.9,
          1
         ],
         "yaxis": "y13",
         "z": [
          0,
          0.00014756332715326314,
          0.00029512665430652627,
          0.0004426899814597892,
          0.0005902533086130525,
          0.0007378166357663155,
          0.0008853799629195784,
          0.0010329432900728437,
          0.001180506617226105,
          0.001328069944379368,
          0.001475633271532631,
          0.0016231965986858942,
          0.0017707599258391569,
          0.0019183232529924178,
          0.0020658865801456874,
          0.0022134499072989458,
          0.00236101323445221,
          0.002508576561605474,
          0.002656139888758736,
          0.002803703215912003,
          0.002951266543065262
         ]
        },
        {
         "colorscale": [
          [
           0,
           "#440154"
          ],
          [
           0.1111111111111111,
           "#482878"
          ],
          [
           0.2222222222222222,
           "#3e4989"
          ],
          [
           0.3333333333333333,
           "#31688e"
          ],
          [
           0.4444444444444444,
           "#26828e"
          ],
          [
           0.5555555555555556,
           "#1f9e89"
          ],
          [
           0.6666666666666666,
           "#35b779"
          ],
          [
           0.7777777777777778,
           "#6ece58"
          ],
          [
           0.8888888888888888,
           "#b5de2b"
          ],
          [
           1,
           "#fde725"
          ]
         ],
         "type": "heatmap",
         "x": [
          0,
          5,
          10,
          15,
          20,
          25,
          30,
          35,
          40,
          45,
          50,
          55,
          60,
          65,
          70,
          75,
          80,
          85,
          90,
          95,
          100
         ],
         "xaxis": "x14",
         "y": [
          0.1,
          0.2,
          0.30000000000000004,
          0.4,
          0.5,
          0.6,
          0.7000000000000001,
          0.8,
          0.9,
          1
         ],
         "yaxis": "y14",
         "z": [
          0,
          1.2731474852090523e-9,
          2.5462949704181046e-9,
          3.819442455627144e-9,
          5.092589940836209e-9,
          6.36573742604526e-9,
          7.638884911254288e-9,
          8.912032396463354e-9,
          1.0185179881672418e-8,
          1.1458327366881446e-8,
          1.273147485209052e-8,
          1.400462233729955e-8,
          1.5277769822508576e-8,
          1.655091730771764e-8,
          1.7824064792926708e-8,
          1.9097212278135723e-8,
          2.0370359763344836e-8,
          2.1643507248553805e-8,
          2.2916654733762892e-8,
          2.4189802218971963e-8,
          2.546294970418104e-8
         ]
        },
        {
         "colorscale": [
          [
           0,
           "#440154"
          ],
          [
           0.1111111111111111,
           "#482878"
          ],
          [
           0.2222222222222222,
           "#3e4989"
          ],
          [
           0.3333333333333333,
           "#31688e"
          ],
          [
           0.4444444444444444,
           "#26828e"
          ],
          [
           0.5555555555555556,
           "#1f9e89"
          ],
          [
           0.6666666666666666,
           "#35b779"
          ],
          [
           0.7777777777777778,
           "#6ece58"
          ],
          [
           0.8888888888888888,
           "#b5de2b"
          ],
          [
           1,
           "#fde725"
          ]
         ],
         "type": "heatmap",
         "x": [
          0,
          5,
          10,
          15,
          20,
          25,
          30,
          35,
          40,
          45,
          50,
          55,
          60,
          65,
          70,
          75,
          80,
          85,
          90,
          95,
          100
         ],
         "xaxis": "x15",
         "y": [
          0.1,
          0.2,
          0.30000000000000004,
          0.4,
          0.5,
          0.6,
          0.7000000000000001,
          0.8,
          0.9,
          1
         ],
         "yaxis": "y15",
         "z": [
          0,
          2.3103403640176863e-15,
          4.6206807280353725e-15,
          6.931021092053056e-15,
          9.241361456070745e-15,
          1.1551701820088438e-14,
          1.3862042184106111e-14,
          1.6172382548123815e-14,
          1.848272291214149e-14,
          2.0793063276159178e-14,
          2.3103403640176875e-14,
          2.541374400419458e-14,
          2.7724084368212223e-14,
          3.0034424732229917e-14,
          3.234476509624763e-14,
          3.465510546026529e-14,
          3.696544582428298e-14,
          3.927578618830067e-14,
          4.1586126552318356e-14,
          4.389646691633603e-14,
          4.620680728035375e-14
         ]
        },
        {
         "colorscale": [
          [
           0,
           "#440154"
          ],
          [
           0.1111111111111111,
           "#482878"
          ],
          [
           0.2222222222222222,
           "#3e4989"
          ],
          [
           0.3333333333333333,
           "#31688e"
          ],
          [
           0.4444444444444444,
           "#26828e"
          ],
          [
           0.5555555555555556,
           "#1f9e89"
          ],
          [
           0.6666666666666666,
           "#35b779"
          ],
          [
           0.7777777777777778,
           "#6ece58"
          ],
          [
           0.8888888888888888,
           "#b5de2b"
          ],
          [
           1,
           "#fde725"
          ]
         ],
         "type": "heatmap",
         "x": [
          0,
          5,
          10,
          15,
          20,
          25,
          30,
          35,
          40,
          45,
          50,
          55,
          60,
          65,
          70,
          75,
          80,
          85,
          90,
          95,
          100
         ],
         "xaxis": "x16",
         "y": [
          0.1,
          0.2,
          0.30000000000000004,
          0.4,
          0.5,
          0.6,
          0.7000000000000001,
          0.8,
          0.9,
          1
         ],
         "yaxis": "y16",
         "z": [
          0,
          5.44432186250062e-22,
          1.088864372500124e-21,
          1.6332965587501818e-21,
          2.177728745000248e-21,
          2.722160931250303e-21,
          3.2665931175003636e-21,
          3.811025303750429e-21,
          4.355457490000496e-21,
          4.899889676250545e-21,
          5.444321862500606e-21,
          5.988754048750666e-21,
          6.533186235000727e-21,
          7.077618421250794e-21,
          7.622050607500858e-21,
          8.166482793750908e-21,
          8.710914980000993e-21,
          9.255347166251035e-21,
          9.79977935250109e-21,
          1.0344211538751176e-20,
          1.0888643725001212e-20
         ]
        },
        {
         "colorscale": [
          [
           0,
           "#440154"
          ],
          [
           0.1111111111111111,
           "#482878"
          ],
          [
           0.2222222222222222,
           "#3e4989"
          ],
          [
           0.3333333333333333,
           "#31688e"
          ],
          [
           0.4444444444444444,
           "#26828e"
          ],
          [
           0.5555555555555556,
           "#1f9e89"
          ],
          [
           0.6666666666666666,
           "#35b779"
          ],
          [
           0.7777777777777778,
           "#6ece58"
          ],
          [
           0.8888888888888888,
           "#b5de2b"
          ],
          [
           1,
           "#fde725"
          ]
         ],
         "type": "heatmap",
         "x": [
          0,
          5,
          10,
          15,
          20,
          25,
          30,
          35,
          40,
          45,
          50,
          55,
          60,
          65,
          70,
          75,
          80,
          85,
          90,
          95,
          100
         ],
         "xaxis": "x17",
         "y": [
          0.1,
          0.2,
          0.30000000000000004,
          0.4,
          0.5,
          0.6,
          0.7000000000000001,
          0.8,
          0.9,
          1
         ],
         "yaxis": "y17",
         "z": [
          0,
          7.888609052210117e-30,
          1.5777218104420233e-29,
          2.3665827156630349e-29,
          3.1554436208840467e-29,
          3.944304526105059e-29,
          4.7331654313260697e-29,
          5.522026336547082e-29,
          6.310887241768093e-29,
          7.099748146989105e-29,
          7.888609052210118e-29,
          8.677469957431128e-29,
          9.466330862652139e-29,
          1.0255191767873151e-28,
          1.1044052673094163e-28,
          1.1832913578315175e-28,
          1.2621774483536187e-28,
          1.3410635388757198e-28,
          1.419949629397821e-28,
          1.4988357199199224e-28,
          1.5777218104420236e-28
         ]
        },
        {
         "colorscale": [
          [
           0,
           "#440154"
          ],
          [
           0.1111111111111111,
           "#482878"
          ],
          [
           0.2222222222222222,
           "#3e4989"
          ],
          [
           0.3333333333333333,
           "#31688e"
          ],
          [
           0.4444444444444444,
           "#26828e"
          ],
          [
           0.5555555555555556,
           "#1f9e89"
          ],
          [
           0.6666666666666666,
           "#35b779"
          ],
          [
           0.7777777777777778,
           "#6ece58"
          ],
          [
           0.8888888888888888,
           "#b5de2b"
          ],
          [
           1,
           "#fde725"
          ]
         ],
         "type": "heatmap",
         "x": [
          0,
          5,
          10,
          15,
          20,
          25,
          30,
          35,
          40,
          45,
          50,
          55,
          60,
          65,
          70,
          75,
          80,
          85,
          90,
          95,
          100
         ],
         "xaxis": "x18",
         "y": [
          0.1,
          0.2,
          0.30000000000000004,
          0.4,
          0.5,
          0.6,
          0.7000000000000001,
          0.8,
          0.9,
          1
         ],
         "yaxis": "y18",
         "z": [
          0,
          2.0086725553237126e-39,
          4.017345110647425e-39,
          6.026017665971138e-39,
          8.03469022129485e-39,
          1.0043362776618563e-38,
          1.2052035331942276e-38,
          1.406070788726601e-38,
          1.60693804425897e-38,
          1.807805299791345e-38,
          2.0086725553237126e-38,
          2.2095398108560917e-38,
          2.410407066388455e-38,
          2.611274321920836e-38,
          2.812141577453202e-38,
          3.013008832985569e-38,
          3.21387608851794e-38,
          3.4147433440503135e-38,
          3.61561059958269e-38,
          3.8164778551150466e-38,
          4.017345110647425e-38
         ]
        },
        {
         "colorscale": [
          [
           0,
           "#440154"
          ],
          [
           0.1111111111111111,
           "#482878"
          ],
          [
           0.2222222222222222,
           "#3e4989"
          ],
          [
           0.3333333333333333,
           "#31688e"
          ],
          [
           0.4444444444444444,
           "#26828e"
          ],
          [
           0.5555555555555556,
           "#1f9e89"
          ],
          [
           0.6666666666666666,
           "#35b779"
          ],
          [
           0.7777777777777778,
           "#6ece58"
          ],
          [
           0.8888888888888888,
           "#b5de2b"
          ],
          [
           1,
           "#fde725"
          ]
         ],
         "type": "heatmap",
         "x": [
          0,
          5,
          10,
          15,
          20,
          25,
          30,
          35,
          40,
          45,
          50,
          55,
          60,
          65,
          70,
          75,
          80,
          85,
          90,
          95,
          100
         ],
         "xaxis": "x19",
         "y": [
          0.1,
          0.2,
          0.30000000000000004,
          0.4,
          0.5,
          0.6,
          0.7000000000000001,
          0.8,
          0.9,
          1
         ],
         "yaxis": "y19",
         "z": [
          0,
          8.589625345533423e-52,
          1.7179250691066847e-51,
          2.5768876036600362e-51,
          3.4358501382133693e-51,
          4.2948126727667274e-51,
          5.1537752073200724e-51,
          6.01273774187342e-51,
          6.871700276426739e-51,
          7.730662810980096e-51,
          8.589625345533455e-51,
          9.448587880086762e-51,
          1.0307550414640145e-50,
          1.1166512949193518e-50,
          1.202547548374684e-50,
          1.288443801830016e-50,
          1.3743400552853477e-50,
          1.460236308740679e-50,
          1.546132562196019e-50,
          1.6320288156513574e-50,
          1.717925069106691e-50
         ]
        },
        {
         "colorscale": [
          [
           0,
           "#440154"
          ],
          [
           0.1111111111111111,
           "#482878"
          ],
          [
           0.2222222222222222,
           "#3e4989"
          ],
          [
           0.3333333333333333,
           "#31688e"
          ],
          [
           0.4444444444444444,
           "#26828e"
          ],
          [
           0.5555555555555556,
           "#1f9e89"
          ],
          [
           0.6666666666666666,
           "#35b779"
          ],
          [
           0.7777777777777778,
           "#6ece58"
          ],
          [
           0.8888888888888888,
           "#b5de2b"
          ],
          [
           1,
           "#fde725"
          ]
         ],
         "type": "heatmap",
         "x": [
          0,
          5,
          10,
          15,
          20,
          25,
          30,
          35,
          40,
          45,
          50,
          55,
          60,
          65,
          70,
          75,
          80,
          85,
          90,
          95,
          100
         ],
         "xaxis": "x20",
         "y": [
          0.1,
          0.2,
          0.30000000000000004,
          0.4,
          0.5,
          0.6,
          0.7000000000000001,
          0.8,
          0.9,
          1
         ],
         "yaxis": "y20",
         "z": [
          0,
          3.1691265005705584e-69,
          6.338253001141117e-69,
          9.507379501711683e-69,
          1.2676506002282234e-68,
          1.58456325028528e-68,
          1.9014759003423367e-68,
          2.2183885503994016e-68,
          2.5353012004564467e-68,
          2.85221385051351e-68,
          3.16912650057056e-68,
          3.486039150627633e-68,
          3.802951800684673e-68,
          4.119864450741756e-68,
          4.436777100798803e-68,
          4.75368975085584e-68,
          5.070602400912893e-68,
          5.38751505096995e-68,
          5.70442770102702e-68,
          6.021340351084096e-68,
          6.33825300114112e-68
         ]
        },
        {
         "colorscale": [
          [
           0,
           "#440154"
          ],
          [
           0.1111111111111111,
           "#482878"
          ],
          [
           0.2222222222222222,
           "#3e4989"
          ],
          [
           0.3333333333333333,
           "#31688e"
          ],
          [
           0.4444444444444444,
           "#26828e"
          ],
          [
           0.5555555555555556,
           "#1f9e89"
          ],
          [
           0.6666666666666666,
           "#35b779"
          ],
          [
           0.7777777777777778,
           "#6ece58"
          ],
          [
           0.8888888888888888,
           "#b5de2b"
          ],
          [
           1,
           "#fde725"
          ]
         ],
         "type": "heatmap",
         "x": [
          0,
          5,
          10,
          15,
          20,
          25,
          30,
          35,
          40,
          45,
          50,
          55,
          60,
          65,
          70,
          75,
          80,
          85,
          90,
          95,
          100
         ],
         "xaxis": "x21",
         "y": [
          0.1,
          0.2,
          0.30000000000000004,
          0.4,
          0.5,
          0.6,
          0.7000000000000001,
          0.8,
          0.9,
          1
         ],
         "yaxis": "y21",
         "z": [
          0,
          345074893.84172815,
          690149787.6834563,
          1035224681.5251842,
          1380299575.3669126,
          1725374469.2086403,
          2070449363.0503683,
          2415524256.892097,
          2760599150.733825,
          3105674044.5755568,
          3450748938.4172807,
          3795823832.2590113,
          4140898726.1007366,
          4485973619.942478,
          4831048513.784194,
          5176123407.625927,
          5521198301.46765,
          5866273195.309377,
          6211348089.1511135,
          6556422982.992834,
          6901497876.834561
         ]
        },
        {
         "colorscale": [
          [
           0,
           "#440154"
          ],
          [
           0.1111111111111111,
           "#482878"
          ],
          [
           0.2222222222222222,
           "#3e4989"
          ],
          [
           0.3333333333333333,
           "#31688e"
          ],
          [
           0.4444444444444444,
           "#26828e"
          ],
          [
           0.5555555555555556,
           "#1f9e89"
          ],
          [
           0.6666666666666666,
           "#35b779"
          ],
          [
           0.7777777777777778,
           "#6ece58"
          ],
          [
           0.8888888888888888,
           "#b5de2b"
          ],
          [
           1,
           "#fde725"
          ]
         ],
         "type": "heatmap",
         "x": [
          0,
          5,
          10,
          15,
          20,
          25,
          30,
          35,
          40,
          45,
          50,
          55,
          60,
          65,
          70,
          75,
          80,
          85,
          90,
          95,
          100
         ],
         "xaxis": "x22",
         "y": [
          0.1,
          0.2,
          0.30000000000000004,
          0.4,
          0.5,
          0.6,
          0.7000000000000001,
          0.8,
          0.9,
          1
         ],
         "yaxis": "y22",
         "z": [
          0,
          62639.14699919238,
          125278.29399838476,
          187917.44099757707,
          250556.58799676952,
          313195.7349959612,
          375834.88199515414,
          438474.0289943459,
          501113.17599353904,
          563752.3229927302,
          626391.4699919224,
          689030.6169911147,
          751669.7639903083,
          814308.9109894997,
          876948.0579886918,
          939587.2049878838,
          1002226.3519870781,
          1064865.4989862684,
          1127504.6459854604,
          1190143.792984656,
          1252782.9399838448
         ]
        },
        {
         "colorscale": [
          [
           0,
           "#440154"
          ],
          [
           0.1111111111111111,
           "#482878"
          ],
          [
           0.2222222222222222,
           "#3e4989"
          ],
          [
           0.3333333333333333,
           "#31688e"
          ],
          [
           0.4444444444444444,
           "#26828e"
          ],
          [
           0.5555555555555556,
           "#1f9e89"
          ],
          [
           0.6666666666666666,
           "#35b779"
          ],
          [
           0.7777777777777778,
           "#6ece58"
          ],
          [
           0.8888888888888888,
           "#b5de2b"
          ],
          [
           1,
           "#fde725"
          ]
         ],
         "type": "heatmap",
         "x": [
          0,
          5,
          10,
          15,
          20,
          25,
          30,
          35,
          40,
          45,
          50,
          55,
          60,
          65,
          70,
          75,
          80,
          85,
          90,
          95,
          100
         ],
         "xaxis": "x23",
         "y": [
          0.1,
          0.2,
          0.30000000000000004,
          0.4,
          0.5,
          0.6,
          0.7000000000000001,
          0.8,
          0.9,
          1
         ],
         "yaxis": "y23",
         "z": [
          0,
          5,
          10,
          15,
          20,
          25,
          30,
          35,
          40,
          45,
          50,
          55,
          60,
          65,
          70,
          75,
          80,
          85,
          90,
          95,
          100
         ]
        },
        {
         "colorscale": [
          [
           0,
           "#440154"
          ],
          [
           0.1111111111111111,
           "#482878"
          ],
          [
           0.2222222222222222,
           "#3e4989"
          ],
          [
           0.3333333333333333,
           "#31688e"
          ],
          [
           0.4444444444444444,
           "#26828e"
          ],
          [
           0.5555555555555556,
           "#1f9e89"
          ],
          [
           0.6666666666666666,
           "#35b779"
          ],
          [
           0.7777777777777778,
           "#6ece58"
          ],
          [
           0.8888888888888888,
           "#b5de2b"
          ],
          [
           1,
           "#fde725"
          ]
         ],
         "type": "heatmap",
         "x": [
          0,
          5,
          10,
          15,
          20,
          25,
          30,
          35,
          40,
          45,
          50,
          55,
          60,
          65,
          70,
          75,
          80,
          85,
          90,
          95,
          100
         ],
         "xaxis": "x24",
         "y": [
          0.1,
          0.2,
          0.30000000000000004,
          0.4,
          0.5,
          0.6,
          0.7000000000000001,
          0.8,
          0.9,
          1
         ],
         "yaxis": "y24",
         "z": [
          0,
          0.00014756332715326406,
          0.0002951266543065281,
          0.0004426899814597923,
          0.0005902533086130562,
          0.0007378166357663203,
          0.0008853799629195846,
          0.001032943290072847,
          0.0011805066172261125,
          0.0013280699443793766,
          0.0014756332715326406,
          0.0016231965986859057,
          0.0017707599258391692,
          0.0019183232529924334,
          0.002065886580145694,
          0.00221344990729896,
          0.002361013234452225,
          0.0025085765616054898,
          0.0026561398887587533,
          0.002803703215912016,
          0.0029512665430652812
         ]
        },
        {
         "colorscale": [
          [
           0,
           "#440154"
          ],
          [
           0.1111111111111111,
           "#482878"
          ],
          [
           0.2222222222222222,
           "#3e4989"
          ],
          [
           0.3333333333333333,
           "#31688e"
          ],
          [
           0.4444444444444444,
           "#26828e"
          ],
          [
           0.5555555555555556,
           "#1f9e89"
          ],
          [
           0.6666666666666666,
           "#35b779"
          ],
          [
           0.7777777777777778,
           "#6ece58"
          ],
          [
           0.8888888888888888,
           "#b5de2b"
          ],
          [
           1,
           "#fde725"
          ]
         ],
         "type": "heatmap",
         "x": [
          0,
          5,
          10,
          15,
          20,
          25,
          30,
          35,
          40,
          45,
          50,
          55,
          60,
          65,
          70,
          75,
          80,
          85,
          90,
          95,
          100
         ],
         "xaxis": "x25",
         "y": [
          0.1,
          0.2,
          0.30000000000000004,
          0.4,
          0.5,
          0.6,
          0.7000000000000001,
          0.8,
          0.9,
          1
         ],
         "yaxis": "y25",
         "z": [
          0,
          1.2731474852090608e-9,
          2.5462949704181215e-9,
          3.8194424556271845e-9,
          5.092589940836243e-9,
          6.365737426045303e-9,
          7.638884911254369e-9,
          8.912032396463432e-9,
          1.0185179881672486e-8,
          1.1458327366881542e-8,
          1.2731474852090606e-8,
          1.400462233729969e-8,
          1.5277769822508738e-8,
          1.6550917307717783e-8,
          1.7824064792926863e-8,
          1.909721227813592e-8,
          2.0370359763344972e-8,
          2.164350724855404e-8,
          2.2916654733763084e-8,
          2.4189802218972158e-8,
          2.5462949704181213e-8
         ]
        },
        {
         "colorscale": [
          [
           0,
           "#440154"
          ],
          [
           0.1111111111111111,
           "#482878"
          ],
          [
           0.2222222222222222,
           "#3e4989"
          ],
          [
           0.3333333333333333,
           "#31688e"
          ],
          [
           0.4444444444444444,
           "#26828e"
          ],
          [
           0.5555555555555556,
           "#1f9e89"
          ],
          [
           0.6666666666666666,
           "#35b779"
          ],
          [
           0.7777777777777778,
           "#6ece58"
          ],
          [
           0.8888888888888888,
           "#b5de2b"
          ],
          [
           1,
           "#fde725"
          ]
         ],
         "type": "heatmap",
         "x": [
          0,
          5,
          10,
          15,
          20,
          25,
          30,
          35,
          40,
          45,
          50,
          55,
          60,
          65,
          70,
          75,
          80,
          85,
          90,
          95,
          100
         ],
         "xaxis": "x26",
         "y": [
          0.1,
          0.2,
          0.30000000000000004,
          0.4,
          0.5,
          0.6,
          0.7000000000000001,
          0.8,
          0.9,
          1
         ],
         "yaxis": "y26",
         "z": [
          0,
          2.3103403640177044e-15,
          4.620680728035409e-15,
          6.9310210920531195e-15,
          9.241361456070818e-15,
          1.15517018200885e-14,
          1.3862042184106239e-14,
          1.6172382548123906e-14,
          1.8482722912141635e-14,
          2.0793063276159342e-14,
          2.3103403640177e-14,
          2.541374400419474e-14,
          2.7724084368212478e-14,
          3.0034424732230156e-14,
          3.234476509624781e-14,
          3.465510546026555e-14,
          3.696544582428327e-14,
          3.927578618830095e-14,
          4.1586126552318684e-14,
          4.389646691633639e-14,
          4.6206807280354e-14
         ]
        },
        {
         "colorscale": [
          [
           0,
           "#440154"
          ],
          [
           0.1111111111111111,
           "#482878"
          ],
          [
           0.2222222222222222,
           "#3e4989"
          ],
          [
           0.3333333333333333,
           "#31688e"
          ],
          [
           0.4444444444444444,
           "#26828e"
          ],
          [
           0.5555555555555556,
           "#1f9e89"
          ],
          [
           0.6666666666666666,
           "#35b779"
          ],
          [
           0.7777777777777778,
           "#6ece58"
          ],
          [
           0.8888888888888888,
           "#b5de2b"
          ],
          [
           1,
           "#fde725"
          ]
         ],
         "type": "heatmap",
         "x": [
          0,
          5,
          10,
          15,
          20,
          25,
          30,
          35,
          40,
          45,
          50,
          55,
          60,
          65,
          70,
          75,
          80,
          85,
          90,
          95,
          100
         ],
         "xaxis": "x27",
         "y": [
          0.1,
          0.2,
          0.30000000000000004,
          0.4,
          0.5,
          0.6,
          0.7000000000000001,
          0.8,
          0.9,
          1
         ],
         "yaxis": "y27",
         "z": [
          0,
          5.444321862500567e-22,
          1.0888643725001134e-21,
          1.6332965587501692e-21,
          2.1777287450002267e-21,
          2.7221609312502824e-21,
          3.2665931175003384e-21,
          3.811025303750406e-21,
          4.3554574900004534e-21,
          4.899889676250508e-21,
          5.444321862500565e-21,
          5.988754048750618e-21,
          6.533186235000677e-21,
          7.077618421250742e-21,
          7.622050607500811e-21,
          8.166482793750846e-21,
          8.710914980000907e-21,
          9.255347166250966e-21,
          9.799779352501016e-21,
          1.0344211538751107e-20,
          1.088864372500113e-20
         ]
        },
        {
         "colorscale": [
          [
           0,
           "#440154"
          ],
          [
           0.1111111111111111,
           "#482878"
          ],
          [
           0.2222222222222222,
           "#3e4989"
          ],
          [
           0.3333333333333333,
           "#31688e"
          ],
          [
           0.4444444444444444,
           "#26828e"
          ],
          [
           0.5555555555555556,
           "#1f9e89"
          ],
          [
           0.6666666666666666,
           "#35b779"
          ],
          [
           0.7777777777777778,
           "#6ece58"
          ],
          [
           0.8888888888888888,
           "#b5de2b"
          ],
          [
           1,
           "#fde725"
          ]
         ],
         "type": "heatmap",
         "x": [
          0,
          5,
          10,
          15,
          20,
          25,
          30,
          35,
          40,
          45,
          50,
          55,
          60,
          65,
          70,
          75,
          80,
          85,
          90,
          95,
          100
         ],
         "xaxis": "x28",
         "y": [
          0.1,
          0.2,
          0.30000000000000004,
          0.4,
          0.5,
          0.6,
          0.7000000000000001,
          0.8,
          0.9,
          1
         ],
         "yaxis": "y28",
         "z": [
          0,
          7.888609052210118e-30,
          1.5777218104420236e-29,
          2.3665827156630354e-29,
          3.155443620884047e-29,
          3.944304526105059e-29,
          4.733165431326071e-29,
          5.522026336547083e-29,
          6.310887241768094e-29,
          7.099748146989106e-29,
          7.888609052210118e-29,
          8.67746995743113e-29,
          9.466330862652142e-29,
          1.0255191767873153e-28,
          1.1044052673094165e-28,
          1.1832913578315177e-28,
          1.262177448353619e-28,
          1.34106353887572e-28,
          1.4199496293978212e-28,
          1.4988357199199224e-28,
          1.5777218104420236e-28
         ]
        },
        {
         "colorscale": [
          [
           0,
           "#440154"
          ],
          [
           0.1111111111111111,
           "#482878"
          ],
          [
           0.2222222222222222,
           "#3e4989"
          ],
          [
           0.3333333333333333,
           "#31688e"
          ],
          [
           0.4444444444444444,
           "#26828e"
          ],
          [
           0.5555555555555556,
           "#1f9e89"
          ],
          [
           0.6666666666666666,
           "#35b779"
          ],
          [
           0.7777777777777778,
           "#6ece58"
          ],
          [
           0.8888888888888888,
           "#b5de2b"
          ],
          [
           1,
           "#fde725"
          ]
         ],
         "type": "heatmap",
         "x": [
          0,
          5,
          10,
          15,
          20,
          25,
          30,
          35,
          40,
          45,
          50,
          55,
          60,
          65,
          70,
          75,
          80,
          85,
          90,
          95,
          100
         ],
         "xaxis": "x29",
         "y": [
          0.1,
          0.2,
          0.30000000000000004,
          0.4,
          0.5,
          0.6,
          0.7000000000000001,
          0.8,
          0.9,
          1
         ],
         "yaxis": "y29",
         "z": [
          0,
          2.008672555323749e-39,
          4.017345110647498e-39,
          6.026017665971221e-39,
          8.034690221294997e-39,
          1.0043362776618743e-38,
          1.2052035331942443e-38,
          1.4060707887266187e-38,
          1.6069380442589993e-38,
          1.807805299791367e-38,
          2.0086725553237486e-38,
          2.2095398108561214e-38,
          2.4104070663884885e-38,
          2.611274321920867e-38,
          2.8121415774532373e-38,
          3.0130088329856107e-38,
          3.2138760885179986e-38,
          3.4147433440503803e-38,
          3.615610599582734e-38,
          3.8164778551151155e-38,
          4.017345110647497e-38
         ]
        },
        {
         "colorscale": [
          [
           0,
           "#440154"
          ],
          [
           0.1111111111111111,
           "#482878"
          ],
          [
           0.2222222222222222,
           "#3e4989"
          ],
          [
           0.3333333333333333,
           "#31688e"
          ],
          [
           0.4444444444444444,
           "#26828e"
          ],
          [
           0.5555555555555556,
           "#1f9e89"
          ],
          [
           0.6666666666666666,
           "#35b779"
          ],
          [
           0.7777777777777778,
           "#6ece58"
          ],
          [
           0.8888888888888888,
           "#b5de2b"
          ],
          [
           1,
           "#fde725"
          ]
         ],
         "type": "heatmap",
         "x": [
          0,
          5,
          10,
          15,
          20,
          25,
          30,
          35,
          40,
          45,
          50,
          55,
          60,
          65,
          70,
          75,
          80,
          85,
          90,
          95,
          100
         ],
         "xaxis": "x30",
         "y": [
          0.1,
          0.2,
          0.30000000000000004,
          0.4,
          0.5,
          0.6,
          0.7000000000000001,
          0.8,
          0.9,
          1
         ],
         "yaxis": "y30",
         "z": [
          0,
          8.589625345533676e-52,
          1.717925069106735e-51,
          2.576887603660104e-51,
          3.43585013821347e-51,
          4.294812672766839e-51,
          5.153775207320208e-51,
          6.012737741873557e-51,
          6.87170027642694e-51,
          7.730662810980271e-51,
          8.589625345533678e-51,
          9.448587880087051e-51,
          1.0307550414640415e-50,
          1.1166512949193808e-50,
          1.2025475483747115e-50,
          1.288443801830045e-50,
          1.374340055285388e-50,
          1.4602363087407254e-50,
          1.5461325621960542e-50,
          1.6320288156513906e-50,
          1.7179250691067356e-50
         ]
        },
        {
         "colorscale": [
          [
           0,
           "#440154"
          ],
          [
           0.1111111111111111,
           "#482878"
          ],
          [
           0.2222222222222222,
           "#3e4989"
          ],
          [
           0.3333333333333333,
           "#31688e"
          ],
          [
           0.4444444444444444,
           "#26828e"
          ],
          [
           0.5555555555555556,
           "#1f9e89"
          ],
          [
           0.6666666666666666,
           "#35b779"
          ],
          [
           0.7777777777777778,
           "#6ece58"
          ],
          [
           0.8888888888888888,
           "#b5de2b"
          ],
          [
           1,
           "#fde725"
          ]
         ],
         "type": "heatmap",
         "x": [
          0,
          5,
          10,
          15,
          20,
          25,
          30,
          35,
          40,
          45,
          50,
          55,
          60,
          65,
          70,
          75,
          80,
          85,
          90,
          95,
          100
         ],
         "xaxis": "x31",
         "y": [
          0.1,
          0.2,
          0.30000000000000004,
          0.4,
          0.5,
          0.6,
          0.7000000000000001,
          0.8,
          0.9,
          1
         ],
         "yaxis": "y31",
         "z": [
          0,
          953590427294.6055,
          1907180854589.211,
          2860771281883.82,
          3814361709178.422,
          4767952136473.035,
          5721542563767.64,
          6675132991062.241,
          7628723418356.844,
          8582313845651.451,
          9535904272946.07,
          10489494700240.668,
          11443085127535.28,
          12396675554829.89,
          13350265982124.482,
          14303856409419.1,
          15257446836713.688,
          16211037264008.271,
          17164627691302.902,
          18118218118597.504,
          19071808545892.14
         ]
        },
        {
         "colorscale": [
          [
           0,
           "#440154"
          ],
          [
           0.1111111111111111,
           "#482878"
          ],
          [
           0.2222222222222222,
           "#3e4989"
          ],
          [
           0.3333333333333333,
           "#31688e"
          ],
          [
           0.4444444444444444,
           "#26828e"
          ],
          [
           0.5555555555555556,
           "#1f9e89"
          ],
          [
           0.6666666666666666,
           "#35b779"
          ],
          [
           0.7777777777777778,
           "#6ece58"
          ],
          [
           0.8888888888888888,
           "#b5de2b"
          ],
          [
           1,
           "#fde725"
          ]
         ],
         "type": "heatmap",
         "x": [
          0,
          5,
          10,
          15,
          20,
          25,
          30,
          35,
          40,
          45,
          50,
          55,
          60,
          65,
          70,
          75,
          80,
          85,
          90,
          95,
          100
         ],
         "xaxis": "x32",
         "y": [
          0.1,
          0.2,
          0.30000000000000004,
          0.4,
          0.5,
          0.6,
          0.7000000000000001,
          0.8,
          0.9,
          1
         ],
         "yaxis": "y32",
         "z": [
          0,
          345074893.8417274,
          690149787.6834548,
          1035224681.5251803,
          1380299575.3669095,
          1725374469.208634,
          2070449363.0503607,
          2415524256.892088,
          2760599150.733819,
          3105674044.5755463,
          3450748938.417268,
          3795823832.2589984,
          4140898726.1007214,
          4485973619.9424515,
          4831048513.784176,
          5176123407.625911,
          5521198301.467638,
          5866273195.30936,
          6211348089.151093,
          6556422982.992815,
          6901497876.834536
         ]
        },
        {
         "colorscale": [
          [
           0,
           "#440154"
          ],
          [
           0.1111111111111111,
           "#482878"
          ],
          [
           0.2222222222222222,
           "#3e4989"
          ],
          [
           0.3333333333333333,
           "#31688e"
          ],
          [
           0.4444444444444444,
           "#26828e"
          ],
          [
           0.5555555555555556,
           "#1f9e89"
          ],
          [
           0.6666666666666666,
           "#35b779"
          ],
          [
           0.7777777777777778,
           "#6ece58"
          ],
          [
           0.8888888888888888,
           "#b5de2b"
          ],
          [
           1,
           "#fde725"
          ]
         ],
         "type": "heatmap",
         "x": [
          0,
          5,
          10,
          15,
          20,
          25,
          30,
          35,
          40,
          45,
          50,
          55,
          60,
          65,
          70,
          75,
          80,
          85,
          90,
          95,
          100
         ],
         "xaxis": "x33",
         "y": [
          0.1,
          0.2,
          0.30000000000000004,
          0.4,
          0.5,
          0.6,
          0.7000000000000001,
          0.8,
          0.9,
          1
         ],
         "yaxis": "y33",
         "z": [
          0,
          62639.14699919188,
          125278.29399838376,
          187917.44099757617,
          250556.5879967675,
          313195.7349959598,
          375834.88199515233,
          438474.02899434377,
          501113.175993535,
          563752.3229927283,
          626391.4699919196,
          689030.6169911115,
          751669.7639903047,
          814308.9109894966,
          876948.0579886875,
          939587.2049878802,
          1002226.35198707,
          1064865.498986264,
          1127504.6459854566,
          1190143.7929846481,
          1252782.9399838392
         ]
        },
        {
         "colorscale": [
          [
           0,
           "#440154"
          ],
          [
           0.1111111111111111,
           "#482878"
          ],
          [
           0.2222222222222222,
           "#3e4989"
          ],
          [
           0.3333333333333333,
           "#31688e"
          ],
          [
           0.4444444444444444,
           "#26828e"
          ],
          [
           0.5555555555555556,
           "#1f9e89"
          ],
          [
           0.6666666666666666,
           "#35b779"
          ],
          [
           0.7777777777777778,
           "#6ece58"
          ],
          [
           0.8888888888888888,
           "#b5de2b"
          ],
          [
           1,
           "#fde725"
          ]
         ],
         "type": "heatmap",
         "x": [
          0,
          5,
          10,
          15,
          20,
          25,
          30,
          35,
          40,
          45,
          50,
          55,
          60,
          65,
          70,
          75,
          80,
          85,
          90,
          95,
          100
         ],
         "xaxis": "x34",
         "y": [
          0.1,
          0.2,
          0.30000000000000004,
          0.4,
          0.5,
          0.6,
          0.7000000000000001,
          0.8,
          0.9,
          1
         ],
         "yaxis": "y34",
         "z": [
          0,
          5,
          10,
          15,
          20,
          25,
          30,
          35,
          40,
          45,
          50,
          55,
          60,
          65,
          70,
          75,
          80,
          85,
          90,
          95,
          100
         ]
        },
        {
         "colorscale": [
          [
           0,
           "#440154"
          ],
          [
           0.1111111111111111,
           "#482878"
          ],
          [
           0.2222222222222222,
           "#3e4989"
          ],
          [
           0.3333333333333333,
           "#31688e"
          ],
          [
           0.4444444444444444,
           "#26828e"
          ],
          [
           0.5555555555555556,
           "#1f9e89"
          ],
          [
           0.6666666666666666,
           "#35b779"
          ],
          [
           0.7777777777777778,
           "#6ece58"
          ],
          [
           0.8888888888888888,
           "#b5de2b"
          ],
          [
           1,
           "#fde725"
          ]
         ],
         "type": "heatmap",
         "x": [
          0,
          5,
          10,
          15,
          20,
          25,
          30,
          35,
          40,
          45,
          50,
          55,
          60,
          65,
          70,
          75,
          80,
          85,
          90,
          95,
          100
         ],
         "xaxis": "x35",
         "y": [
          0.1,
          0.2,
          0.30000000000000004,
          0.4,
          0.5,
          0.6,
          0.7000000000000001,
          0.8,
          0.9,
          1
         ],
         "yaxis": "y35",
         "z": [
          0,
          0.00014756332715326406,
          0.0002951266543065281,
          0.00044268998145979225,
          0.0005902533086130562,
          0.0007378166357663203,
          0.0008853799629195845,
          0.0010329432900728478,
          0.0011805066172261125,
          0.0013280699443793766,
          0.0014756332715326406,
          0.0016231965986859046,
          0.001770759925839169,
          0.0019183232529924325,
          0.0020658865801456957,
          0.002213449907298959,
          0.002361013234452225,
          0.0025085765616054954,
          0.0026561398887587533,
          0.0028037032159120142,
          0.0029512665430652812
         ]
        },
        {
         "colorscale": [
          [
           0,
           "#440154"
          ],
          [
           0.1111111111111111,
           "#482878"
          ],
          [
           0.2222222222222222,
           "#3e4989"
          ],
          [
           0.3333333333333333,
           "#31688e"
          ],
          [
           0.4444444444444444,
           "#26828e"
          ],
          [
           0.5555555555555556,
           "#1f9e89"
          ],
          [
           0.6666666666666666,
           "#35b779"
          ],
          [
           0.7777777777777778,
           "#6ece58"
          ],
          [
           0.8888888888888888,
           "#b5de2b"
          ],
          [
           1,
           "#fde725"
          ]
         ],
         "type": "heatmap",
         "x": [
          0,
          5,
          10,
          15,
          20,
          25,
          30,
          35,
          40,
          45,
          50,
          55,
          60,
          65,
          70,
          75,
          80,
          85,
          90,
          95,
          100
         ],
         "xaxis": "x36",
         "y": [
          0.1,
          0.2,
          0.30000000000000004,
          0.4,
          0.5,
          0.6,
          0.7000000000000001,
          0.8,
          0.9,
          1
         ],
         "yaxis": "y36",
         "z": [
          0,
          1.27314748520906e-9,
          2.54629497041812e-9,
          3.819442455627175e-9,
          5.09258994083624e-9,
          6.365737426045301e-9,
          7.63888491125435e-9,
          8.912032396463418e-9,
          1.018517988167248e-8,
          1.1458327366881497e-8,
          1.2731474852090601e-8,
          1.4004622337299647e-8,
          1.52777698225087e-8,
          1.6550917307717802e-8,
          1.7824064792926837e-8,
          1.9097212278135875e-8,
          2.037035976334496e-8,
          2.1643507248553997e-8,
          2.2916654733762995e-8,
          2.418980221897218e-8,
          2.5462949704181203e-8
         ]
        },
        {
         "colorscale": [
          [
           0,
           "#440154"
          ],
          [
           0.1111111111111111,
           "#482878"
          ],
          [
           0.2222222222222222,
           "#3e4989"
          ],
          [
           0.3333333333333333,
           "#31688e"
          ],
          [
           0.4444444444444444,
           "#26828e"
          ],
          [
           0.5555555555555556,
           "#1f9e89"
          ],
          [
           0.6666666666666666,
           "#35b779"
          ],
          [
           0.7777777777777778,
           "#6ece58"
          ],
          [
           0.8888888888888888,
           "#b5de2b"
          ],
          [
           1,
           "#fde725"
          ]
         ],
         "type": "heatmap",
         "x": [
          0,
          5,
          10,
          15,
          20,
          25,
          30,
          35,
          40,
          45,
          50,
          55,
          60,
          65,
          70,
          75,
          80,
          85,
          90,
          95,
          100
         ],
         "xaxis": "x37",
         "y": [
          0.1,
          0.2,
          0.30000000000000004,
          0.4,
          0.5,
          0.6,
          0.7000000000000001,
          0.8,
          0.9,
          1
         ],
         "yaxis": "y37",
         "z": [
          0,
          2.3103403640176713e-15,
          4.6206807280353425e-15,
          6.931021092053009e-15,
          9.241361456070685e-15,
          1.1551701820088351e-14,
          1.3862042184106018e-14,
          1.6172382548123692e-14,
          1.848272291214137e-14,
          2.079306327615903e-14,
          2.3103403640176702e-14,
          2.5413744004194405e-14,
          2.7724084368212036e-14,
          3.0034424732229614e-14,
          3.2344765096247384e-14,
          3.4655105460264964e-14,
          3.696544582428274e-14,
          3.92757861883004e-14,
          4.158612655231806e-14,
          4.389646691633578e-14,
          4.6206807280353403e-14
         ]
        },
        {
         "colorscale": [
          [
           0,
           "#440154"
          ],
          [
           0.1111111111111111,
           "#482878"
          ],
          [
           0.2222222222222222,
           "#3e4989"
          ],
          [
           0.3333333333333333,
           "#31688e"
          ],
          [
           0.4444444444444444,
           "#26828e"
          ],
          [
           0.5555555555555556,
           "#1f9e89"
          ],
          [
           0.6666666666666666,
           "#35b779"
          ],
          [
           0.7777777777777778,
           "#6ece58"
          ],
          [
           0.8888888888888888,
           "#b5de2b"
          ],
          [
           1,
           "#fde725"
          ]
         ],
         "type": "heatmap",
         "x": [
          0,
          5,
          10,
          15,
          20,
          25,
          30,
          35,
          40,
          45,
          50,
          55,
          60,
          65,
          70,
          75,
          80,
          85,
          90,
          95,
          100
         ],
         "xaxis": "x38",
         "y": [
          0.1,
          0.2,
          0.30000000000000004,
          0.4,
          0.5,
          0.6,
          0.7000000000000001,
          0.8,
          0.9,
          1
         ],
         "yaxis": "y38",
         "z": [
          0,
          5.444321862500572e-22,
          1.0888643725001145e-21,
          1.6332965587501737e-21,
          2.177728745000229e-21,
          2.72216093125029e-21,
          3.2665931175003474e-21,
          3.811025303750403e-21,
          4.355457490000458e-21,
          4.899889676250517e-21,
          5.44432186250058e-21,
          5.988754048750637e-21,
          6.533186235000695e-21,
          7.077618421250757e-21,
          7.622050607500805e-21,
          8.166482793750861e-21,
          8.710914980000916e-21,
          9.255347166250978e-21,
          9.799779352501034e-21,
          1.0344211538751087e-20,
          1.088864372500116e-20
         ]
        },
        {
         "colorscale": [
          [
           0,
           "#440154"
          ],
          [
           0.1111111111111111,
           "#482878"
          ],
          [
           0.2222222222222222,
           "#3e4989"
          ],
          [
           0.3333333333333333,
           "#31688e"
          ],
          [
           0.4444444444444444,
           "#26828e"
          ],
          [
           0.5555555555555556,
           "#1f9e89"
          ],
          [
           0.6666666666666666,
           "#35b779"
          ],
          [
           0.7777777777777778,
           "#6ece58"
          ],
          [
           0.8888888888888888,
           "#b5de2b"
          ],
          [
           1,
           "#fde725"
          ]
         ],
         "type": "heatmap",
         "x": [
          0,
          5,
          10,
          15,
          20,
          25,
          30,
          35,
          40,
          45,
          50,
          55,
          60,
          65,
          70,
          75,
          80,
          85,
          90,
          95,
          100
         ],
         "xaxis": "x39",
         "y": [
          0.1,
          0.2,
          0.30000000000000004,
          0.4,
          0.5,
          0.6,
          0.7000000000000001,
          0.8,
          0.9,
          1
         ],
         "yaxis": "y39",
         "z": [
          0,
          7.888609052210118e-30,
          1.5777218104420236e-29,
          2.3665827156630354e-29,
          3.155443620884047e-29,
          3.944304526105059e-29,
          4.733165431326071e-29,
          5.522026336547083e-29,
          6.310887241768094e-29,
          7.099748146989106e-29,
          7.888609052210118e-29,
          8.67746995743113e-29,
          9.466330862652142e-29,
          1.0255191767873153e-28,
          1.1044052673094165e-28,
          1.1832913578315177e-28,
          1.262177448353619e-28,
          1.34106353887572e-28,
          1.4199496293978212e-28,
          1.4988357199199224e-28,
          1.5777218104420236e-28
         ]
        },
        {
         "colorscale": [
          [
           0,
           "#440154"
          ],
          [
           0.1111111111111111,
           "#482878"
          ],
          [
           0.2222222222222222,
           "#3e4989"
          ],
          [
           0.3333333333333333,
           "#31688e"
          ],
          [
           0.4444444444444444,
           "#26828e"
          ],
          [
           0.5555555555555556,
           "#1f9e89"
          ],
          [
           0.6666666666666666,
           "#35b779"
          ],
          [
           0.7777777777777778,
           "#6ece58"
          ],
          [
           0.8888888888888888,
           "#b5de2b"
          ],
          [
           1,
           "#fde725"
          ]
         ],
         "type": "heatmap",
         "x": [
          0,
          5,
          10,
          15,
          20,
          25,
          30,
          35,
          40,
          45,
          50,
          55,
          60,
          65,
          70,
          75,
          80,
          85,
          90,
          95,
          100
         ],
         "xaxis": "x40",
         "y": [
          0.1,
          0.2,
          0.30000000000000004,
          0.4,
          0.5,
          0.6,
          0.7000000000000001,
          0.8,
          0.9,
          1
         ],
         "yaxis": "y40",
         "z": [
          0,
          2.00867255532374e-39,
          4.01734511064748e-39,
          6.026017665971227e-39,
          8.03469022129496e-39,
          1.0043362776618699e-38,
          1.2052035331942453e-38,
          1.4060707887266197e-38,
          1.606938044258992e-38,
          1.8078052997913622e-38,
          2.0086725553237397e-38,
          2.2095398108561173e-38,
          2.4104070663884906e-38,
          2.6112743219208577e-38,
          2.8121415774532394e-38,
          3.013008832985613e-38,
          3.213876088517984e-38,
          3.4147433440503636e-38,
          3.6156105995827244e-38,
          3.8164778551151103e-38,
          4.0173451106474795e-38
         ]
        },
        {
         "colorscale": [
          [
           0,
           "#440154"
          ],
          [
           0.1111111111111111,
           "#482878"
          ],
          [
           0.2222222222222222,
           "#3e4989"
          ],
          [
           0.3333333333333333,
           "#31688e"
          ],
          [
           0.4444444444444444,
           "#26828e"
          ],
          [
           0.5555555555555556,
           "#1f9e89"
          ],
          [
           0.6666666666666666,
           "#35b779"
          ],
          [
           0.7777777777777778,
           "#6ece58"
          ],
          [
           0.8888888888888888,
           "#b5de2b"
          ],
          [
           1,
           "#fde725"
          ]
         ],
         "type": "heatmap",
         "x": [
          0,
          5,
          10,
          15,
          20,
          25,
          30,
          35,
          40,
          45,
          50,
          55,
          60,
          65,
          70,
          75,
          80,
          85,
          90,
          95,
          100
         ],
         "xaxis": "x41",
         "y": [
          0.1,
          0.2,
          0.30000000000000004,
          0.4,
          0.5,
          0.6,
          0.7000000000000001,
          0.8,
          0.9,
          1
         ],
         "yaxis": "y41",
         "z": [
          0,
          1464352174589260.5,
          2928704349178521,
          4393056523767783,
          5857408698357042,
          7321760872946304,
          8786113047535566,
          10250465222124826,
          11714817396714084,
          13179169571303360,
          14643521745892608,
          16107873920481874,
          17572226095071132,
          19036578269660388,
          20500930444249652,
          21965282618838936,
          23429634793428170,
          24893986968017410,
          26358339142606720,
          27822691317195970,
          29287043491785216
         ]
        },
        {
         "colorscale": [
          [
           0,
           "#440154"
          ],
          [
           0.1111111111111111,
           "#482878"
          ],
          [
           0.2222222222222222,
           "#3e4989"
          ],
          [
           0.3333333333333333,
           "#31688e"
          ],
          [
           0.4444444444444444,
           "#26828e"
          ],
          [
           0.5555555555555556,
           "#1f9e89"
          ],
          [
           0.6666666666666666,
           "#35b779"
          ],
          [
           0.7777777777777778,
           "#6ece58"
          ],
          [
           0.8888888888888888,
           "#b5de2b"
          ],
          [
           1,
           "#fde725"
          ]
         ],
         "type": "heatmap",
         "x": [
          0,
          5,
          10,
          15,
          20,
          25,
          30,
          35,
          40,
          45,
          50,
          55,
          60,
          65,
          70,
          75,
          80,
          85,
          90,
          95,
          100
         ],
         "xaxis": "x42",
         "y": [
          0.1,
          0.2,
          0.30000000000000004,
          0.4,
          0.5,
          0.6,
          0.7000000000000001,
          0.8,
          0.9,
          1
         ],
         "yaxis": "y42",
         "z": [
          0,
          953590427294.6027,
          1907180854589.2053,
          2860771281883.808,
          3814361709178.4106,
          4767952136473.0205,
          5721542563767.616,
          6675132991062.22,
          7628723418356.821,
          8582313845651.423,
          9535904272946.041,
          10489494700240.629,
          11443085127535.232,
          12396675554829.854,
          13350265982124.44,
          14303856409419.068,
          15257446836713.643,
          16211037264008.275,
          17164627691302.846,
          18118218118597.43,
          19071808545892.082
         ]
        },
        {
         "colorscale": [
          [
           0,
           "#440154"
          ],
          [
           0.1111111111111111,
           "#482878"
          ],
          [
           0.2222222222222222,
           "#3e4989"
          ],
          [
           0.3333333333333333,
           "#31688e"
          ],
          [
           0.4444444444444444,
           "#26828e"
          ],
          [
           0.5555555555555556,
           "#1f9e89"
          ],
          [
           0.6666666666666666,
           "#35b779"
          ],
          [
           0.7777777777777778,
           "#6ece58"
          ],
          [
           0.8888888888888888,
           "#b5de2b"
          ],
          [
           1,
           "#fde725"
          ]
         ],
         "type": "heatmap",
         "x": [
          0,
          5,
          10,
          15,
          20,
          25,
          30,
          35,
          40,
          45,
          50,
          55,
          60,
          65,
          70,
          75,
          80,
          85,
          90,
          95,
          100
         ],
         "xaxis": "x43",
         "y": [
          0.1,
          0.2,
          0.30000000000000004,
          0.4,
          0.5,
          0.6,
          0.7000000000000001,
          0.8,
          0.9,
          1
         ],
         "yaxis": "y43",
         "z": [
          0,
          345074893.8417257,
          690149787.6834514,
          1035224681.5251774,
          1380299575.3669028,
          1725374469.208629,
          2070449363.0503547,
          2415524256.89208,
          2760599150.7338057,
          3105674044.575527,
          3450748938.417258,
          3795823832.258981,
          4140898726.1007094,
          4485973619.942438,
          4831048513.78416,
          5176123407.625879,
          5521198301.467611,
          5866273195.309337,
          6211348089.151054,
          6556422982.992794,
          6901497876.834516
         ]
        },
        {
         "colorscale": [
          [
           0,
           "#440154"
          ],
          [
           0.1111111111111111,
           "#482878"
          ],
          [
           0.2222222222222222,
           "#3e4989"
          ],
          [
           0.3333333333333333,
           "#31688e"
          ],
          [
           0.4444444444444444,
           "#26828e"
          ],
          [
           0.5555555555555556,
           "#1f9e89"
          ],
          [
           0.6666666666666666,
           "#35b779"
          ],
          [
           0.7777777777777778,
           "#6ece58"
          ],
          [
           0.8888888888888888,
           "#b5de2b"
          ],
          [
           1,
           "#fde725"
          ]
         ],
         "type": "heatmap",
         "x": [
          0,
          5,
          10,
          15,
          20,
          25,
          30,
          35,
          40,
          45,
          50,
          55,
          60,
          65,
          70,
          75,
          80,
          85,
          90,
          95,
          100
         ],
         "xaxis": "x44",
         "y": [
          0.1,
          0.2,
          0.30000000000000004,
          0.4,
          0.5,
          0.6,
          0.7000000000000001,
          0.8,
          0.9,
          1
         ],
         "yaxis": "y44",
         "z": [
          0,
          62639.14699919199,
          125278.29399838398,
          187917.4409975761,
          250556.58799676795,
          313195.73499596026,
          375834.8819951522,
          438474.0289943437,
          501113.1759935359,
          563752.3229927276,
          626391.4699919205,
          689030.6169911126,
          751669.7639903044,
          814308.9109894946,
          876948.0579886874,
          939587.2049878794,
          1002226.3519870718,
          1064865.4989862645,
          1127504.6459854553,
          1190143.7929846498,
          1252782.939983841
         ]
        },
        {
         "colorscale": [
          [
           0,
           "#440154"
          ],
          [
           0.1111111111111111,
           "#482878"
          ],
          [
           0.2222222222222222,
           "#3e4989"
          ],
          [
           0.3333333333333333,
           "#31688e"
          ],
          [
           0.4444444444444444,
           "#26828e"
          ],
          [
           0.5555555555555556,
           "#1f9e89"
          ],
          [
           0.6666666666666666,
           "#35b779"
          ],
          [
           0.7777777777777778,
           "#6ece58"
          ],
          [
           0.8888888888888888,
           "#b5de2b"
          ],
          [
           1,
           "#fde725"
          ]
         ],
         "type": "heatmap",
         "x": [
          0,
          5,
          10,
          15,
          20,
          25,
          30,
          35,
          40,
          45,
          50,
          55,
          60,
          65,
          70,
          75,
          80,
          85,
          90,
          95,
          100
         ],
         "xaxis": "x45",
         "y": [
          0.1,
          0.2,
          0.30000000000000004,
          0.4,
          0.5,
          0.6,
          0.7000000000000001,
          0.8,
          0.9,
          1
         ],
         "yaxis": "y45",
         "z": [
          0,
          5,
          10,
          15,
          20,
          25,
          30,
          35,
          40,
          45,
          50,
          55,
          60,
          65,
          70,
          75,
          80,
          85,
          90,
          95,
          100
         ]
        },
        {
         "colorscale": [
          [
           0,
           "#440154"
          ],
          [
           0.1111111111111111,
           "#482878"
          ],
          [
           0.2222222222222222,
           "#3e4989"
          ],
          [
           0.3333333333333333,
           "#31688e"
          ],
          [
           0.4444444444444444,
           "#26828e"
          ],
          [
           0.5555555555555556,
           "#1f9e89"
          ],
          [
           0.6666666666666666,
           "#35b779"
          ],
          [
           0.7777777777777778,
           "#6ece58"
          ],
          [
           0.8888888888888888,
           "#b5de2b"
          ],
          [
           1,
           "#fde725"
          ]
         ],
         "type": "heatmap",
         "x": [
          0,
          5,
          10,
          15,
          20,
          25,
          30,
          35,
          40,
          45,
          50,
          55,
          60,
          65,
          70,
          75,
          80,
          85,
          90,
          95,
          100
         ],
         "xaxis": "x46",
         "y": [
          0.1,
          0.2,
          0.30000000000000004,
          0.4,
          0.5,
          0.6,
          0.7000000000000001,
          0.8,
          0.9,
          1
         ],
         "yaxis": "y46",
         "z": [
          0,
          0.00014756332715326408,
          0.00029512665430652817,
          0.00044268998145979225,
          0.0005902533086130563,
          0.000737816635766321,
          0.0008853799629195845,
          0.0010329432900728496,
          0.0011805066172261127,
          0.0013280699443793775,
          0.001475633271532642,
          0.0016231965986859046,
          0.001770759925839169,
          0.0019183232529924323,
          0.002065886580145699,
          0.002213449907298959,
          0.0023610132344522253,
          0.002508576561605489,
          0.002656139888758755,
          0.0028037032159120203,
          0.002951266543065284
         ]
        },
        {
         "colorscale": [
          [
           0,
           "#440154"
          ],
          [
           0.1111111111111111,
           "#482878"
          ],
          [
           0.2222222222222222,
           "#3e4989"
          ],
          [
           0.3333333333333333,
           "#31688e"
          ],
          [
           0.4444444444444444,
           "#26828e"
          ],
          [
           0.5555555555555556,
           "#1f9e89"
          ],
          [
           0.6666666666666666,
           "#35b779"
          ],
          [
           0.7777777777777778,
           "#6ece58"
          ],
          [
           0.8888888888888888,
           "#b5de2b"
          ],
          [
           1,
           "#fde725"
          ]
         ],
         "type": "heatmap",
         "x": [
          0,
          5,
          10,
          15,
          20,
          25,
          30,
          35,
          40,
          45,
          50,
          55,
          60,
          65,
          70,
          75,
          80,
          85,
          90,
          95,
          100
         ],
         "xaxis": "x47",
         "y": [
          0.1,
          0.2,
          0.30000000000000004,
          0.4,
          0.5,
          0.6,
          0.7000000000000001,
          0.8,
          0.9,
          1
         ],
         "yaxis": "y47",
         "z": [
          0,
          1.273147485209042e-9,
          2.546294970418084e-9,
          3.81944245562713e-9,
          5.092589940836168e-9,
          6.36573742604521e-9,
          7.63888491125426e-9,
          8.91203239646331e-9,
          1.0185179881672336e-8,
          1.1458327366881393e-8,
          1.273147485209042e-8,
          1.4004622337299444e-8,
          1.527776982250852e-8,
          1.6550917307717515e-8,
          1.782406479292662e-8,
          1.909721227813565e-8,
          2.037035976334467e-8,
          2.1643507248553765e-8,
          2.2916654733762786e-8,
          2.4189802218971808e-8,
          2.546294970418084e-8
         ]
        },
        {
         "colorscale": [
          [
           0,
           "#440154"
          ],
          [
           0.1111111111111111,
           "#482878"
          ],
          [
           0.2222222222222222,
           "#3e4989"
          ],
          [
           0.3333333333333333,
           "#31688e"
          ],
          [
           0.4444444444444444,
           "#26828e"
          ],
          [
           0.5555555555555556,
           "#1f9e89"
          ],
          [
           0.6666666666666666,
           "#35b779"
          ],
          [
           0.7777777777777778,
           "#6ece58"
          ],
          [
           0.8888888888888888,
           "#b5de2b"
          ],
          [
           1,
           "#fde725"
          ]
         ],
         "type": "heatmap",
         "x": [
          0,
          5,
          10,
          15,
          20,
          25,
          30,
          35,
          40,
          45,
          50,
          55,
          60,
          65,
          70,
          75,
          80,
          85,
          90,
          95,
          100
         ],
         "xaxis": "x48",
         "y": [
          0.1,
          0.2,
          0.30000000000000004,
          0.4,
          0.5,
          0.6,
          0.7000000000000001,
          0.8,
          0.9,
          1
         ],
         "yaxis": "y48",
         "z": [
          0,
          2.3103403640176646e-15,
          4.620680728035329e-15,
          6.93102109205301e-15,
          9.241361456070658e-15,
          1.1551701820088378e-14,
          1.386204218410602e-14,
          1.617238254812373e-14,
          1.8482722912141317e-14,
          2.0793063276159058e-14,
          2.3103403640176755e-14,
          2.5413744004194453e-14,
          2.772408436821204e-14,
          3.003442473222974e-14,
          3.234476509624746e-14,
          3.4655105460265065e-14,
          3.696544582428263e-14,
          3.927578618830042e-14,
          4.1586126552318116e-14,
          4.3896466916335766e-14,
          4.620680728035351e-14
         ]
        },
        {
         "colorscale": [
          [
           0,
           "#440154"
          ],
          [
           0.1111111111111111,
           "#482878"
          ],
          [
           0.2222222222222222,
           "#3e4989"
          ],
          [
           0.3333333333333333,
           "#31688e"
          ],
          [
           0.4444444444444444,
           "#26828e"
          ],
          [
           0.5555555555555556,
           "#1f9e89"
          ],
          [
           0.6666666666666666,
           "#35b779"
          ],
          [
           0.7777777777777778,
           "#6ece58"
          ],
          [
           0.8888888888888888,
           "#b5de2b"
          ],
          [
           1,
           "#fde725"
          ]
         ],
         "type": "heatmap",
         "x": [
          0,
          5,
          10,
          15,
          20,
          25,
          30,
          35,
          40,
          45,
          50,
          55,
          60,
          65,
          70,
          75,
          80,
          85,
          90,
          95,
          100
         ],
         "xaxis": "x49",
         "y": [
          0.1,
          0.2,
          0.30000000000000004,
          0.4,
          0.5,
          0.6,
          0.7000000000000001,
          0.8,
          0.9,
          1
         ],
         "yaxis": "y49",
         "z": [
          0,
          5.444321862500575e-22,
          1.088864372500115e-21,
          1.6332965587501726e-21,
          2.17772874500023e-21,
          2.7221609312502876e-21,
          3.266593117500345e-21,
          3.8110253037504004e-21,
          4.35545749000046e-21,
          4.899889676250528e-21,
          5.444321862500575e-21,
          5.988754048750624e-21,
          6.53318623500069e-21,
          7.077618421250746e-21,
          7.622050607500801e-21,
          8.16648279375088e-21,
          8.71091498000092e-21,
          9.255347166250981e-21,
          9.799779352501057e-21,
          1.0344211538751102e-20,
          1.088864372500115e-20
         ]
        },
        {
         "colorscale": [
          [
           0,
           "#440154"
          ],
          [
           0.1111111111111111,
           "#482878"
          ],
          [
           0.2222222222222222,
           "#3e4989"
          ],
          [
           0.3333333333333333,
           "#31688e"
          ],
          [
           0.4444444444444444,
           "#26828e"
          ],
          [
           0.5555555555555556,
           "#1f9e89"
          ],
          [
           0.6666666666666666,
           "#35b779"
          ],
          [
           0.7777777777777778,
           "#6ece58"
          ],
          [
           0.8888888888888888,
           "#b5de2b"
          ],
          [
           1,
           "#fde725"
          ]
         ],
         "type": "heatmap",
         "x": [
          0,
          5,
          10,
          15,
          20,
          25,
          30,
          35,
          40,
          45,
          50,
          55,
          60,
          65,
          70,
          75,
          80,
          85,
          90,
          95,
          100
         ],
         "xaxis": "x50",
         "y": [
          0.1,
          0.2,
          0.30000000000000004,
          0.4,
          0.5,
          0.6,
          0.7000000000000001,
          0.8,
          0.9,
          1
         ],
         "yaxis": "y50",
         "z": [
          0,
          7.888609052210118e-30,
          1.5777218104420236e-29,
          2.3665827156630354e-29,
          3.155443620884047e-29,
          3.944304526105059e-29,
          4.733165431326071e-29,
          5.522026336547083e-29,
          6.310887241768094e-29,
          7.099748146989106e-29,
          7.888609052210118e-29,
          8.67746995743113e-29,
          9.466330862652142e-29,
          1.0255191767873153e-28,
          1.1044052673094165e-28,
          1.1832913578315177e-28,
          1.262177448353619e-28,
          1.34106353887572e-28,
          1.4199496293978212e-28,
          1.4988357199199224e-28,
          1.5777218104420236e-28
         ]
        },
        {
         "colorscale": [
          [
           0,
           "#440154"
          ],
          [
           0.1111111111111111,
           "#482878"
          ],
          [
           0.2222222222222222,
           "#3e4989"
          ],
          [
           0.3333333333333333,
           "#31688e"
          ],
          [
           0.4444444444444444,
           "#26828e"
          ],
          [
           0.5555555555555556,
           "#1f9e89"
          ],
          [
           0.6666666666666666,
           "#35b779"
          ],
          [
           0.7777777777777778,
           "#6ece58"
          ],
          [
           0.8888888888888888,
           "#b5de2b"
          ],
          [
           1,
           "#fde725"
          ]
         ],
         "type": "heatmap",
         "x": [
          0,
          5,
          10,
          15,
          20,
          25,
          30,
          35,
          40,
          45,
          50,
          55,
          60,
          65,
          70,
          75,
          80,
          85,
          90,
          95,
          100
         ],
         "xaxis": "x51",
         "y": [
          0.1,
          0.2,
          0.30000000000000004,
          0.4,
          0.5,
          0.6,
          0.7000000000000001,
          0.8,
          0.9,
          1
         ],
         "yaxis": "y51",
         "z": [
          0,
          1355203925117382100,
          2710407850234764300,
          4065611775352146400,
          5420815700469529000,
          6776019625586910000,
          8131223550704293000,
          9486427475821677000,
          10841631400939057000,
          12196835326056438000,
          13552039251173820000,
          14907243176291197000,
          16262447101408586000,
          17617651026525964000,
          18972854951643353000,
          20328058876760730000,
          21683262801878114000,
          23038466726995500000,
          24393670652112876000,
          25748874577230275000,
          27104078502347640000
         ]
        },
        {
         "colorscale": [
          [
           0,
           "#440154"
          ],
          [
           0.1111111111111111,
           "#482878"
          ],
          [
           0.2222222222222222,
           "#3e4989"
          ],
          [
           0.3333333333333333,
           "#31688e"
          ],
          [
           0.4444444444444444,
           "#26828e"
          ],
          [
           0.5555555555555556,
           "#1f9e89"
          ],
          [
           0.6666666666666666,
           "#35b779"
          ],
          [
           0.7777777777777778,
           "#6ece58"
          ],
          [
           0.8888888888888888,
           "#b5de2b"
          ],
          [
           1,
           "#fde725"
          ]
         ],
         "type": "heatmap",
         "x": [
          0,
          5,
          10,
          15,
          20,
          25,
          30,
          35,
          40,
          45,
          50,
          55,
          60,
          65,
          70,
          75,
          80,
          85,
          90,
          95,
          100
         ],
         "xaxis": "x52",
         "y": [
          0.1,
          0.2,
          0.30000000000000004,
          0.4,
          0.5,
          0.6,
          0.7000000000000001,
          0.8,
          0.9,
          1
         ],
         "yaxis": "y52",
         "z": [
          0,
          1464352174589257.2,
          2928704349178514.5,
          4393056523767777,
          5857408698357029,
          7321760872946287,
          8786113047535554,
          10250465222124802,
          11714817396714058,
          13179169571303326,
          14643521745892574,
          16107873920481812,
          17572226095071108,
          19036578269660356,
          20500930444249604,
          21965282618838870,
          23429634793428116,
          24893986968017384,
          26358339142606652,
          27822691317195864,
          29287043491785148
         ]
        },
        {
         "colorscale": [
          [
           0,
           "#440154"
          ],
          [
           0.1111111111111111,
           "#482878"
          ],
          [
           0.2222222222222222,
           "#3e4989"
          ],
          [
           0.3333333333333333,
           "#31688e"
          ],
          [
           0.4444444444444444,
           "#26828e"
          ],
          [
           0.5555555555555556,
           "#1f9e89"
          ],
          [
           0.6666666666666666,
           "#35b779"
          ],
          [
           0.7777777777777778,
           "#6ece58"
          ],
          [
           0.8888888888888888,
           "#b5de2b"
          ],
          [
           1,
           "#fde725"
          ]
         ],
         "type": "heatmap",
         "x": [
          0,
          5,
          10,
          15,
          20,
          25,
          30,
          35,
          40,
          45,
          50,
          55,
          60,
          65,
          70,
          75,
          80,
          85,
          90,
          95,
          100
         ],
         "xaxis": "x53",
         "y": [
          0.1,
          0.2,
          0.30000000000000004,
          0.4,
          0.5,
          0.6,
          0.7000000000000001,
          0.8,
          0.9,
          1
         ],
         "yaxis": "y53",
         "z": [
          0,
          953590427294.5995,
          1907180854589.199,
          2860771281883.799,
          3814361709178.398,
          4767952136472.998,
          5721542563767.598,
          6675132991062.195,
          7628723418356.796,
          8582313845651.398,
          9535904272945.996,
          10489494700240.584,
          11443085127535.195,
          12396675554829.795,
          13350265982124.39,
          14303856409418.982,
          15257446836713.592,
          16211037264008.2,
          17164627691302.797,
          18118218118597.41,
          19071808545891.992
         ]
        },
        {
         "colorscale": [
          [
           0,
           "#440154"
          ],
          [
           0.1111111111111111,
           "#482878"
          ],
          [
           0.2222222222222222,
           "#3e4989"
          ],
          [
           0.3333333333333333,
           "#31688e"
          ],
          [
           0.4444444444444444,
           "#26828e"
          ],
          [
           0.5555555555555556,
           "#1f9e89"
          ],
          [
           0.6666666666666666,
           "#35b779"
          ],
          [
           0.7777777777777778,
           "#6ece58"
          ],
          [
           0.8888888888888888,
           "#b5de2b"
          ],
          [
           1,
           "#fde725"
          ]
         ],
         "type": "heatmap",
         "x": [
          0,
          5,
          10,
          15,
          20,
          25,
          30,
          35,
          40,
          45,
          50,
          55,
          60,
          65,
          70,
          75,
          80,
          85,
          90,
          95,
          100
         ],
         "xaxis": "x54",
         "y": [
          0.1,
          0.2,
          0.30000000000000004,
          0.4,
          0.5,
          0.6,
          0.7000000000000001,
          0.8,
          0.9,
          1
         ],
         "yaxis": "y54",
         "z": [
          0,
          345074893.8417264,
          690149787.6834528,
          1035224681.5251789,
          1380299575.3669057,
          1725374469.2086315,
          2070449363.0503578,
          2415524256.8920884,
          2760599150.7338114,
          3105674044.575532,
          3450748938.417263,
          3795823832.2589874,
          4140898726.1007156,
          4485973619.942445,
          4831048513.784177,
          5176123407.625886,
          5521198301.467623,
          5866273195.309338,
          6211348089.151064,
          6556422982.992786,
          6901497876.834526
         ]
        },
        {
         "colorscale": [
          [
           0,
           "#440154"
          ],
          [
           0.1111111111111111,
           "#482878"
          ],
          [
           0.2222222222222222,
           "#3e4989"
          ],
          [
           0.3333333333333333,
           "#31688e"
          ],
          [
           0.4444444444444444,
           "#26828e"
          ],
          [
           0.5555555555555556,
           "#1f9e89"
          ],
          [
           0.6666666666666666,
           "#35b779"
          ],
          [
           0.7777777777777778,
           "#6ece58"
          ],
          [
           0.8888888888888888,
           "#b5de2b"
          ],
          [
           1,
           "#fde725"
          ]
         ],
         "type": "heatmap",
         "x": [
          0,
          5,
          10,
          15,
          20,
          25,
          30,
          35,
          40,
          45,
          50,
          55,
          60,
          65,
          70,
          75,
          80,
          85,
          90,
          95,
          100
         ],
         "xaxis": "x55",
         "y": [
          0.1,
          0.2,
          0.30000000000000004,
          0.4,
          0.5,
          0.6,
          0.7000000000000001,
          0.8,
          0.9,
          1
         ],
         "yaxis": "y55",
         "z": [
          0,
          62639.14699919203,
          125278.29399838406,
          187917.44099757614,
          250556.58799676812,
          313195.7349959599,
          375834.8819951523,
          438474.0289943435,
          501113.17599353625,
          563752.3229927276,
          626391.4699919198,
          689030.6169911118,
          751669.7639903045,
          814308.9109894953,
          876948.057988687,
          939587.2049878801,
          1002226.3519870725,
          1064865.4989862656,
          1127504.6459854553,
          1190143.792984649,
          1252782.9399838396
         ]
        },
        {
         "colorscale": [
          [
           0,
           "#440154"
          ],
          [
           0.1111111111111111,
           "#482878"
          ],
          [
           0.2222222222222222,
           "#3e4989"
          ],
          [
           0.3333333333333333,
           "#31688e"
          ],
          [
           0.4444444444444444,
           "#26828e"
          ],
          [
           0.5555555555555556,
           "#1f9e89"
          ],
          [
           0.6666666666666666,
           "#35b779"
          ],
          [
           0.7777777777777778,
           "#6ece58"
          ],
          [
           0.8888888888888888,
           "#b5de2b"
          ],
          [
           1,
           "#fde725"
          ]
         ],
         "type": "heatmap",
         "x": [
          0,
          5,
          10,
          15,
          20,
          25,
          30,
          35,
          40,
          45,
          50,
          55,
          60,
          65,
          70,
          75,
          80,
          85,
          90,
          95,
          100
         ],
         "xaxis": "x56",
         "y": [
          0.1,
          0.2,
          0.30000000000000004,
          0.4,
          0.5,
          0.6,
          0.7000000000000001,
          0.8,
          0.9,
          1
         ],
         "yaxis": "y56",
         "z": [
          0,
          5,
          10,
          15,
          20,
          25,
          30,
          35,
          40,
          45,
          50,
          55,
          60,
          65,
          70,
          75,
          80,
          85,
          90,
          95,
          100
         ]
        },
        {
         "colorscale": [
          [
           0,
           "#440154"
          ],
          [
           0.1111111111111111,
           "#482878"
          ],
          [
           0.2222222222222222,
           "#3e4989"
          ],
          [
           0.3333333333333333,
           "#31688e"
          ],
          [
           0.4444444444444444,
           "#26828e"
          ],
          [
           0.5555555555555556,
           "#1f9e89"
          ],
          [
           0.6666666666666666,
           "#35b779"
          ],
          [
           0.7777777777777778,
           "#6ece58"
          ],
          [
           0.8888888888888888,
           "#b5de2b"
          ],
          [
           1,
           "#fde725"
          ]
         ],
         "type": "heatmap",
         "x": [
          0,
          5,
          10,
          15,
          20,
          25,
          30,
          35,
          40,
          45,
          50,
          55,
          60,
          65,
          70,
          75,
          80,
          85,
          90,
          95,
          100
         ],
         "xaxis": "x57",
         "y": [
          0.1,
          0.2,
          0.30000000000000004,
          0.4,
          0.5,
          0.6,
          0.7000000000000001,
          0.8,
          0.9,
          1
         ],
         "yaxis": "y57",
         "z": [
          0,
          0.0001475633271532625,
          0.000295126654306525,
          0.00044268998145978683,
          0.00059025330861305,
          0.0007378166357663111,
          0.0008853799629195737,
          0.0010329432900728368,
          0.0011805066172261,
          0.0013280699443793597,
          0.0014756332715326222,
          0.001623196598685886,
          0.0017707599258391473,
          0.001918323252992411,
          0.0020658865801456735,
          0.0022134499072989314,
          0.0023610132344522,
          0.002508576561605455,
          0.0026561398887587195,
          0.002803703215911992,
          0.0029512665430652444
         ]
        },
        {
         "colorscale": [
          [
           0,
           "#440154"
          ],
          [
           0.1111111111111111,
           "#482878"
          ],
          [
           0.2222222222222222,
           "#3e4989"
          ],
          [
           0.3333333333333333,
           "#31688e"
          ],
          [
           0.4444444444444444,
           "#26828e"
          ],
          [
           0.5555555555555556,
           "#1f9e89"
          ],
          [
           0.6666666666666666,
           "#35b779"
          ],
          [
           0.7777777777777778,
           "#6ece58"
          ],
          [
           0.8888888888888888,
           "#b5de2b"
          ],
          [
           1,
           "#fde725"
          ]
         ],
         "type": "heatmap",
         "x": [
          0,
          5,
          10,
          15,
          20,
          25,
          30,
          35,
          40,
          45,
          50,
          55,
          60,
          65,
          70,
          75,
          80,
          85,
          90,
          95,
          100
         ],
         "xaxis": "x58",
         "y": [
          0.1,
          0.2,
          0.30000000000000004,
          0.4,
          0.5,
          0.6,
          0.7000000000000001,
          0.8,
          0.9,
          1
         ],
         "yaxis": "y58",
         "z": [
          0,
          1.2731474852090432e-9,
          2.5462949704180864e-9,
          3.819442455627129e-9,
          5.092589940836173e-9,
          6.3657374260452155e-9,
          7.638884911254258e-9,
          8.912032396463308e-9,
          1.0185179881672345e-8,
          1.1458327366881396e-8,
          1.2731474852090431e-8,
          1.4004622337299472e-8,
          1.5277769822508516e-8,
          1.655091730771756e-8,
          1.7824064792926615e-8,
          1.9097212278135646e-8,
          2.037035976334469e-8,
          2.164350724855377e-8,
          2.2916654733762793e-8,
          2.4189802218971784e-8,
          2.5462949704180862e-8
         ]
        },
        {
         "colorscale": [
          [
           0,
           "#440154"
          ],
          [
           0.1111111111111111,
           "#482878"
          ],
          [
           0.2222222222222222,
           "#3e4989"
          ],
          [
           0.3333333333333333,
           "#31688e"
          ],
          [
           0.4444444444444444,
           "#26828e"
          ],
          [
           0.5555555555555556,
           "#1f9e89"
          ],
          [
           0.6666666666666666,
           "#35b779"
          ],
          [
           0.7777777777777778,
           "#6ece58"
          ],
          [
           0.8888888888888888,
           "#b5de2b"
          ],
          [
           1,
           "#fde725"
          ]
         ],
         "type": "heatmap",
         "x": [
          0,
          5,
          10,
          15,
          20,
          25,
          30,
          35,
          40,
          45,
          50,
          55,
          60,
          65,
          70,
          75,
          80,
          85,
          90,
          95,
          100
         ],
         "xaxis": "x59",
         "y": [
          0.1,
          0.2,
          0.30000000000000004,
          0.4,
          0.5,
          0.6,
          0.7000000000000001,
          0.8,
          0.9,
          1
         ],
         "yaxis": "y59",
         "z": [
          0,
          2.3103403640176744e-15,
          4.620680728035349e-15,
          6.931021092052989e-15,
          9.241361456070698e-15,
          1.1551701820088367e-14,
          1.3862042184105979e-14,
          1.617238254812371e-14,
          1.8482722912141395e-14,
          2.0793063276159014e-14,
          2.3103403640176733e-14,
          2.5413744004194295e-14,
          2.7724084368211957e-14,
          3.0034424732229664e-14,
          3.234476509624742e-14,
          3.465510546026503e-14,
          3.696544582428279e-14,
          3.9275786188300277e-14,
          4.158612655231803e-14,
          4.389646691633569e-14,
          4.6206807280353467e-14
         ]
        },
        {
         "colorscale": [
          [
           0,
           "#440154"
          ],
          [
           0.1111111111111111,
           "#482878"
          ],
          [
           0.2222222222222222,
           "#3e4989"
          ],
          [
           0.3333333333333333,
           "#31688e"
          ],
          [
           0.4444444444444444,
           "#26828e"
          ],
          [
           0.5555555555555556,
           "#1f9e89"
          ],
          [
           0.6666666666666666,
           "#35b779"
          ],
          [
           0.7777777777777778,
           "#6ece58"
          ],
          [
           0.8888888888888888,
           "#b5de2b"
          ],
          [
           1,
           "#fde725"
          ]
         ],
         "type": "heatmap",
         "x": [
          0,
          5,
          10,
          15,
          20,
          25,
          30,
          35,
          40,
          45,
          50,
          55,
          60,
          65,
          70,
          75,
          80,
          85,
          90,
          95,
          100
         ],
         "xaxis": "x60",
         "y": [
          0.1,
          0.2,
          0.30000000000000004,
          0.4,
          0.5,
          0.6,
          0.7000000000000001,
          0.8,
          0.9,
          1
         ],
         "yaxis": "y60",
         "z": [
          0,
          5.444321862500566e-22,
          1.0888643725001132e-21,
          1.6332965587501673e-21,
          2.1777287450002263e-21,
          2.7221609312502786e-21,
          3.2665931175003346e-21,
          3.811025303750413e-21,
          4.355457490000453e-21,
          4.899889676250519e-21,
          5.444321862500557e-21,
          5.988754048750609e-21,
          6.533186235000669e-21,
          7.07761842125076e-21,
          7.622050607500826e-21,
          8.166482793750866e-21,
          8.710914980000905e-21,
          9.255347166250963e-21,
          9.799779352501038e-21,
          1.034421153875106e-20,
          1.0888643725001114e-20
         ]
        },
        {
         "colorscale": [
          [
           0,
           "#440154"
          ],
          [
           0.1111111111111111,
           "#482878"
          ],
          [
           0.2222222222222222,
           "#3e4989"
          ],
          [
           0.3333333333333333,
           "#31688e"
          ],
          [
           0.4444444444444444,
           "#26828e"
          ],
          [
           0.5555555555555556,
           "#1f9e89"
          ],
          [
           0.6666666666666666,
           "#35b779"
          ],
          [
           0.7777777777777778,
           "#6ece58"
          ],
          [
           0.8888888888888888,
           "#b5de2b"
          ],
          [
           1,
           "#fde725"
          ]
         ],
         "type": "heatmap",
         "x": [
          0,
          5,
          10,
          15,
          20,
          25,
          30,
          35,
          40,
          45,
          50,
          55,
          60,
          65,
          70,
          75,
          80,
          85,
          90,
          95,
          100
         ],
         "xaxis": "x61",
         "y": [
          0.1,
          0.2,
          0.30000000000000004,
          0.4,
          0.5,
          0.6,
          0.7000000000000001,
          0.8,
          0.9,
          1
         ],
         "yaxis": "y61",
         "z": [
          0,
          806953086902161400000,
          1.6139061738043228e+21,
          2.4208592607064873e+21,
          3.2278123476086455e+21,
          4.0347654345108064e+21,
          4.841718521412975e+21,
          5.648671608315131e+21,
          6.455624695217291e+21,
          7.262577782119458e+21,
          8.069530869021613e+21,
          8.876483955923781e+21,
          9.68343704282595e+21,
          1.049039012972811e+22,
          1.1297343216630261e+22,
          1.2104296303532437e+22,
          1.2911249390434582e+22,
          1.3718202477336743e+22,
          1.4525155564238915e+22,
          1.5332108651141066e+22,
          1.6139061738043225e+22
         ]
        },
        {
         "colorscale": [
          [
           0,
           "#440154"
          ],
          [
           0.1111111111111111,
           "#482878"
          ],
          [
           0.2222222222222222,
           "#3e4989"
          ],
          [
           0.3333333333333333,
           "#31688e"
          ],
          [
           0.4444444444444444,
           "#26828e"
          ],
          [
           0.5555555555555556,
           "#1f9e89"
          ],
          [
           0.6666666666666666,
           "#35b779"
          ],
          [
           0.7777777777777778,
           "#6ece58"
          ],
          [
           0.8888888888888888,
           "#b5de2b"
          ],
          [
           1,
           "#fde725"
          ]
         ],
         "type": "heatmap",
         "x": [
          0,
          5,
          10,
          15,
          20,
          25,
          30,
          35,
          40,
          45,
          50,
          55,
          60,
          65,
          70,
          75,
          80,
          85,
          90,
          95,
          100
         ],
         "xaxis": "x62",
         "y": [
          0.1,
          0.2,
          0.30000000000000004,
          0.4,
          0.5,
          0.6,
          0.7000000000000001,
          0.8,
          0.9,
          1
         ],
         "yaxis": "y62",
         "z": [
          0,
          1355203925117387300,
          2710407850234774500,
          4065611775352162000,
          5420815700469549000,
          6776019625586932000,
          8131223550704324000,
          9486427475821724000,
          10841631400939098000,
          12196835326056487000,
          13552039251173863000,
          14907243176291287000,
          16262447101408647000,
          17617651026526054000,
          18972854951643447000,
          20328058876760793000,
          21683262801878196000,
          23038466726995560000,
          24393670652112974000,
          25748874577230385000,
          27104078502347727000
         ]
        },
        {
         "colorscale": [
          [
           0,
           "#440154"
          ],
          [
           0.1111111111111111,
           "#482878"
          ],
          [
           0.2222222222222222,
           "#3e4989"
          ],
          [
           0.3333333333333333,
           "#31688e"
          ],
          [
           0.4444444444444444,
           "#26828e"
          ],
          [
           0.5555555555555556,
           "#1f9e89"
          ],
          [
           0.6666666666666666,
           "#35b779"
          ],
          [
           0.7777777777777778,
           "#6ece58"
          ],
          [
           0.8888888888888888,
           "#b5de2b"
          ],
          [
           1,
           "#fde725"
          ]
         ],
         "type": "heatmap",
         "x": [
          0,
          5,
          10,
          15,
          20,
          25,
          30,
          35,
          40,
          45,
          50,
          55,
          60,
          65,
          70,
          75,
          80,
          85,
          90,
          95,
          100
         ],
         "xaxis": "x63",
         "y": [
          0.1,
          0.2,
          0.30000000000000004,
          0.4,
          0.5,
          0.6,
          0.7000000000000001,
          0.8,
          0.9,
          1
         ],
         "yaxis": "y63",
         "z": [
          0,
          1464352174589265,
          2928704349178530,
          4393056523767793.5,
          5857408698357060,
          7321760872946330,
          8786113047535587,
          10250465222124860,
          11714817396714120,
          13179169571303374,
          14643521745892660,
          16107873920481936,
          17572226095071174,
          19036578269660440,
          20500930444249720,
          21965282618838956,
          23429634793428240,
          24893986968017520,
          26358339142606748,
          27822691317196076,
          29287043491785320
         ]
        },
        {
         "colorscale": [
          [
           0,
           "#440154"
          ],
          [
           0.1111111111111111,
           "#482878"
          ],
          [
           0.2222222222222222,
           "#3e4989"
          ],
          [
           0.3333333333333333,
           "#31688e"
          ],
          [
           0.4444444444444444,
           "#26828e"
          ],
          [
           0.5555555555555556,
           "#1f9e89"
          ],
          [
           0.6666666666666666,
           "#35b779"
          ],
          [
           0.7777777777777778,
           "#6ece58"
          ],
          [
           0.8888888888888888,
           "#b5de2b"
          ],
          [
           1,
           "#fde725"
          ]
         ],
         "type": "heatmap",
         "x": [
          0,
          5,
          10,
          15,
          20,
          25,
          30,
          35,
          40,
          45,
          50,
          55,
          60,
          65,
          70,
          75,
          80,
          85,
          90,
          95,
          100
         ],
         "xaxis": "x64",
         "y": [
          0.1,
          0.2,
          0.30000000000000004,
          0.4,
          0.5,
          0.6,
          0.7000000000000001,
          0.8,
          0.9,
          1
         ],
         "yaxis": "y64",
         "z": [
          0,
          953590427294.6099,
          1907180854589.2197,
          2860771281883.8223,
          3814361709178.4395,
          4767952136473.045,
          5721542563767.645,
          6675132991062.261,
          7628723418356.879,
          8582313845651.48,
          9535904272946.09,
          10489494700240.703,
          11443085127535.29,
          12396675554829.918,
          13350265982124.521,
          14303856409419.121,
          15257446836713.758,
          16211037264008.34,
          17164627691302.96,
          18118218118597.57,
          19071808545892.18
         ]
        },
        {
         "colorscale": [
          [
           0,
           "#440154"
          ],
          [
           0.1111111111111111,
           "#482878"
          ],
          [
           0.2222222222222222,
           "#3e4989"
          ],
          [
           0.3333333333333333,
           "#31688e"
          ],
          [
           0.4444444444444444,
           "#26828e"
          ],
          [
           0.5555555555555556,
           "#1f9e89"
          ],
          [
           0.6666666666666666,
           "#35b779"
          ],
          [
           0.7777777777777778,
           "#6ece58"
          ],
          [
           0.8888888888888888,
           "#b5de2b"
          ],
          [
           1,
           "#fde725"
          ]
         ],
         "type": "heatmap",
         "x": [
          0,
          5,
          10,
          15,
          20,
          25,
          30,
          35,
          40,
          45,
          50,
          55,
          60,
          65,
          70,
          75,
          80,
          85,
          90,
          95,
          100
         ],
         "xaxis": "x65",
         "y": [
          0.1,
          0.2,
          0.30000000000000004,
          0.4,
          0.5,
          0.6,
          0.7000000000000001,
          0.8,
          0.9,
          1
         ],
         "yaxis": "y65",
         "z": [
          0,
          345074893.8417293,
          690149787.6834586,
          1035224681.5251874,
          1380299575.3669171,
          1725374469.2086453,
          2070449363.0503747,
          2415524256.8921013,
          2760599150.7338343,
          3105674044.5755606,
          3450748938.4172907,
          3795823832.259022,
          4140898726.1007495,
          4485973619.942474,
          4831048513.784203,
          5176123407.625935,
          5521198301.467669,
          5866273195.309378,
          6211348089.151121,
          6556422982.992855,
          6901497876.834581
         ]
        },
        {
         "colorscale": [
          [
           0,
           "#440154"
          ],
          [
           0.1111111111111111,
           "#482878"
          ],
          [
           0.2222222222222222,
           "#3e4989"
          ],
          [
           0.3333333333333333,
           "#31688e"
          ],
          [
           0.4444444444444444,
           "#26828e"
          ],
          [
           0.5555555555555556,
           "#1f9e89"
          ],
          [
           0.6666666666666666,
           "#35b779"
          ],
          [
           0.7777777777777778,
           "#6ece58"
          ],
          [
           0.8888888888888888,
           "#b5de2b"
          ],
          [
           1,
           "#fde725"
          ]
         ],
         "type": "heatmap",
         "x": [
          0,
          5,
          10,
          15,
          20,
          25,
          30,
          35,
          40,
          45,
          50,
          55,
          60,
          65,
          70,
          75,
          80,
          85,
          90,
          95,
          100
         ],
         "xaxis": "x66",
         "y": [
          0.1,
          0.2,
          0.30000000000000004,
          0.4,
          0.5,
          0.6,
          0.7000000000000001,
          0.8,
          0.9,
          1
         ],
         "yaxis": "y66",
         "z": [
          0,
          62639.14699919255,
          125278.2939983851,
          187917.4409975778,
          250556.5879967702,
          313195.7349959624,
          375834.8819951556,
          438474.02899434883,
          501113.1759935404,
          563752.3229927332,
          626391.4699919248,
          689030.6169911172,
          751669.7639903112,
          814308.9109895041,
          876948.0579886977,
          939587.2049878889,
          1002226.3519870808,
          1064865.4989862759,
          1127504.6459854664,
          1190143.7929846593,
          1252782.9399838496
         ]
        },
        {
         "colorscale": [
          [
           0,
           "#440154"
          ],
          [
           0.1111111111111111,
           "#482878"
          ],
          [
           0.2222222222222222,
           "#3e4989"
          ],
          [
           0.3333333333333333,
           "#31688e"
          ],
          [
           0.4444444444444444,
           "#26828e"
          ],
          [
           0.5555555555555556,
           "#1f9e89"
          ],
          [
           0.6666666666666666,
           "#35b779"
          ],
          [
           0.7777777777777778,
           "#6ece58"
          ],
          [
           0.8888888888888888,
           "#b5de2b"
          ],
          [
           1,
           "#fde725"
          ]
         ],
         "type": "heatmap",
         "x": [
          0,
          5,
          10,
          15,
          20,
          25,
          30,
          35,
          40,
          45,
          50,
          55,
          60,
          65,
          70,
          75,
          80,
          85,
          90,
          95,
          100
         ],
         "xaxis": "x67",
         "y": [
          0.1,
          0.2,
          0.30000000000000004,
          0.4,
          0.5,
          0.6,
          0.7000000000000001,
          0.8,
          0.9,
          1
         ],
         "yaxis": "y67",
         "z": [
          0,
          5,
          10,
          14.999999999999998,
          20,
          25,
          29.999999999999996,
          35,
          40,
          45,
          50,
          54.99999999999999,
          59.99999999999999,
          65,
          70,
          75,
          80,
          85,
          90,
          95,
          100
         ]
        },
        {
         "colorscale": [
          [
           0,
           "#440154"
          ],
          [
           0.1111111111111111,
           "#482878"
          ],
          [
           0.2222222222222222,
           "#3e4989"
          ],
          [
           0.3333333333333333,
           "#31688e"
          ],
          [
           0.4444444444444444,
           "#26828e"
          ],
          [
           0.5555555555555556,
           "#1f9e89"
          ],
          [
           0.6666666666666666,
           "#35b779"
          ],
          [
           0.7777777777777778,
           "#6ece58"
          ],
          [
           0.8888888888888888,
           "#b5de2b"
          ],
          [
           1,
           "#fde725"
          ]
         ],
         "type": "heatmap",
         "x": [
          0,
          5,
          10,
          15,
          20,
          25,
          30,
          35,
          40,
          45,
          50,
          55,
          60,
          65,
          70,
          75,
          80,
          85,
          90,
          95,
          100
         ],
         "xaxis": "x68",
         "y": [
          0.1,
          0.2,
          0.30000000000000004,
          0.4,
          0.5,
          0.6,
          0.7000000000000001,
          0.8,
          0.9,
          1
         ],
         "yaxis": "y68",
         "z": [
          0,
          0.00014756332715326406,
          0.0002951266543065281,
          0.00044268998145979166,
          0.0005902533086130562,
          0.000737816635766319,
          0.0008853799629195833,
          0.0010329432900728493,
          0.0011805066172261125,
          0.001328069944379374,
          0.001475633271532638,
          0.0016231965986859042,
          0.0017707599258391666,
          0.0019183232529924312,
          0.0020658865801456987,
          0.0022134499072989614,
          0.002361013234452225,
          0.0025085765616054976,
          0.002656139888758748,
          0.002803703215912015,
          0.002951266543065276
         ]
        },
        {
         "colorscale": [
          [
           0,
           "#440154"
          ],
          [
           0.1111111111111111,
           "#482878"
          ],
          [
           0.2222222222222222,
           "#3e4989"
          ],
          [
           0.3333333333333333,
           "#31688e"
          ],
          [
           0.4444444444444444,
           "#26828e"
          ],
          [
           0.5555555555555556,
           "#1f9e89"
          ],
          [
           0.6666666666666666,
           "#35b779"
          ],
          [
           0.7777777777777778,
           "#6ece58"
          ],
          [
           0.8888888888888888,
           "#b5de2b"
          ],
          [
           1,
           "#fde725"
          ]
         ],
         "type": "heatmap",
         "x": [
          0,
          5,
          10,
          15,
          20,
          25,
          30,
          35,
          40,
          45,
          50,
          55,
          60,
          65,
          70,
          75,
          80,
          85,
          90,
          95,
          100
         ],
         "xaxis": "x69",
         "y": [
          0.1,
          0.2,
          0.30000000000000004,
          0.4,
          0.5,
          0.6,
          0.7000000000000001,
          0.8,
          0.9,
          1
         ],
         "yaxis": "y69",
         "z": [
          0,
          1.2731474852090608e-9,
          2.5462949704181215e-9,
          3.819442455627182e-9,
          5.092589940836243e-9,
          6.365737426045304e-9,
          7.638884911254364e-9,
          8.912032396463422e-9,
          1.0185179881672486e-8,
          1.145832736688156e-8,
          1.2731474852090608e-8,
          1.4004622337299647e-8,
          1.5277769822508728e-8,
          1.655091730771775e-8,
          1.7824064792926844e-8,
          1.9097212278135908e-8,
          2.0370359763344972e-8,
          2.1643507248553993e-8,
          2.291665473376312e-8,
          2.4189802218972158e-8,
          2.5462949704181216e-8
         ]
        },
        {
         "colorscale": [
          [
           0,
           "#440154"
          ],
          [
           0.1111111111111111,
           "#482878"
          ],
          [
           0.2222222222222222,
           "#3e4989"
          ],
          [
           0.3333333333333333,
           "#31688e"
          ],
          [
           0.4444444444444444,
           "#26828e"
          ],
          [
           0.5555555555555556,
           "#1f9e89"
          ],
          [
           0.6666666666666666,
           "#35b779"
          ],
          [
           0.7777777777777778,
           "#6ece58"
          ],
          [
           0.8888888888888888,
           "#b5de2b"
          ],
          [
           1,
           "#fde725"
          ]
         ],
         "type": "heatmap",
         "x": [
          0,
          5,
          10,
          15,
          20,
          25,
          30,
          35,
          40,
          45,
          50,
          55,
          60,
          65,
          70,
          75,
          80,
          85,
          90,
          95,
          100
         ],
         "xaxis": "x70",
         "y": [
          0.1,
          0.2,
          0.30000000000000004,
          0.4,
          0.5,
          0.6,
          0.7000000000000001,
          0.8,
          0.9,
          1
         ],
         "yaxis": "y70",
         "z": [
          0,
          2.31034036401771e-15,
          4.62068072803542e-15,
          6.931021092053108e-15,
          9.24136145607084e-15,
          1.1551701820088528e-14,
          1.3862042184106215e-14,
          1.617238254812394e-14,
          1.848272291214168e-14,
          2.0793063276159367e-14,
          2.3103403640177055e-14,
          2.5413744004194743e-14,
          2.772408436821243e-14,
          3.003442473223023e-14,
          3.234476509624788e-14,
          3.465510546026562e-14,
          3.696544582428336e-14,
          3.927578618830097e-14,
          4.1586126552318735e-14,
          4.389646691633645e-14,
          4.620680728035411e-14
         ]
        },
        {
         "colorscale": [
          [
           0,
           "#440154"
          ],
          [
           0.1111111111111111,
           "#482878"
          ],
          [
           0.2222222222222222,
           "#3e4989"
          ],
          [
           0.3333333333333333,
           "#31688e"
          ],
          [
           0.4444444444444444,
           "#26828e"
          ],
          [
           0.5555555555555556,
           "#1f9e89"
          ],
          [
           0.6666666666666666,
           "#35b779"
          ],
          [
           0.7777777777777778,
           "#6ece58"
          ],
          [
           0.8888888888888888,
           "#b5de2b"
          ],
          [
           1,
           "#fde725"
          ]
         ],
         "type": "heatmap",
         "x": [
          0,
          5,
          10,
          15,
          20,
          25,
          30,
          35,
          40,
          45,
          50,
          55,
          60,
          65,
          70,
          75,
          80,
          85,
          90,
          95,
          100
         ],
         "xaxis": "x71",
         "y": [
          0.1,
          0.2,
          0.30000000000000004,
          0.4,
          0.5,
          0.6,
          0.7000000000000001,
          0.8,
          0.9,
          1
         ],
         "yaxis": "y71",
         "z": [
          0,
          3.2614687434729044e+23,
          6.522937486945809e+23,
          9.784406230418712e+23,
          1.3045874973891618e+24,
          1.6307343717364511e+24,
          1.9568812460837424e+24,
          2.2830281204310315e+24,
          2.6091749947783235e+24,
          2.9353218691256135e+24,
          3.2614687434729023e+24,
          3.5876156178201954e+24,
          3.913762492167485e+24,
          4.2399093665147725e+24,
          4.566056240862063e+24,
          4.892203115209352e+24,
          5.218349989556647e+24,
          5.544496863903935e+24,
          5.870643738251227e+24,
          6.196790612598515e+24,
          6.522937486945805e+24
         ]
        },
        {
         "colorscale": [
          [
           0,
           "#440154"
          ],
          [
           0.1111111111111111,
           "#482878"
          ],
          [
           0.2222222222222222,
           "#3e4989"
          ],
          [
           0.3333333333333333,
           "#31688e"
          ],
          [
           0.4444444444444444,
           "#26828e"
          ],
          [
           0.5555555555555556,
           "#1f9e89"
          ],
          [
           0.6666666666666666,
           "#35b779"
          ],
          [
           0.7777777777777778,
           "#6ece58"
          ],
          [
           0.8888888888888888,
           "#b5de2b"
          ],
          [
           1,
           "#fde725"
          ]
         ],
         "type": "heatmap",
         "x": [
          0,
          5,
          10,
          15,
          20,
          25,
          30,
          35,
          40,
          45,
          50,
          55,
          60,
          65,
          70,
          75,
          80,
          85,
          90,
          95,
          100
         ],
         "xaxis": "x72",
         "y": [
          0.1,
          0.2,
          0.30000000000000004,
          0.4,
          0.5,
          0.6,
          0.7000000000000001,
          0.8,
          0.9,
          1
         ],
         "yaxis": "y72",
         "z": [
          0,
          806953086902161100000,
          1.6139061738043222e+21,
          2.4208592607064815e+21,
          3.2278123476086445e+21,
          4.0347654345108053e+21,
          4.841718521412963e+21,
          5.64867160831513e+21,
          6.455624695217289e+21,
          7.262577782119442e+21,
          8.069530869021611e+21,
          8.876483955923765e+21,
          9.683437042825926e+21,
          1.0490390129728092e+22,
          1.129734321663026e+22,
          1.2104296303532406e+22,
          1.2911249390434578e+22,
          1.371820247733673e+22,
          1.4525155564238884e+22,
          1.5332108651141068e+22,
          1.6139061738043221e+22
         ]
        },
        {
         "colorscale": [
          [
           0,
           "#440154"
          ],
          [
           0.1111111111111111,
           "#482878"
          ],
          [
           0.2222222222222222,
           "#3e4989"
          ],
          [
           0.3333333333333333,
           "#31688e"
          ],
          [
           0.4444444444444444,
           "#26828e"
          ],
          [
           0.5555555555555556,
           "#1f9e89"
          ],
          [
           0.6666666666666666,
           "#35b779"
          ],
          [
           0.7777777777777778,
           "#6ece58"
          ],
          [
           0.8888888888888888,
           "#b5de2b"
          ],
          [
           1,
           "#fde725"
          ]
         ],
         "type": "heatmap",
         "x": [
          0,
          5,
          10,
          15,
          20,
          25,
          30,
          35,
          40,
          45,
          50,
          55,
          60,
          65,
          70,
          75,
          80,
          85,
          90,
          95,
          100
         ],
         "xaxis": "x73",
         "y": [
          0.1,
          0.2,
          0.30000000000000004,
          0.4,
          0.5,
          0.6,
          0.7000000000000001,
          0.8,
          0.9,
          1
         ],
         "yaxis": "y73",
         "z": [
          0,
          1355203925117384400,
          2710407850234769000,
          4065611775352153600,
          5420815700469538000,
          6776019625586920000,
          8131223550704307000,
          9486427475821680000,
          10841631400939076000,
          12196835326056460000,
          13552039251173840000,
          14907243176291220000,
          16262447101408614000,
          17617651026525962000,
          18972854951643360000,
          20328058876760760000,
          21683262801878150000,
          23038466726995560000,
          24393670652112920000,
          25748874577230303000,
          27104078502347680000
         ]
        },
        {
         "colorscale": [
          [
           0,
           "#440154"
          ],
          [
           0.1111111111111111,
           "#482878"
          ],
          [
           0.2222222222222222,
           "#3e4989"
          ],
          [
           0.3333333333333333,
           "#31688e"
          ],
          [
           0.4444444444444444,
           "#26828e"
          ],
          [
           0.5555555555555556,
           "#1f9e89"
          ],
          [
           0.6666666666666666,
           "#35b779"
          ],
          [
           0.7777777777777778,
           "#6ece58"
          ],
          [
           0.8888888888888888,
           "#b5de2b"
          ],
          [
           1,
           "#fde725"
          ]
         ],
         "type": "heatmap",
         "x": [
          0,
          5,
          10,
          15,
          20,
          25,
          30,
          35,
          40,
          45,
          50,
          55,
          60,
          65,
          70,
          75,
          80,
          85,
          90,
          95,
          100
         ],
         "xaxis": "x74",
         "y": [
          0.1,
          0.2,
          0.30000000000000004,
          0.4,
          0.5,
          0.6,
          0.7000000000000001,
          0.8,
          0.9,
          1
         ],
         "yaxis": "y74",
         "z": [
          0,
          1464352174589263.8,
          2928704349178527.5,
          4393056523767793,
          5857408698357055,
          7321760872946313,
          8786113047535586,
          10250465222124838,
          11714817396714110,
          13179169571303392,
          14643521745892626,
          16107873920481890,
          17572226095071172,
          19036578269660440,
          20500930444249676,
          21965282618838964,
          23429634793428220,
          24893986968017496,
          26358339142606784,
          27822691317196004,
          29287043491785252
         ]
        },
        {
         "colorscale": [
          [
           0,
           "#440154"
          ],
          [
           0.1111111111111111,
           "#482878"
          ],
          [
           0.2222222222222222,
           "#3e4989"
          ],
          [
           0.3333333333333333,
           "#31688e"
          ],
          [
           0.4444444444444444,
           "#26828e"
          ],
          [
           0.5555555555555556,
           "#1f9e89"
          ],
          [
           0.6666666666666666,
           "#35b779"
          ],
          [
           0.7777777777777778,
           "#6ece58"
          ],
          [
           0.8888888888888888,
           "#b5de2b"
          ],
          [
           1,
           "#fde725"
          ]
         ],
         "type": "heatmap",
         "x": [
          0,
          5,
          10,
          15,
          20,
          25,
          30,
          35,
          40,
          45,
          50,
          55,
          60,
          65,
          70,
          75,
          80,
          85,
          90,
          95,
          100
         ],
         "xaxis": "x75",
         "y": [
          0.1,
          0.2,
          0.30000000000000004,
          0.4,
          0.5,
          0.6,
          0.7000000000000001,
          0.8,
          0.9,
          1
         ],
         "yaxis": "y75",
         "z": [
          0,
          953590427294.6096,
          1907180854589.2192,
          2860771281883.8213,
          3814361709178.4385,
          4767952136473.036,
          5721542563767.643,
          6675132991062.262,
          7628723418356.877,
          8582313845651.5,
          9535904272946.072,
          10489494700240.678,
          11443085127535.285,
          12396675554829.895,
          13350265982124.523,
          14303856409419.117,
          15257446836713.754,
          16211037264008.348,
          17164627691303,
          18118218118597.527,
          19071808545892.145
         ]
        },
        {
         "colorscale": [
          [
           0,
           "#440154"
          ],
          [
           0.1111111111111111,
           "#482878"
          ],
          [
           0.2222222222222222,
           "#3e4989"
          ],
          [
           0.3333333333333333,
           "#31688e"
          ],
          [
           0.4444444444444444,
           "#26828e"
          ],
          [
           0.5555555555555556,
           "#1f9e89"
          ],
          [
           0.6666666666666666,
           "#35b779"
          ],
          [
           0.7777777777777778,
           "#6ece58"
          ],
          [
           0.8888888888888888,
           "#b5de2b"
          ],
          [
           1,
           "#fde725"
          ]
         ],
         "type": "heatmap",
         "x": [
          0,
          5,
          10,
          15,
          20,
          25,
          30,
          35,
          40,
          45,
          50,
          55,
          60,
          65,
          70,
          75,
          80,
          85,
          90,
          95,
          100
         ],
         "xaxis": "x76",
         "y": [
          0.1,
          0.2,
          0.30000000000000004,
          0.4,
          0.5,
          0.6,
          0.7000000000000001,
          0.8,
          0.9,
          1
         ],
         "yaxis": "y76",
         "z": [
          0,
          345074893.84173024,
          690149787.6834605,
          1035224681.5251893,
          1380299575.366921,
          1725374469.2086487,
          2070449363.0503786,
          2415524256.892107,
          2760599150.733842,
          3105674044.575569,
          3450748938.4172974,
          3795823832.259025,
          4140898726.100757,
          4485973619.942491,
          4831048513.784214,
          5176123407.625949,
          5521198301.467684,
          5866273195.309404,
          6211348089.151138,
          6556422982.9928665,
          6901497876.834595
         ]
        },
        {
         "colorscale": [
          [
           0,
           "#440154"
          ],
          [
           0.1111111111111111,
           "#482878"
          ],
          [
           0.2222222222222222,
           "#3e4989"
          ],
          [
           0.3333333333333333,
           "#31688e"
          ],
          [
           0.4444444444444444,
           "#26828e"
          ],
          [
           0.5555555555555556,
           "#1f9e89"
          ],
          [
           0.6666666666666666,
           "#35b779"
          ],
          [
           0.7777777777777778,
           "#6ece58"
          ],
          [
           0.8888888888888888,
           "#b5de2b"
          ],
          [
           1,
           "#fde725"
          ]
         ],
         "type": "heatmap",
         "x": [
          0,
          5,
          10,
          15,
          20,
          25,
          30,
          35,
          40,
          45,
          50,
          55,
          60,
          65,
          70,
          75,
          80,
          85,
          90,
          95,
          100
         ],
         "xaxis": "x77",
         "y": [
          0.1,
          0.2,
          0.30000000000000004,
          0.4,
          0.5,
          0.6,
          0.7000000000000001,
          0.8,
          0.9,
          1
         ],
         "yaxis": "y77",
         "z": [
          0,
          62639.146999192,
          125278.293998384,
          187917.4409975755,
          250556.587996768,
          313195.7349959599,
          375834.881995151,
          438474.02899434435,
          501113.175993536,
          563752.322992727,
          626391.4699919198,
          689030.6169911118,
          751669.763990302,
          814308.910989495,
          876948.0579886887,
          939587.2049878809,
          1002226.351987072,
          1064865.4989862633,
          1127504.645985454,
          1190143.7929846463,
          1252782.9399838396
         ]
        },
        {
         "colorscale": [
          [
           0,
           "#440154"
          ],
          [
           0.1111111111111111,
           "#482878"
          ],
          [
           0.2222222222222222,
           "#3e4989"
          ],
          [
           0.3333333333333333,
           "#31688e"
          ],
          [
           0.4444444444444444,
           "#26828e"
          ],
          [
           0.5555555555555556,
           "#1f9e89"
          ],
          [
           0.6666666666666666,
           "#35b779"
          ],
          [
           0.7777777777777778,
           "#6ece58"
          ],
          [
           0.8888888888888888,
           "#b5de2b"
          ],
          [
           1,
           "#fde725"
          ]
         ],
         "type": "heatmap",
         "x": [
          0,
          5,
          10,
          15,
          20,
          25,
          30,
          35,
          40,
          45,
          50,
          55,
          60,
          65,
          70,
          75,
          80,
          85,
          90,
          95,
          100
         ],
         "xaxis": "x78",
         "y": [
          0.1,
          0.2,
          0.30000000000000004,
          0.4,
          0.5,
          0.6,
          0.7000000000000001,
          0.8,
          0.9,
          1
         ],
         "yaxis": "y78",
         "z": [
          0,
          5,
          10,
          15,
          20,
          25,
          30,
          35,
          40,
          45,
          50,
          55,
          60,
          65,
          70,
          75,
          80,
          85,
          90,
          95,
          100
         ]
        },
        {
         "colorscale": [
          [
           0,
           "#440154"
          ],
          [
           0.1111111111111111,
           "#482878"
          ],
          [
           0.2222222222222222,
           "#3e4989"
          ],
          [
           0.3333333333333333,
           "#31688e"
          ],
          [
           0.4444444444444444,
           "#26828e"
          ],
          [
           0.5555555555555556,
           "#1f9e89"
          ],
          [
           0.6666666666666666,
           "#35b779"
          ],
          [
           0.7777777777777778,
           "#6ece58"
          ],
          [
           0.8888888888888888,
           "#b5de2b"
          ],
          [
           1,
           "#fde725"
          ]
         ],
         "type": "heatmap",
         "x": [
          0,
          5,
          10,
          15,
          20,
          25,
          30,
          35,
          40,
          45,
          50,
          55,
          60,
          65,
          70,
          75,
          80,
          85,
          90,
          95,
          100
         ],
         "xaxis": "x79",
         "y": [
          0.1,
          0.2,
          0.30000000000000004,
          0.4,
          0.5,
          0.6,
          0.7000000000000001,
          0.8,
          0.9,
          1
         ],
         "yaxis": "y79",
         "z": [
          0,
          0.00014756332715326406,
          0.0002951266543065281,
          0.00044268998145979247,
          0.0005902533086130562,
          0.0007378166357663202,
          0.0008853799629195849,
          0.0010329432900728487,
          0.0011805066172261125,
          0.0013280699443793764,
          0.0014756332715326404,
          0.0016231965986859042,
          0.0017707599258391699,
          0.0019183232529924328,
          0.0020658865801456974,
          0.0022134499072989627,
          0.002361013234452225,
          0.0025085765616054893,
          0.002656139888758753,
          0.002803703215912014,
          0.002951266543065281
         ]
        },
        {
         "colorscale": [
          [
           0,
           "#440154"
          ],
          [
           0.1111111111111111,
           "#482878"
          ],
          [
           0.2222222222222222,
           "#3e4989"
          ],
          [
           0.3333333333333333,
           "#31688e"
          ],
          [
           0.4444444444444444,
           "#26828e"
          ],
          [
           0.5555555555555556,
           "#1f9e89"
          ],
          [
           0.6666666666666666,
           "#35b779"
          ],
          [
           0.7777777777777778,
           "#6ece58"
          ],
          [
           0.8888888888888888,
           "#b5de2b"
          ],
          [
           1,
           "#fde725"
          ]
         ],
         "type": "heatmap",
         "x": [
          0,
          5,
          10,
          15,
          20,
          25,
          30,
          35,
          40,
          45,
          50,
          55,
          60,
          65,
          70,
          75,
          80,
          85,
          90,
          95,
          100
         ],
         "xaxis": "x80",
         "y": [
          0.1,
          0.2,
          0.30000000000000004,
          0.4,
          0.5,
          0.6,
          0.7000000000000001,
          0.8,
          0.9,
          1
         ],
         "yaxis": "y80",
         "z": [
          0,
          1.2731474852090618e-9,
          2.5462949704181236e-9,
          3.8194424556271845e-9,
          5.092589940836247e-9,
          6.365737426045308e-9,
          7.638884911254369e-9,
          8.912032396463414e-9,
          1.0185179881672494e-8,
          1.1458327366881545e-8,
          1.2731474852090616e-8,
          1.4004622337299667e-8,
          1.5277769822508738e-8,
          1.655091730771773e-8,
          1.7824064792926827e-8,
          1.9097212278135918e-8,
          2.037035976334499e-8,
          2.1643507248554007e-8,
          2.291665473376309e-8,
          2.418980221897209e-8,
          2.5462949704181233e-8
         ]
        },
        {
         "colorscale": [
          [
           0,
           "#440154"
          ],
          [
           0.1111111111111111,
           "#482878"
          ],
          [
           0.2222222222222222,
           "#3e4989"
          ],
          [
           0.3333333333333333,
           "#31688e"
          ],
          [
           0.4444444444444444,
           "#26828e"
          ],
          [
           0.5555555555555556,
           "#1f9e89"
          ],
          [
           0.6666666666666666,
           "#35b779"
          ],
          [
           0.7777777777777778,
           "#6ece58"
          ],
          [
           0.8888888888888888,
           "#b5de2b"
          ],
          [
           1,
           "#fde725"
          ]
         ],
         "type": "heatmap",
         "x": [
          0,
          5,
          10,
          15,
          20,
          25,
          30,
          35,
          40,
          45,
          50,
          55,
          60,
          65,
          70,
          75,
          80,
          85,
          90,
          95,
          100
         ],
         "xaxis": "x81",
         "y": [
          0.1,
          0.2,
          0.30000000000000004,
          0.4,
          0.5,
          0.6,
          0.7000000000000001,
          0.8,
          0.9,
          1
         ],
         "yaxis": "y81",
         "z": [
          0,
          9.352937011875483e+25,
          1.8705874023750966e+26,
          2.8058811035626435e+26,
          3.741174804750193e+26,
          4.6764685059377415e+26,
          5.611762207125287e+26,
          6.547055908312826e+26,
          7.482349609500386e+26,
          8.417643310687935e+26,
          9.352937011875483e+26,
          1.0288230713063037e+27,
          1.1223524414250574e+27,
          1.2158818115438129e+27,
          1.3094111816625651e+27,
          1.4029405517813222e+27,
          1.4964699219000773e+27,
          1.5899992920188307e+27,
          1.683528662137587e+27,
          1.777058032256342e+27,
          1.8705874023750966e+27
         ]
        },
        {
         "colorscale": [
          [
           0,
           "#440154"
          ],
          [
           0.1111111111111111,
           "#482878"
          ],
          [
           0.2222222222222222,
           "#3e4989"
          ],
          [
           0.3333333333333333,
           "#31688e"
          ],
          [
           0.4444444444444444,
           "#26828e"
          ],
          [
           0.5555555555555556,
           "#1f9e89"
          ],
          [
           0.6666666666666666,
           "#35b779"
          ],
          [
           0.7777777777777778,
           "#6ece58"
          ],
          [
           0.8888888888888888,
           "#b5de2b"
          ],
          [
           1,
           "#fde725"
          ]
         ],
         "type": "heatmap",
         "x": [
          0,
          5,
          10,
          15,
          20,
          25,
          30,
          35,
          40,
          45,
          50,
          55,
          60,
          65,
          70,
          75,
          80,
          85,
          90,
          95,
          100
         ],
         "xaxis": "x82",
         "y": [
          0.1,
          0.2,
          0.30000000000000004,
          0.4,
          0.5,
          0.6,
          0.7000000000000001,
          0.8,
          0.9,
          1
         ],
         "yaxis": "y82",
         "z": [
          0,
          3.261468743472892e+23,
          6.522937486945783e+23,
          9.784406230418685e+23,
          1.3045874973891567e+24,
          1.630734371736447e+24,
          1.956881246083737e+24,
          2.2830281204310226e+24,
          2.6091749947783133e+24,
          2.9353218691256086e+24,
          3.261468743472894e+24,
          3.5876156178201815e+24,
          3.913762492167474e+24,
          4.239909366514762e+24,
          4.5660562408620453e+24,
          4.892203115209342e+24,
          5.218349989556627e+24,
          5.54449686390392e+24,
          5.870643738251217e+24,
          6.196790612598493e+24,
          6.522937486945788e+24
         ]
        },
        {
         "colorscale": [
          [
           0,
           "#440154"
          ],
          [
           0.1111111111111111,
           "#482878"
          ],
          [
           0.2222222222222222,
           "#3e4989"
          ],
          [
           0.3333333333333333,
           "#31688e"
          ],
          [
           0.4444444444444444,
           "#26828e"
          ],
          [
           0.5555555555555556,
           "#1f9e89"
          ],
          [
           0.6666666666666666,
           "#35b779"
          ],
          [
           0.7777777777777778,
           "#6ece58"
          ],
          [
           0.8888888888888888,
           "#b5de2b"
          ],
          [
           1,
           "#fde725"
          ]
         ],
         "type": "heatmap",
         "x": [
          0,
          5,
          10,
          15,
          20,
          25,
          30,
          35,
          40,
          45,
          50,
          55,
          60,
          65,
          70,
          75,
          80,
          85,
          90,
          95,
          100
         ],
         "xaxis": "x83",
         "y": [
          0.1,
          0.2,
          0.30000000000000004,
          0.4,
          0.5,
          0.6,
          0.7000000000000001,
          0.8,
          0.9,
          1
         ],
         "yaxis": "y83",
         "z": [
          0,
          806953086902157400000,
          1.613906173804315e+21,
          2.420859260706473e+21,
          3.22781234760863e+21,
          4.0347654345107875e+21,
          4.841718521412946e+21,
          5.648671608315109e+21,
          6.45562469521726e+21,
          7.262577782119419e+21,
          8.069530869021575e+21,
          8.87648395592375e+21,
          9.683437042825892e+21,
          1.0490390129728056e+22,
          1.1297343216630217e+22,
          1.2104296303532366e+22,
          1.291124939043452e+22,
          1.3718202477336685e+22,
          1.4525155564238838e+22,
          1.5332108651140997e+22,
          1.613906173804315e+22
         ]
        },
        {
         "colorscale": [
          [
           0,
           "#440154"
          ],
          [
           0.1111111111111111,
           "#482878"
          ],
          [
           0.2222222222222222,
           "#3e4989"
          ],
          [
           0.3333333333333333,
           "#31688e"
          ],
          [
           0.4444444444444444,
           "#26828e"
          ],
          [
           0.5555555555555556,
           "#1f9e89"
          ],
          [
           0.6666666666666666,
           "#35b779"
          ],
          [
           0.7777777777777778,
           "#6ece58"
          ],
          [
           0.8888888888888888,
           "#b5de2b"
          ],
          [
           1,
           "#fde725"
          ]
         ],
         "type": "heatmap",
         "x": [
          0,
          5,
          10,
          15,
          20,
          25,
          30,
          35,
          40,
          45,
          50,
          55,
          60,
          65,
          70,
          75,
          80,
          85,
          90,
          95,
          100
         ],
         "xaxis": "x84",
         "y": [
          0.1,
          0.2,
          0.30000000000000004,
          0.4,
          0.5,
          0.6,
          0.7000000000000001,
          0.8,
          0.9,
          1
         ],
         "yaxis": "y84",
         "z": [
          0,
          1355203925117384700,
          2710407850234769400,
          4065611775352154000,
          5420815700469539000,
          6776019625586918000,
          8131223550704308000,
          9486427475821697000,
          10841631400939078000,
          12196835326056462000,
          13552039251173837000,
          14907243176291185000,
          16262447101408616000,
          17617651026525983000,
          18972854951643394000,
          20328058876760756000,
          21683262801878155000,
          23038466726995554000,
          24393670652112925000,
          25748874577230287000,
          27104078502347674000
         ]
        },
        {
         "colorscale": [
          [
           0,
           "#440154"
          ],
          [
           0.1111111111111111,
           "#482878"
          ],
          [
           0.2222222222222222,
           "#3e4989"
          ],
          [
           0.3333333333333333,
           "#31688e"
          ],
          [
           0.4444444444444444,
           "#26828e"
          ],
          [
           0.5555555555555556,
           "#1f9e89"
          ],
          [
           0.6666666666666666,
           "#35b779"
          ],
          [
           0.7777777777777778,
           "#6ece58"
          ],
          [
           0.8888888888888888,
           "#b5de2b"
          ],
          [
           1,
           "#fde725"
          ]
         ],
         "type": "heatmap",
         "x": [
          0,
          5,
          10,
          15,
          20,
          25,
          30,
          35,
          40,
          45,
          50,
          55,
          60,
          65,
          70,
          75,
          80,
          85,
          90,
          95,
          100
         ],
         "xaxis": "x85",
         "y": [
          0.1,
          0.2,
          0.30000000000000004,
          0.4,
          0.5,
          0.6,
          0.7000000000000001,
          0.8,
          0.9,
          1
         ],
         "yaxis": "y85",
         "z": [
          0,
          1464352174589266.8,
          2928704349178533.5,
          4393056523767788,
          5857408698357067,
          7321760872946314,
          8786113047535576,
          10250465222124840,
          11714817396714134,
          13179169571303378,
          14643521745892628,
          16107873920481896,
          17572226095071152,
          19036578269660444,
          20500930444249680,
          21965282618838956,
          23429634793428268,
          24893986968017536,
          26358339142606756,
          27822691317196012,
          29287043491785256
         ]
        },
        {
         "colorscale": [
          [
           0,
           "#440154"
          ],
          [
           0.1111111111111111,
           "#482878"
          ],
          [
           0.2222222222222222,
           "#3e4989"
          ],
          [
           0.3333333333333333,
           "#31688e"
          ],
          [
           0.4444444444444444,
           "#26828e"
          ],
          [
           0.5555555555555556,
           "#1f9e89"
          ],
          [
           0.6666666666666666,
           "#35b779"
          ],
          [
           0.7777777777777778,
           "#6ece58"
          ],
          [
           0.8888888888888888,
           "#b5de2b"
          ],
          [
           1,
           "#fde725"
          ]
         ],
         "type": "heatmap",
         "x": [
          0,
          5,
          10,
          15,
          20,
          25,
          30,
          35,
          40,
          45,
          50,
          55,
          60,
          65,
          70,
          75,
          80,
          85,
          90,
          95,
          100
         ],
         "xaxis": "x86",
         "y": [
          0.1,
          0.2,
          0.30000000000000004,
          0.4,
          0.5,
          0.6,
          0.7000000000000001,
          0.8,
          0.9,
          1
         ],
         "yaxis": "y86",
         "z": [
          0,
          953590427294.6099,
          1907180854589.2197,
          2860771281883.8223,
          3814361709178.4395,
          4767952136473.051,
          5721542563767.645,
          6675132991062.262,
          7628723418356.879,
          8582313845651.459,
          9535904272946.102,
          10489494700240.678,
          11443085127535.29,
          12396675554829.934,
          13350265982124.523,
          14303856409419.105,
          15257446836713.758,
          16211037264008.324,
          17164627691302.918,
          18118218118597.61,
          19071808545892.203
         ]
        },
        {
         "colorscale": [
          [
           0,
           "#440154"
          ],
          [
           0.1111111111111111,
           "#482878"
          ],
          [
           0.2222222222222222,
           "#3e4989"
          ],
          [
           0.3333333333333333,
           "#31688e"
          ],
          [
           0.4444444444444444,
           "#26828e"
          ],
          [
           0.5555555555555556,
           "#1f9e89"
          ],
          [
           0.6666666666666666,
           "#35b779"
          ],
          [
           0.7777777777777778,
           "#6ece58"
          ],
          [
           0.8888888888888888,
           "#b5de2b"
          ],
          [
           1,
           "#fde725"
          ]
         ],
         "type": "heatmap",
         "x": [
          0,
          5,
          10,
          15,
          20,
          25,
          30,
          35,
          40,
          45,
          50,
          55,
          60,
          65,
          70,
          75,
          80,
          85,
          90,
          95,
          100
         ],
         "xaxis": "x87",
         "y": [
          0.1,
          0.2,
          0.30000000000000004,
          0.4,
          0.5,
          0.6,
          0.7000000000000001,
          0.8,
          0.9,
          1
         ],
         "yaxis": "y87",
         "z": [
          0,
          345074893.84172595,
          690149787.6834519,
          1035224681.5251791,
          1380299575.3669038,
          1725374469.208632,
          2070449363.0503583,
          2415524256.892087,
          2760599150.7338076,
          3105674044.575538,
          3450748938.417264,
          3795823832.2589874,
          4140898726.1007166,
          4485973619.942437,
          4831048513.784174,
          5176123407.625896,
          5521198301.467615,
          5866273195.309337,
          6211348089.151076,
          6556422982.992802,
          6901497876.834528
         ]
        },
        {
         "colorscale": [
          [
           0,
           "#440154"
          ],
          [
           0.1111111111111111,
           "#482878"
          ],
          [
           0.2222222222222222,
           "#3e4989"
          ],
          [
           0.3333333333333333,
           "#31688e"
          ],
          [
           0.4444444444444444,
           "#26828e"
          ],
          [
           0.5555555555555556,
           "#1f9e89"
          ],
          [
           0.6666666666666666,
           "#35b779"
          ],
          [
           0.7777777777777778,
           "#6ece58"
          ],
          [
           0.8888888888888888,
           "#b5de2b"
          ],
          [
           1,
           "#fde725"
          ]
         ],
         "type": "heatmap",
         "x": [
          0,
          5,
          10,
          15,
          20,
          25,
          30,
          35,
          40,
          45,
          50,
          55,
          60,
          65,
          70,
          75,
          80,
          85,
          90,
          95,
          100
         ],
         "xaxis": "x88",
         "y": [
          0.1,
          0.2,
          0.30000000000000004,
          0.4,
          0.5,
          0.6,
          0.7000000000000001,
          0.8,
          0.9,
          1
         ],
         "yaxis": "y88",
         "z": [
          0,
          62639.146999192,
          125278.293998384,
          187917.44099757588,
          250556.587996768,
          313195.73499596026,
          375834.88199515175,
          438474.0289943447,
          501113.175993536,
          563752.3229927272,
          626391.4699919205,
          689030.6169911127,
          751669.7639903035,
          814308.9109894959,
          876948.0579886894,
          939587.2049878805,
          1002226.351987072,
          1064865.4989862647,
          1127504.6459854543,
          1190143.7929846498,
          1252782.939983841
         ]
        },
        {
         "colorscale": [
          [
           0,
           "#440154"
          ],
          [
           0.1111111111111111,
           "#482878"
          ],
          [
           0.2222222222222222,
           "#3e4989"
          ],
          [
           0.3333333333333333,
           "#31688e"
          ],
          [
           0.4444444444444444,
           "#26828e"
          ],
          [
           0.5555555555555556,
           "#1f9e89"
          ],
          [
           0.6666666666666666,
           "#35b779"
          ],
          [
           0.7777777777777778,
           "#6ece58"
          ],
          [
           0.8888888888888888,
           "#b5de2b"
          ],
          [
           1,
           "#fde725"
          ]
         ],
         "type": "heatmap",
         "x": [
          0,
          5,
          10,
          15,
          20,
          25,
          30,
          35,
          40,
          45,
          50,
          55,
          60,
          65,
          70,
          75,
          80,
          85,
          90,
          95,
          100
         ],
         "xaxis": "x89",
         "y": [
          0.1,
          0.2,
          0.30000000000000004,
          0.4,
          0.5,
          0.6,
          0.7000000000000001,
          0.8,
          0.9,
          1
         ],
         "yaxis": "y89",
         "z": [
          0,
          5,
          10,
          15,
          20,
          25,
          30,
          35,
          40,
          45,
          50,
          55,
          60,
          65,
          70,
          75,
          80,
          85,
          90,
          95,
          100
         ]
        },
        {
         "colorscale": [
          [
           0,
           "#440154"
          ],
          [
           0.1111111111111111,
           "#482878"
          ],
          [
           0.2222222222222222,
           "#3e4989"
          ],
          [
           0.3333333333333333,
           "#31688e"
          ],
          [
           0.4444444444444444,
           "#26828e"
          ],
          [
           0.5555555555555556,
           "#1f9e89"
          ],
          [
           0.6666666666666666,
           "#35b779"
          ],
          [
           0.7777777777777778,
           "#6ece58"
          ],
          [
           0.8888888888888888,
           "#b5de2b"
          ],
          [
           1,
           "#fde725"
          ]
         ],
         "type": "heatmap",
         "x": [
          0,
          5,
          10,
          15,
          20,
          25,
          30,
          35,
          40,
          45,
          50,
          55,
          60,
          65,
          70,
          75,
          80,
          85,
          90,
          95,
          100
         ],
         "xaxis": "x90",
         "y": [
          0.1,
          0.2,
          0.30000000000000004,
          0.4,
          0.5,
          0.6,
          0.7000000000000001,
          0.8,
          0.9,
          1
         ],
         "yaxis": "y90",
         "z": [
          0,
          0.00014756332715326425,
          0.0002951266543065285,
          0.00044268998145979225,
          0.000590253308613057,
          0.0007378166357663199,
          0.0008853799629195845,
          0.0010329432900728474,
          0.001180506617226114,
          0.0013280699443793758,
          0.0014756332715326398,
          0.0016231965986859076,
          0.001770759925839169,
          0.0019183232529924347,
          0.002065886580145695,
          0.002213449907298959,
          0.002361013234452228,
          0.002508576561605489,
          0.0026561398887587516,
          0.002803703215912017,
          0.0029512665430652795
         ]
        },
        {
         "colorscale": [
          [
           0,
           "#440154"
          ],
          [
           0.1111111111111111,
           "#482878"
          ],
          [
           0.2222222222222222,
           "#3e4989"
          ],
          [
           0.3333333333333333,
           "#31688e"
          ],
          [
           0.4444444444444444,
           "#26828e"
          ],
          [
           0.5555555555555556,
           "#1f9e89"
          ],
          [
           0.6666666666666666,
           "#35b779"
          ],
          [
           0.7777777777777778,
           "#6ece58"
          ],
          [
           0.8888888888888888,
           "#b5de2b"
          ],
          [
           1,
           "#fde725"
          ]
         ],
         "type": "heatmap",
         "x": [
          0,
          5,
          10,
          15,
          20,
          25,
          30,
          35,
          40,
          45,
          50,
          55,
          60,
          65,
          70,
          75,
          80,
          85,
          90,
          95,
          100
         ],
         "xaxis": "x91",
         "y": [
          0.1,
          0.2,
          0.30000000000000004,
          0.4,
          0.5,
          0.6,
          0.7000000000000001,
          0.8,
          0.9,
          1
         ],
         "yaxis": "y91",
         "z": [
          0,
          1.975042742059263e+28,
          3.950085484118526e+28,
          5.925128226177789e+28,
          7.900170968237052e+28,
          9.875213710296316e+28,
          1.1850256452355577e+29,
          1.3825299194414842e+29,
          1.5800341936474104e+29,
          1.7775384678533363e+29,
          1.9750427420592632e+29,
          2.172547016265187e+29,
          2.3700512904711155e+29,
          2.5675555646770416e+29,
          2.7650598388829685e+29,
          2.9625641130888932e+29,
          3.1600683872948207e+29,
          3.357572661500748e+29,
          3.555076935706673e+29,
          3.7525812099126e+29,
          3.9500854841185264e+29
         ]
        },
        {
         "colorscale": [
          [
           0,
           "#440154"
          ],
          [
           0.1111111111111111,
           "#482878"
          ],
          [
           0.2222222222222222,
           "#3e4989"
          ],
          [
           0.3333333333333333,
           "#31688e"
          ],
          [
           0.4444444444444444,
           "#26828e"
          ],
          [
           0.5555555555555556,
           "#1f9e89"
          ],
          [
           0.6666666666666666,
           "#35b779"
          ],
          [
           0.7777777777777778,
           "#6ece58"
          ],
          [
           0.8888888888888888,
           "#b5de2b"
          ],
          [
           1,
           "#fde725"
          ]
         ],
         "type": "heatmap",
         "x": [
          0,
          5,
          10,
          15,
          20,
          25,
          30,
          35,
          40,
          45,
          50,
          55,
          60,
          65,
          70,
          75,
          80,
          85,
          90,
          95,
          100
         ],
         "xaxis": "x92",
         "y": [
          0.1,
          0.2,
          0.30000000000000004,
          0.4,
          0.5,
          0.6,
          0.7000000000000001,
          0.8,
          0.9,
          1
         ],
         "yaxis": "y92",
         "z": [
          0,
          9.352937011875456e+25,
          1.870587402375091e+26,
          2.8058811035626394e+26,
          3.741174804750182e+26,
          4.676468505937732e+26,
          5.611762207125279e+26,
          6.547055908312831e+26,
          7.482349609500364e+26,
          8.417643310687917e+26,
          9.352937011875464e+26,
          1.0288230713063015e+27,
          1.1223524414250558e+27,
          1.215881811543811e+27,
          1.3094111816625662e+27,
          1.4029405517813205e+27,
          1.496469921900073e+27,
          1.5899992920188288e+27,
          1.6835286621375834e+27,
          1.7770580322563387e+27,
          1.8705874023750928e+27
         ]
        },
        {
         "colorscale": [
          [
           0,
           "#440154"
          ],
          [
           0.1111111111111111,
           "#482878"
          ],
          [
           0.2222222222222222,
           "#3e4989"
          ],
          [
           0.3333333333333333,
           "#31688e"
          ],
          [
           0.4444444444444444,
           "#26828e"
          ],
          [
           0.5555555555555556,
           "#1f9e89"
          ],
          [
           0.6666666666666666,
           "#35b779"
          ],
          [
           0.7777777777777778,
           "#6ece58"
          ],
          [
           0.8888888888888888,
           "#b5de2b"
          ],
          [
           1,
           "#fde725"
          ]
         ],
         "type": "heatmap",
         "x": [
          0,
          5,
          10,
          15,
          20,
          25,
          30,
          35,
          40,
          45,
          50,
          55,
          60,
          65,
          70,
          75,
          80,
          85,
          90,
          95,
          100
         ],
         "xaxis": "x93",
         "y": [
          0.1,
          0.2,
          0.30000000000000004,
          0.4,
          0.5,
          0.6,
          0.7000000000000001,
          0.8,
          0.9,
          1
         ],
         "yaxis": "y93",
         "z": [
          0,
          3.261468743472884e+23,
          6.522937486945769e+23,
          9.784406230418654e+23,
          1.3045874973891537e+24,
          1.6307343717364426e+24,
          1.9568812460837309e+24,
          2.28302812043102e+24,
          2.6091749947783074e+24,
          2.9353218691255963e+24,
          3.261468743472885e+24,
          3.587615617820172e+24,
          3.9137624921674617e+24,
          4.2399093665147505e+24,
          4.56605624086204e+24,
          4.892203115209328e+24,
          5.218349989556615e+24,
          5.544496863903905e+24,
          5.870643738251193e+24,
          6.196790612598484e+24,
          6.52293748694577e+24
         ]
        },
        {
         "colorscale": [
          [
           0,
           "#440154"
          ],
          [
           0.1111111111111111,
           "#482878"
          ],
          [
           0.2222222222222222,
           "#3e4989"
          ],
          [
           0.3333333333333333,
           "#31688e"
          ],
          [
           0.4444444444444444,
           "#26828e"
          ],
          [
           0.5555555555555556,
           "#1f9e89"
          ],
          [
           0.6666666666666666,
           "#35b779"
          ],
          [
           0.7777777777777778,
           "#6ece58"
          ],
          [
           0.8888888888888888,
           "#b5de2b"
          ],
          [
           1,
           "#fde725"
          ]
         ],
         "type": "heatmap",
         "x": [
          0,
          5,
          10,
          15,
          20,
          25,
          30,
          35,
          40,
          45,
          50,
          55,
          60,
          65,
          70,
          75,
          80,
          85,
          90,
          95,
          100
         ],
         "xaxis": "x94",
         "y": [
          0.1,
          0.2,
          0.30000000000000004,
          0.4,
          0.5,
          0.6,
          0.7000000000000001,
          0.8,
          0.9,
          1
         ],
         "yaxis": "y94",
         "z": [
          0,
          806953086902159500000,
          1.613906173804319e+21,
          2.420859260706479e+21,
          3.227812347608638e+21,
          4.0347654345107974e+21,
          4.841718521412958e+21,
          5.648671608315107e+21,
          6.455624695217276e+21,
          7.262577782119426e+21,
          8.069530869021595e+21,
          8.876483955923749e+21,
          9.683437042825916e+21,
          1.0490390129728066e+22,
          1.1297343216630213e+22,
          1.2104296303532395e+22,
          1.2911249390434553e+22,
          1.3718202477336695e+22,
          1.4525155564238852e+22,
          1.533210865114102e+22,
          1.613906173804319e+22
         ]
        },
        {
         "colorscale": [
          [
           0,
           "#440154"
          ],
          [
           0.1111111111111111,
           "#482878"
          ],
          [
           0.2222222222222222,
           "#3e4989"
          ],
          [
           0.3333333333333333,
           "#31688e"
          ],
          [
           0.4444444444444444,
           "#26828e"
          ],
          [
           0.5555555555555556,
           "#1f9e89"
          ],
          [
           0.6666666666666666,
           "#35b779"
          ],
          [
           0.7777777777777778,
           "#6ece58"
          ],
          [
           0.8888888888888888,
           "#b5de2b"
          ],
          [
           1,
           "#fde725"
          ]
         ],
         "type": "heatmap",
         "x": [
          0,
          5,
          10,
          15,
          20,
          25,
          30,
          35,
          40,
          45,
          50,
          55,
          60,
          65,
          70,
          75,
          80,
          85,
          90,
          95,
          100
         ],
         "xaxis": "x95",
         "y": [
          0.1,
          0.2,
          0.30000000000000004,
          0.4,
          0.5,
          0.6,
          0.7000000000000001,
          0.8,
          0.9,
          1
         ],
         "yaxis": "y95",
         "z": [
          0,
          1355203925117383200,
          2710407850234766300,
          4065611775352149500,
          5420815700469533000,
          6776019625586924000,
          8131223550704299000,
          9486427475821689000,
          10841631400939065000,
          12196835326056448000,
          13552039251173847000,
          14907243176291234000,
          16262447101408598000,
          17617651026525997000,
          18972854951643378000,
          20328058876760770000,
          21683262801878130000,
          23038466726995526000,
          24393670652112896000,
          25748874577230287000,
          27104078502347694000
         ]
        },
        {
         "colorscale": [
          [
           0,
           "#440154"
          ],
          [
           0.1111111111111111,
           "#482878"
          ],
          [
           0.2222222222222222,
           "#3e4989"
          ],
          [
           0.3333333333333333,
           "#31688e"
          ],
          [
           0.4444444444444444,
           "#26828e"
          ],
          [
           0.5555555555555556,
           "#1f9e89"
          ],
          [
           0.6666666666666666,
           "#35b779"
          ],
          [
           0.7777777777777778,
           "#6ece58"
          ],
          [
           0.8888888888888888,
           "#b5de2b"
          ],
          [
           1,
           "#fde725"
          ]
         ],
         "type": "heatmap",
         "x": [
          0,
          5,
          10,
          15,
          20,
          25,
          30,
          35,
          40,
          45,
          50,
          55,
          60,
          65,
          70,
          75,
          80,
          85,
          90,
          95,
          100
         ],
         "xaxis": "x96",
         "y": [
          0.1,
          0.2,
          0.30000000000000004,
          0.4,
          0.5,
          0.6,
          0.7000000000000001,
          0.8,
          0.9,
          1
         ],
         "yaxis": "y96",
         "z": [
          0,
          1464352174589263.8,
          2928704349178527.5,
          4393056523767794.5,
          5857408698357055,
          7321760872946320,
          8786113047535589,
          10250465222124848,
          11714817396714110,
          13179169571303388,
          14643521745892640,
          16107873920481902,
          17572226095071178,
          19036578269660436,
          20500930444249696,
          21965282618838964,
          23429634793428220,
          24893986968017476,
          26358339142606776,
          27822691317196020,
          29287043491785280
         ]
        },
        {
         "colorscale": [
          [
           0,
           "#440154"
          ],
          [
           0.1111111111111111,
           "#482878"
          ],
          [
           0.2222222222222222,
           "#3e4989"
          ],
          [
           0.3333333333333333,
           "#31688e"
          ],
          [
           0.4444444444444444,
           "#26828e"
          ],
          [
           0.5555555555555556,
           "#1f9e89"
          ],
          [
           0.6666666666666666,
           "#35b779"
          ],
          [
           0.7777777777777778,
           "#6ece58"
          ],
          [
           0.8888888888888888,
           "#b5de2b"
          ],
          [
           1,
           "#fde725"
          ]
         ],
         "type": "heatmap",
         "x": [
          0,
          5,
          10,
          15,
          20,
          25,
          30,
          35,
          40,
          45,
          50,
          55,
          60,
          65,
          70,
          75,
          80,
          85,
          90,
          95,
          100
         ],
         "xaxis": "x97",
         "y": [
          0.1,
          0.2,
          0.30000000000000004,
          0.4,
          0.5,
          0.6,
          0.7000000000000001,
          0.8,
          0.9,
          1
         ],
         "yaxis": "y97",
         "z": [
          0,
          953590427294.5996,
          1907180854589.1992,
          2860771281883.8003,
          3814361709178.3984,
          4767952136473.001,
          5721542563767.601,
          6675132991062.193,
          7628723418356.797,
          8582313845651.399,
          9535904272946.002,
          10489494700240.598,
          11443085127535.201,
          12396675554829.8,
          13350265982124.387,
          14303856409418.996,
          15257446836713.594,
          16211037264008.207,
          17164627691302.799,
          18118218118597.4,
          19071808545892.004
         ]
        },
        {
         "colorscale": [
          [
           0,
           "#440154"
          ],
          [
           0.1111111111111111,
           "#482878"
          ],
          [
           0.2222222222222222,
           "#3e4989"
          ],
          [
           0.3333333333333333,
           "#31688e"
          ],
          [
           0.4444444444444444,
           "#26828e"
          ],
          [
           0.5555555555555556,
           "#1f9e89"
          ],
          [
           0.6666666666666666,
           "#35b779"
          ],
          [
           0.7777777777777778,
           "#6ece58"
          ],
          [
           0.8888888888888888,
           "#b5de2b"
          ],
          [
           1,
           "#fde725"
          ]
         ],
         "type": "heatmap",
         "x": [
          0,
          5,
          10,
          15,
          20,
          25,
          30,
          35,
          40,
          45,
          50,
          55,
          60,
          65,
          70,
          75,
          80,
          85,
          90,
          95,
          100
         ],
         "xaxis": "x98",
         "y": [
          0.1,
          0.2,
          0.30000000000000004,
          0.4,
          0.5,
          0.6,
          0.7000000000000001,
          0.8,
          0.9,
          1
         ],
         "yaxis": "y98",
         "z": [
          0,
          345074893.841726,
          690149787.683452,
          1035224681.5251782,
          1380299575.366904,
          1725374469.2086303,
          2070449363.0503564,
          2415524256.8920813,
          2760599150.733808,
          3105674044.5755343,
          3450748938.4172606,
          3795823832.2589846,
          4140898726.100713,
          4485973619.942438,
          4831048513.7841625,
          5176123407.625891,
          5521198301.467616,
          5866273195.309341,
          6211348089.151069,
          6556422982.992791,
          6901497876.834521
         ]
        },
        {
         "colorscale": [
          [
           0,
           "#440154"
          ],
          [
           0.1111111111111111,
           "#482878"
          ],
          [
           0.2222222222222222,
           "#3e4989"
          ],
          [
           0.3333333333333333,
           "#31688e"
          ],
          [
           0.4444444444444444,
           "#26828e"
          ],
          [
           0.5555555555555556,
           "#1f9e89"
          ],
          [
           0.6666666666666666,
           "#35b779"
          ],
          [
           0.7777777777777778,
           "#6ece58"
          ],
          [
           0.8888888888888888,
           "#b5de2b"
          ],
          [
           1,
           "#fde725"
          ]
         ],
         "type": "heatmap",
         "x": [
          0,
          5,
          10,
          15,
          20,
          25,
          30,
          35,
          40,
          45,
          50,
          55,
          60,
          65,
          70,
          75,
          80,
          85,
          90,
          95,
          100
         ],
         "xaxis": "x99",
         "y": [
          0.1,
          0.2,
          0.30000000000000004,
          0.4,
          0.5,
          0.6,
          0.7000000000000001,
          0.8,
          0.9,
          1
         ],
         "yaxis": "y99",
         "z": [
          0,
          62639.14699919207,
          125278.29399838414,
          187917.44099757617,
          250556.58799676827,
          313195.73499596026,
          375834.88199515233,
          438474.02899434377,
          501113.17599353654,
          563752.3229927283,
          626391.4699919205,
          689030.6169911126,
          751669.7639903047,
          814308.9109894962,
          876948.0579886875,
          939587.2049878802,
          1002226.3519870731,
          1064865.4989862642,
          1127504.6459854566,
          1190143.7929846481,
          1252782.939983841
         ]
        },
        {
         "colorscale": [
          [
           0,
           "#440154"
          ],
          [
           0.1111111111111111,
           "#482878"
          ],
          [
           0.2222222222222222,
           "#3e4989"
          ],
          [
           0.3333333333333333,
           "#31688e"
          ],
          [
           0.4444444444444444,
           "#26828e"
          ],
          [
           0.5555555555555556,
           "#1f9e89"
          ],
          [
           0.6666666666666666,
           "#35b779"
          ],
          [
           0.7777777777777778,
           "#6ece58"
          ],
          [
           0.8888888888888888,
           "#b5de2b"
          ],
          [
           1,
           "#fde725"
          ]
         ],
         "type": "heatmap",
         "x": [
          0,
          5,
          10,
          15,
          20,
          25,
          30,
          35,
          40,
          45,
          50,
          55,
          60,
          65,
          70,
          75,
          80,
          85,
          90,
          95,
          100
         ],
         "xaxis": "x100",
         "y": [
          0.1,
          0.2,
          0.30000000000000004,
          0.4,
          0.5,
          0.6,
          0.7000000000000001,
          0.8,
          0.9,
          1
         ],
         "yaxis": "y100",
         "z": [
          0,
          5,
          10,
          15,
          20,
          25,
          30,
          35,
          40,
          45,
          50,
          55,
          60,
          65,
          70,
          75,
          80,
          85,
          90,
          95,
          100
         ]
        }
       ],
       "layout": {
        "font": {
         "size": 10
        },
        "height": 1000,
        "showlegend": false,
        "template": {
         "data": {
          "bar": [
           {
            "error_x": {
             "color": "#2a3f5f"
            },
            "error_y": {
             "color": "#2a3f5f"
            },
            "marker": {
             "line": {
              "color": "#E5ECF6",
              "width": 0.5
             },
             "pattern": {
              "fillmode": "overlay",
              "size": 10,
              "solidity": 0.2
             }
            },
            "type": "bar"
           }
          ],
          "barpolar": [
           {
            "marker": {
             "line": {
              "color": "#E5ECF6",
              "width": 0.5
             },
             "pattern": {
              "fillmode": "overlay",
              "size": 10,
              "solidity": 0.2
             }
            },
            "type": "barpolar"
           }
          ],
          "carpet": [
           {
            "aaxis": {
             "endlinecolor": "#2a3f5f",
             "gridcolor": "white",
             "linecolor": "white",
             "minorgridcolor": "white",
             "startlinecolor": "#2a3f5f"
            },
            "baxis": {
             "endlinecolor": "#2a3f5f",
             "gridcolor": "white",
             "linecolor": "white",
             "minorgridcolor": "white",
             "startlinecolor": "#2a3f5f"
            },
            "type": "carpet"
           }
          ],
          "choropleth": [
           {
            "colorbar": {
             "outlinewidth": 0,
             "ticks": ""
            },
            "type": "choropleth"
           }
          ],
          "contour": [
           {
            "colorbar": {
             "outlinewidth": 0,
             "ticks": ""
            },
            "colorscale": [
             [
              0,
              "#0d0887"
             ],
             [
              0.1111111111111111,
              "#46039f"
             ],
             [
              0.2222222222222222,
              "#7201a8"
             ],
             [
              0.3333333333333333,
              "#9c179e"
             ],
             [
              0.4444444444444444,
              "#bd3786"
             ],
             [
              0.5555555555555556,
              "#d8576b"
             ],
             [
              0.6666666666666666,
              "#ed7953"
             ],
             [
              0.7777777777777778,
              "#fb9f3a"
             ],
             [
              0.8888888888888888,
              "#fdca26"
             ],
             [
              1,
              "#f0f921"
             ]
            ],
            "type": "contour"
           }
          ],
          "contourcarpet": [
           {
            "colorbar": {
             "outlinewidth": 0,
             "ticks": ""
            },
            "type": "contourcarpet"
           }
          ],
          "heatmap": [
           {
            "colorbar": {
             "outlinewidth": 0,
             "ticks": ""
            },
            "colorscale": [
             [
              0,
              "#0d0887"
             ],
             [
              0.1111111111111111,
              "#46039f"
             ],
             [
              0.2222222222222222,
              "#7201a8"
             ],
             [
              0.3333333333333333,
              "#9c179e"
             ],
             [
              0.4444444444444444,
              "#bd3786"
             ],
             [
              0.5555555555555556,
              "#d8576b"
             ],
             [
              0.6666666666666666,
              "#ed7953"
             ],
             [
              0.7777777777777778,
              "#fb9f3a"
             ],
             [
              0.8888888888888888,
              "#fdca26"
             ],
             [
              1,
              "#f0f921"
             ]
            ],
            "type": "heatmap"
           }
          ],
          "heatmapgl": [
           {
            "colorbar": {
             "outlinewidth": 0,
             "ticks": ""
            },
            "colorscale": [
             [
              0,
              "#0d0887"
             ],
             [
              0.1111111111111111,
              "#46039f"
             ],
             [
              0.2222222222222222,
              "#7201a8"
             ],
             [
              0.3333333333333333,
              "#9c179e"
             ],
             [
              0.4444444444444444,
              "#bd3786"
             ],
             [
              0.5555555555555556,
              "#d8576b"
             ],
             [
              0.6666666666666666,
              "#ed7953"
             ],
             [
              0.7777777777777778,
              "#fb9f3a"
             ],
             [
              0.8888888888888888,
              "#fdca26"
             ],
             [
              1,
              "#f0f921"
             ]
            ],
            "type": "heatmapgl"
           }
          ],
          "histogram": [
           {
            "marker": {
             "pattern": {
              "fillmode": "overlay",
              "size": 10,
              "solidity": 0.2
             }
            },
            "type": "histogram"
           }
          ],
          "histogram2d": [
           {
            "colorbar": {
             "outlinewidth": 0,
             "ticks": ""
            },
            "colorscale": [
             [
              0,
              "#0d0887"
             ],
             [
              0.1111111111111111,
              "#46039f"
             ],
             [
              0.2222222222222222,
              "#7201a8"
             ],
             [
              0.3333333333333333,
              "#9c179e"
             ],
             [
              0.4444444444444444,
              "#bd3786"
             ],
             [
              0.5555555555555556,
              "#d8576b"
             ],
             [
              0.6666666666666666,
              "#ed7953"
             ],
             [
              0.7777777777777778,
              "#fb9f3a"
             ],
             [
              0.8888888888888888,
              "#fdca26"
             ],
             [
              1,
              "#f0f921"
             ]
            ],
            "type": "histogram2d"
           }
          ],
          "histogram2dcontour": [
           {
            "colorbar": {
             "outlinewidth": 0,
             "ticks": ""
            },
            "colorscale": [
             [
              0,
              "#0d0887"
             ],
             [
              0.1111111111111111,
              "#46039f"
             ],
             [
              0.2222222222222222,
              "#7201a8"
             ],
             [
              0.3333333333333333,
              "#9c179e"
             ],
             [
              0.4444444444444444,
              "#bd3786"
             ],
             [
              0.5555555555555556,
              "#d8576b"
             ],
             [
              0.6666666666666666,
              "#ed7953"
             ],
             [
              0.7777777777777778,
              "#fb9f3a"
             ],
             [
              0.8888888888888888,
              "#fdca26"
             ],
             [
              1,
              "#f0f921"
             ]
            ],
            "type": "histogram2dcontour"
           }
          ],
          "mesh3d": [
           {
            "colorbar": {
             "outlinewidth": 0,
             "ticks": ""
            },
            "type": "mesh3d"
           }
          ],
          "parcoords": [
           {
            "line": {
             "colorbar": {
              "outlinewidth": 0,
              "ticks": ""
             }
            },
            "type": "parcoords"
           }
          ],
          "pie": [
           {
            "automargin": true,
            "type": "pie"
           }
          ],
          "scatter": [
           {
            "fillpattern": {
             "fillmode": "overlay",
             "size": 10,
             "solidity": 0.2
            },
            "type": "scatter"
           }
          ],
          "scatter3d": [
           {
            "line": {
             "colorbar": {
              "outlinewidth": 0,
              "ticks": ""
             }
            },
            "marker": {
             "colorbar": {
              "outlinewidth": 0,
              "ticks": ""
             }
            },
            "type": "scatter3d"
           }
          ],
          "scattercarpet": [
           {
            "marker": {
             "colorbar": {
              "outlinewidth": 0,
              "ticks": ""
             }
            },
            "type": "scattercarpet"
           }
          ],
          "scattergeo": [
           {
            "marker": {
             "colorbar": {
              "outlinewidth": 0,
              "ticks": ""
             }
            },
            "type": "scattergeo"
           }
          ],
          "scattergl": [
           {
            "marker": {
             "colorbar": {
              "outlinewidth": 0,
              "ticks": ""
             }
            },
            "type": "scattergl"
           }
          ],
          "scattermapbox": [
           {
            "marker": {
             "colorbar": {
              "outlinewidth": 0,
              "ticks": ""
             }
            },
            "type": "scattermapbox"
           }
          ],
          "scatterpolar": [
           {
            "marker": {
             "colorbar": {
              "outlinewidth": 0,
              "ticks": ""
             }
            },
            "type": "scatterpolar"
           }
          ],
          "scatterpolargl": [
           {
            "marker": {
             "colorbar": {
              "outlinewidth": 0,
              "ticks": ""
             }
            },
            "type": "scatterpolargl"
           }
          ],
          "scatterternary": [
           {
            "marker": {
             "colorbar": {
              "outlinewidth": 0,
              "ticks": ""
             }
            },
            "type": "scatterternary"
           }
          ],
          "surface": [
           {
            "colorbar": {
             "outlinewidth": 0,
             "ticks": ""
            },
            "colorscale": [
             [
              0,
              "#0d0887"
             ],
             [
              0.1111111111111111,
              "#46039f"
             ],
             [
              0.2222222222222222,
              "#7201a8"
             ],
             [
              0.3333333333333333,
              "#9c179e"
             ],
             [
              0.4444444444444444,
              "#bd3786"
             ],
             [
              0.5555555555555556,
              "#d8576b"
             ],
             [
              0.6666666666666666,
              "#ed7953"
             ],
             [
              0.7777777777777778,
              "#fb9f3a"
             ],
             [
              0.8888888888888888,
              "#fdca26"
             ],
             [
              1,
              "#f0f921"
             ]
            ],
            "type": "surface"
           }
          ],
          "table": [
           {
            "cells": {
             "fill": {
              "color": "#EBF0F8"
             },
             "line": {
              "color": "white"
             }
            },
            "header": {
             "fill": {
              "color": "#C8D4E3"
             },
             "line": {
              "color": "white"
             }
            },
            "type": "table"
           }
          ]
         },
         "layout": {
          "annotationdefaults": {
           "arrowcolor": "#2a3f5f",
           "arrowhead": 0,
           "arrowwidth": 1
          },
          "autotypenumbers": "strict",
          "coloraxis": {
           "colorbar": {
            "outlinewidth": 0,
            "ticks": ""
           }
          },
          "colorscale": {
           "diverging": [
            [
             0,
             "#8e0152"
            ],
            [
             0.1,
             "#c51b7d"
            ],
            [
             0.2,
             "#de77ae"
            ],
            [
             0.3,
             "#f1b6da"
            ],
            [
             0.4,
             "#fde0ef"
            ],
            [
             0.5,
             "#f7f7f7"
            ],
            [
             0.6,
             "#e6f5d0"
            ],
            [
             0.7,
             "#b8e186"
            ],
            [
             0.8,
             "#7fbc41"
            ],
            [
             0.9,
             "#4d9221"
            ],
            [
             1,
             "#276419"
            ]
           ],
           "sequential": [
            [
             0,
             "#0d0887"
            ],
            [
             0.1111111111111111,
             "#46039f"
            ],
            [
             0.2222222222222222,
             "#7201a8"
            ],
            [
             0.3333333333333333,
             "#9c179e"
            ],
            [
             0.4444444444444444,
             "#bd3786"
            ],
            [
             0.5555555555555556,
             "#d8576b"
            ],
            [
             0.6666666666666666,
             "#ed7953"
            ],
            [
             0.7777777777777778,
             "#fb9f3a"
            ],
            [
             0.8888888888888888,
             "#fdca26"
            ],
            [
             1,
             "#f0f921"
            ]
           ],
           "sequentialminus": [
            [
             0,
             "#0d0887"
            ],
            [
             0.1111111111111111,
             "#46039f"
            ],
            [
             0.2222222222222222,
             "#7201a8"
            ],
            [
             0.3333333333333333,
             "#9c179e"
            ],
            [
             0.4444444444444444,
             "#bd3786"
            ],
            [
             0.5555555555555556,
             "#d8576b"
            ],
            [
             0.6666666666666666,
             "#ed7953"
            ],
            [
             0.7777777777777778,
             "#fb9f3a"
            ],
            [
             0.8888888888888888,
             "#fdca26"
            ],
            [
             1,
             "#f0f921"
            ]
           ]
          },
          "colorway": [
           "#636efa",
           "#EF553B",
           "#00cc96",
           "#ab63fa",
           "#FFA15A",
           "#19d3f3",
           "#FF6692",
           "#B6E880",
           "#FF97FF",
           "#FECB52"
          ],
          "font": {
           "color": "#2a3f5f"
          },
          "geo": {
           "bgcolor": "white",
           "lakecolor": "white",
           "landcolor": "#E5ECF6",
           "showlakes": true,
           "showland": true,
           "subunitcolor": "white"
          },
          "hoverlabel": {
           "align": "left"
          },
          "hovermode": "closest",
          "mapbox": {
           "style": "light"
          },
          "paper_bgcolor": "white",
          "plot_bgcolor": "#E5ECF6",
          "polar": {
           "angularaxis": {
            "gridcolor": "white",
            "linecolor": "white",
            "ticks": ""
           },
           "bgcolor": "#E5ECF6",
           "radialaxis": {
            "gridcolor": "white",
            "linecolor": "white",
            "ticks": ""
           }
          },
          "scene": {
           "xaxis": {
            "backgroundcolor": "#E5ECF6",
            "gridcolor": "white",
            "gridwidth": 2,
            "linecolor": "white",
            "showbackground": true,
            "ticks": "",
            "zerolinecolor": "white"
           },
           "yaxis": {
            "backgroundcolor": "#E5ECF6",
            "gridcolor": "white",
            "gridwidth": 2,
            "linecolor": "white",
            "showbackground": true,
            "ticks": "",
            "zerolinecolor": "white"
           },
           "zaxis": {
            "backgroundcolor": "#E5ECF6",
            "gridcolor": "white",
            "gridwidth": 2,
            "linecolor": "white",
            "showbackground": true,
            "ticks": "",
            "zerolinecolor": "white"
           }
          },
          "shapedefaults": {
           "line": {
            "color": "#2a3f5f"
           }
          },
          "ternary": {
           "aaxis": {
            "gridcolor": "white",
            "linecolor": "white",
            "ticks": ""
           },
           "baxis": {
            "gridcolor": "white",
            "linecolor": "white",
            "ticks": ""
           },
           "bgcolor": "#E5ECF6",
           "caxis": {
            "gridcolor": "white",
            "linecolor": "white",
            "ticks": ""
           }
          },
          "title": {
           "x": 0.05
          },
          "xaxis": {
           "automargin": true,
           "gridcolor": "white",
           "linecolor": "white",
           "ticks": "",
           "title": {
            "standoff": 15
           },
           "zerolinecolor": "white",
           "zerolinewidth": 2
          },
          "yaxis": {
           "automargin": true,
           "gridcolor": "white",
           "linecolor": "white",
           "ticks": "",
           "title": {
            "standoff": 15
           },
           "zerolinecolor": "white",
           "zerolinewidth": 2
          }
         }
        },
        "title": {
         "text": "Sensitivity Analysis Results"
        },
        "width": 1000,
        "xaxis": {
         "anchor": "y",
         "domain": [
          0,
          0.05500000000000001
         ],
         "matches": "x91",
         "showticklabels": false
        },
        "xaxis10": {
         "anchor": "y10",
         "domain": [
          0.9450000000000001,
          1
         ],
         "matches": "x100",
         "showticklabels": false
        },
        "xaxis100": {
         "anchor": "y100",
         "domain": [
          0.9450000000000001,
          1
         ],
         "title": {
          "text": "Initial Stock"
         }
        },
        "xaxis11": {
         "anchor": "y11",
         "domain": [
          0,
          0.05500000000000001
         ],
         "matches": "x91",
         "showticklabels": false
        },
        "xaxis12": {
         "anchor": "y12",
         "domain": [
          0.10500000000000001,
          0.16000000000000003
         ],
         "matches": "x92",
         "showticklabels": false
        },
        "xaxis13": {
         "anchor": "y13",
         "domain": [
          0.21000000000000002,
          0.265
         ],
         "matches": "x93",
         "showticklabels": false
        },
        "xaxis14": {
         "anchor": "y14",
         "domain": [
          0.31500000000000006,
          0.37000000000000005
         ],
         "matches": "x94",
         "showticklabels": false
        },
        "xaxis15": {
         "anchor": "y15",
         "domain": [
          0.42000000000000004,
          0.47500000000000003
         ],
         "matches": "x95",
         "showticklabels": false
        },
        "xaxis16": {
         "anchor": "y16",
         "domain": [
          0.525,
          0.5800000000000001
         ],
         "matches": "x96",
         "showticklabels": false
        },
        "xaxis17": {
         "anchor": "y17",
         "domain": [
          0.6300000000000001,
          0.6850000000000002
         ],
         "matches": "x97",
         "showticklabels": false
        },
        "xaxis18": {
         "anchor": "y18",
         "domain": [
          0.7350000000000001,
          0.7900000000000001
         ],
         "matches": "x98",
         "showticklabels": false
        },
        "xaxis19": {
         "anchor": "y19",
         "domain": [
          0.8400000000000001,
          0.8950000000000001
         ],
         "matches": "x99",
         "showticklabels": false
        },
        "xaxis2": {
         "anchor": "y2",
         "domain": [
          0.10500000000000001,
          0.16000000000000003
         ],
         "matches": "x92",
         "showticklabels": false
        },
        "xaxis20": {
         "anchor": "y20",
         "domain": [
          0.9450000000000001,
          1
         ],
         "matches": "x100",
         "showticklabels": false
        },
        "xaxis21": {
         "anchor": "y21",
         "domain": [
          0,
          0.05500000000000001
         ],
         "matches": "x91",
         "showticklabels": false
        },
        "xaxis22": {
         "anchor": "y22",
         "domain": [
          0.10500000000000001,
          0.16000000000000003
         ],
         "matches": "x92",
         "showticklabels": false
        },
        "xaxis23": {
         "anchor": "y23",
         "domain": [
          0.21000000000000002,
          0.265
         ],
         "matches": "x93",
         "showticklabels": false
        },
        "xaxis24": {
         "anchor": "y24",
         "domain": [
          0.31500000000000006,
          0.37000000000000005
         ],
         "matches": "x94",
         "showticklabels": false
        },
        "xaxis25": {
         "anchor": "y25",
         "domain": [
          0.42000000000000004,
          0.47500000000000003
         ],
         "matches": "x95",
         "showticklabels": false
        },
        "xaxis26": {
         "anchor": "y26",
         "domain": [
          0.525,
          0.5800000000000001
         ],
         "matches": "x96",
         "showticklabels": false
        },
        "xaxis27": {
         "anchor": "y27",
         "domain": [
          0.6300000000000001,
          0.6850000000000002
         ],
         "matches": "x97",
         "showticklabels": false
        },
        "xaxis28": {
         "anchor": "y28",
         "domain": [
          0.7350000000000001,
          0.7900000000000001
         ],
         "matches": "x98",
         "showticklabels": false
        },
        "xaxis29": {
         "anchor": "y29",
         "domain": [
          0.8400000000000001,
          0.8950000000000001
         ],
         "matches": "x99",
         "showticklabels": false
        },
        "xaxis3": {
         "anchor": "y3",
         "domain": [
          0.21000000000000002,
          0.265
         ],
         "matches": "x93",
         "showticklabels": false
        },
        "xaxis30": {
         "anchor": "y30",
         "domain": [
          0.9450000000000001,
          1
         ],
         "matches": "x100",
         "showticklabels": false
        },
        "xaxis31": {
         "anchor": "y31",
         "domain": [
          0,
          0.05500000000000001
         ],
         "matches": "x91",
         "showticklabels": false
        },
        "xaxis32": {
         "anchor": "y32",
         "domain": [
          0.10500000000000001,
          0.16000000000000003
         ],
         "matches": "x92",
         "showticklabels": false
        },
        "xaxis33": {
         "anchor": "y33",
         "domain": [
          0.21000000000000002,
          0.265
         ],
         "matches": "x93",
         "showticklabels": false
        },
        "xaxis34": {
         "anchor": "y34",
         "domain": [
          0.31500000000000006,
          0.37000000000000005
         ],
         "matches": "x94",
         "showticklabels": false
        },
        "xaxis35": {
         "anchor": "y35",
         "domain": [
          0.42000000000000004,
          0.47500000000000003
         ],
         "matches": "x95",
         "showticklabels": false
        },
        "xaxis36": {
         "anchor": "y36",
         "domain": [
          0.525,
          0.5800000000000001
         ],
         "matches": "x96",
         "showticklabels": false
        },
        "xaxis37": {
         "anchor": "y37",
         "domain": [
          0.6300000000000001,
          0.6850000000000002
         ],
         "matches": "x97",
         "showticklabels": false
        },
        "xaxis38": {
         "anchor": "y38",
         "domain": [
          0.7350000000000001,
          0.7900000000000001
         ],
         "matches": "x98",
         "showticklabels": false
        },
        "xaxis39": {
         "anchor": "y39",
         "domain": [
          0.8400000000000001,
          0.8950000000000001
         ],
         "matches": "x99",
         "showticklabels": false
        },
        "xaxis4": {
         "anchor": "y4",
         "domain": [
          0.31500000000000006,
          0.37000000000000005
         ],
         "matches": "x94",
         "showticklabels": false
        },
        "xaxis40": {
         "anchor": "y40",
         "domain": [
          0.9450000000000001,
          1
         ],
         "matches": "x100",
         "showticklabels": false
        },
        "xaxis41": {
         "anchor": "y41",
         "domain": [
          0,
          0.05500000000000001
         ],
         "matches": "x91",
         "showticklabels": false
        },
        "xaxis42": {
         "anchor": "y42",
         "domain": [
          0.10500000000000001,
          0.16000000000000003
         ],
         "matches": "x92",
         "showticklabels": false
        },
        "xaxis43": {
         "anchor": "y43",
         "domain": [
          0.21000000000000002,
          0.265
         ],
         "matches": "x93",
         "showticklabels": false
        },
        "xaxis44": {
         "anchor": "y44",
         "domain": [
          0.31500000000000006,
          0.37000000000000005
         ],
         "matches": "x94",
         "showticklabels": false
        },
        "xaxis45": {
         "anchor": "y45",
         "domain": [
          0.42000000000000004,
          0.47500000000000003
         ],
         "matches": "x95",
         "showticklabels": false
        },
        "xaxis46": {
         "anchor": "y46",
         "domain": [
          0.525,
          0.5800000000000001
         ],
         "matches": "x96",
         "showticklabels": false
        },
        "xaxis47": {
         "anchor": "y47",
         "domain": [
          0.6300000000000001,
          0.6850000000000002
         ],
         "matches": "x97",
         "showticklabels": false
        },
        "xaxis48": {
         "anchor": "y48",
         "domain": [
          0.7350000000000001,
          0.7900000000000001
         ],
         "matches": "x98",
         "showticklabels": false
        },
        "xaxis49": {
         "anchor": "y49",
         "domain": [
          0.8400000000000001,
          0.8950000000000001
         ],
         "matches": "x99",
         "showticklabels": false
        },
        "xaxis5": {
         "anchor": "y5",
         "domain": [
          0.42000000000000004,
          0.47500000000000003
         ],
         "matches": "x95",
         "showticklabels": false
        },
        "xaxis50": {
         "anchor": "y50",
         "domain": [
          0.9450000000000001,
          1
         ],
         "matches": "x100",
         "showticklabels": false
        },
        "xaxis51": {
         "anchor": "y51",
         "domain": [
          0,
          0.05500000000000001
         ],
         "matches": "x91",
         "showticklabels": false
        },
        "xaxis52": {
         "anchor": "y52",
         "domain": [
          0.10500000000000001,
          0.16000000000000003
         ],
         "matches": "x92",
         "showticklabels": false
        },
        "xaxis53": {
         "anchor": "y53",
         "domain": [
          0.21000000000000002,
          0.265
         ],
         "matches": "x93",
         "showticklabels": false
        },
        "xaxis54": {
         "anchor": "y54",
         "domain": [
          0.31500000000000006,
          0.37000000000000005
         ],
         "matches": "x94",
         "showticklabels": false
        },
        "xaxis55": {
         "anchor": "y55",
         "domain": [
          0.42000000000000004,
          0.47500000000000003
         ],
         "matches": "x95",
         "showticklabels": false
        },
        "xaxis56": {
         "anchor": "y56",
         "domain": [
          0.525,
          0.5800000000000001
         ],
         "matches": "x96",
         "showticklabels": false
        },
        "xaxis57": {
         "anchor": "y57",
         "domain": [
          0.6300000000000001,
          0.6850000000000002
         ],
         "matches": "x97",
         "showticklabels": false
        },
        "xaxis58": {
         "anchor": "y58",
         "domain": [
          0.7350000000000001,
          0.7900000000000001
         ],
         "matches": "x98",
         "showticklabels": false
        },
        "xaxis59": {
         "anchor": "y59",
         "domain": [
          0.8400000000000001,
          0.8950000000000001
         ],
         "matches": "x99",
         "showticklabels": false
        },
        "xaxis6": {
         "anchor": "y6",
         "domain": [
          0.525,
          0.5800000000000001
         ],
         "matches": "x96",
         "showticklabels": false
        },
        "xaxis60": {
         "anchor": "y60",
         "domain": [
          0.9450000000000001,
          1
         ],
         "matches": "x100",
         "showticklabels": false
        },
        "xaxis61": {
         "anchor": "y61",
         "domain": [
          0,
          0.05500000000000001
         ],
         "matches": "x91",
         "showticklabels": false
        },
        "xaxis62": {
         "anchor": "y62",
         "domain": [
          0.10500000000000001,
          0.16000000000000003
         ],
         "matches": "x92",
         "showticklabels": false
        },
        "xaxis63": {
         "anchor": "y63",
         "domain": [
          0.21000000000000002,
          0.265
         ],
         "matches": "x93",
         "showticklabels": false
        },
        "xaxis64": {
         "anchor": "y64",
         "domain": [
          0.31500000000000006,
          0.37000000000000005
         ],
         "matches": "x94",
         "showticklabels": false
        },
        "xaxis65": {
         "anchor": "y65",
         "domain": [
          0.42000000000000004,
          0.47500000000000003
         ],
         "matches": "x95",
         "showticklabels": false
        },
        "xaxis66": {
         "anchor": "y66",
         "domain": [
          0.525,
          0.5800000000000001
         ],
         "matches": "x96",
         "showticklabels": false
        },
        "xaxis67": {
         "anchor": "y67",
         "domain": [
          0.6300000000000001,
          0.6850000000000002
         ],
         "matches": "x97",
         "showticklabels": false
        },
        "xaxis68": {
         "anchor": "y68",
         "domain": [
          0.7350000000000001,
          0.7900000000000001
         ],
         "matches": "x98",
         "showticklabels": false
        },
        "xaxis69": {
         "anchor": "y69",
         "domain": [
          0.8400000000000001,
          0.8950000000000001
         ],
         "matches": "x99",
         "showticklabels": false
        },
        "xaxis7": {
         "anchor": "y7",
         "domain": [
          0.6300000000000001,
          0.6850000000000002
         ],
         "matches": "x97",
         "showticklabels": false
        },
        "xaxis70": {
         "anchor": "y70",
         "domain": [
          0.9450000000000001,
          1
         ],
         "matches": "x100",
         "showticklabels": false
        },
        "xaxis71": {
         "anchor": "y71",
         "domain": [
          0,
          0.05500000000000001
         ],
         "matches": "x91",
         "showticklabels": false
        },
        "xaxis72": {
         "anchor": "y72",
         "domain": [
          0.10500000000000001,
          0.16000000000000003
         ],
         "matches": "x92",
         "showticklabels": false
        },
        "xaxis73": {
         "anchor": "y73",
         "domain": [
          0.21000000000000002,
          0.265
         ],
         "matches": "x93",
         "showticklabels": false
        },
        "xaxis74": {
         "anchor": "y74",
         "domain": [
          0.31500000000000006,
          0.37000000000000005
         ],
         "matches": "x94",
         "showticklabels": false
        },
        "xaxis75": {
         "anchor": "y75",
         "domain": [
          0.42000000000000004,
          0.47500000000000003
         ],
         "matches": "x95",
         "showticklabels": false
        },
        "xaxis76": {
         "anchor": "y76",
         "domain": [
          0.525,
          0.5800000000000001
         ],
         "matches": "x96",
         "showticklabels": false
        },
        "xaxis77": {
         "anchor": "y77",
         "domain": [
          0.6300000000000001,
          0.6850000000000002
         ],
         "matches": "x97",
         "showticklabels": false
        },
        "xaxis78": {
         "anchor": "y78",
         "domain": [
          0.7350000000000001,
          0.7900000000000001
         ],
         "matches": "x98",
         "showticklabels": false
        },
        "xaxis79": {
         "anchor": "y79",
         "domain": [
          0.8400000000000001,
          0.8950000000000001
         ],
         "matches": "x99",
         "showticklabels": false
        },
        "xaxis8": {
         "anchor": "y8",
         "domain": [
          0.7350000000000001,
          0.7900000000000001
         ],
         "matches": "x98",
         "showticklabels": false
        },
        "xaxis80": {
         "anchor": "y80",
         "domain": [
          0.9450000000000001,
          1
         ],
         "matches": "x100",
         "showticklabels": false
        },
        "xaxis81": {
         "anchor": "y81",
         "domain": [
          0,
          0.05500000000000001
         ],
         "matches": "x91",
         "showticklabels": false
        },
        "xaxis82": {
         "anchor": "y82",
         "domain": [
          0.10500000000000001,
          0.16000000000000003
         ],
         "matches": "x92",
         "showticklabels": false
        },
        "xaxis83": {
         "anchor": "y83",
         "domain": [
          0.21000000000000002,
          0.265
         ],
         "matches": "x93",
         "showticklabels": false
        },
        "xaxis84": {
         "anchor": "y84",
         "domain": [
          0.31500000000000006,
          0.37000000000000005
         ],
         "matches": "x94",
         "showticklabels": false
        },
        "xaxis85": {
         "anchor": "y85",
         "domain": [
          0.42000000000000004,
          0.47500000000000003
         ],
         "matches": "x95",
         "showticklabels": false
        },
        "xaxis86": {
         "anchor": "y86",
         "domain": [
          0.525,
          0.5800000000000001
         ],
         "matches": "x96",
         "showticklabels": false
        },
        "xaxis87": {
         "anchor": "y87",
         "domain": [
          0.6300000000000001,
          0.6850000000000002
         ],
         "matches": "x97",
         "showticklabels": false
        },
        "xaxis88": {
         "anchor": "y88",
         "domain": [
          0.7350000000000001,
          0.7900000000000001
         ],
         "matches": "x98",
         "showticklabels": false
        },
        "xaxis89": {
         "anchor": "y89",
         "domain": [
          0.8400000000000001,
          0.8950000000000001
         ],
         "matches": "x99",
         "showticklabels": false
        },
        "xaxis9": {
         "anchor": "y9",
         "domain": [
          0.8400000000000001,
          0.8950000000000001
         ],
         "matches": "x99",
         "showticklabels": false
        },
        "xaxis90": {
         "anchor": "y90",
         "domain": [
          0.9450000000000001,
          1
         ],
         "matches": "x100",
         "showticklabels": false
        },
        "xaxis91": {
         "anchor": "y91",
         "domain": [
          0,
          0.05500000000000001
         ],
         "title": {
          "text": "Initial Stock"
         }
        },
        "xaxis92": {
         "anchor": "y92",
         "domain": [
          0.10500000000000001,
          0.16000000000000003
         ],
         "title": {
          "text": "Initial Stock"
         }
        },
        "xaxis93": {
         "anchor": "y93",
         "domain": [
          0.21000000000000002,
          0.265
         ],
         "title": {
          "text": "Initial Stock"
         }
        },
        "xaxis94": {
         "anchor": "y94",
         "domain": [
          0.31500000000000006,
          0.37000000000000005
         ],
         "title": {
          "text": "Initial Stock"
         }
        },
        "xaxis95": {
         "anchor": "y95",
         "domain": [
          0.42000000000000004,
          0.47500000000000003
         ],
         "title": {
          "text": "Initial Stock"
         }
        },
        "xaxis96": {
         "anchor": "y96",
         "domain": [
          0.525,
          0.5800000000000001
         ],
         "title": {
          "text": "Initial Stock"
         }
        },
        "xaxis97": {
         "anchor": "y97",
         "domain": [
          0.6300000000000001,
          0.6850000000000002
         ],
         "title": {
          "text": "Initial Stock"
         }
        },
        "xaxis98": {
         "anchor": "y98",
         "domain": [
          0.7350000000000001,
          0.7900000000000001
         ],
         "title": {
          "text": "Initial Stock"
         }
        },
        "xaxis99": {
         "anchor": "y99",
         "domain": [
          0.8400000000000001,
          0.8950000000000001
         ],
         "title": {
          "text": "Initial Stock"
         }
        },
        "yaxis": {
         "anchor": "x",
         "domain": [
          0.9450000000000001,
          1
         ],
         "title": {
          "text": "Outflow Rate"
         }
        },
        "yaxis10": {
         "anchor": "x10",
         "domain": [
          0.9450000000000001,
          1
         ],
         "matches": "y",
         "showticklabels": false
        },
        "yaxis100": {
         "anchor": "x100",
         "domain": [
          0,
          0.05500000000000001
         ],
         "matches": "y91",
         "showticklabels": false
        },
        "yaxis11": {
         "anchor": "x11",
         "domain": [
          0.8400000000000001,
          0.8950000000000001
         ],
         "title": {
          "text": "Outflow Rate"
         }
        },
        "yaxis12": {
         "anchor": "x12",
         "domain": [
          0.8400000000000001,
          0.8950000000000001
         ],
         "matches": "y11",
         "showticklabels": false
        },
        "yaxis13": {
         "anchor": "x13",
         "domain": [
          0.8400000000000001,
          0.8950000000000001
         ],
         "matches": "y11",
         "showticklabels": false
        },
        "yaxis14": {
         "anchor": "x14",
         "domain": [
          0.8400000000000001,
          0.8950000000000001
         ],
         "matches": "y11",
         "showticklabels": false
        },
        "yaxis15": {
         "anchor": "x15",
         "domain": [
          0.8400000000000001,
          0.8950000000000001
         ],
         "matches": "y11",
         "showticklabels": false
        },
        "yaxis16": {
         "anchor": "x16",
         "domain": [
          0.8400000000000001,
          0.8950000000000001
         ],
         "matches": "y11",
         "showticklabels": false
        },
        "yaxis17": {
         "anchor": "x17",
         "domain": [
          0.8400000000000001,
          0.8950000000000001
         ],
         "matches": "y11",
         "showticklabels": false
        },
        "yaxis18": {
         "anchor": "x18",
         "domain": [
          0.8400000000000001,
          0.8950000000000001
         ],
         "matches": "y11",
         "showticklabels": false
        },
        "yaxis19": {
         "anchor": "x19",
         "domain": [
          0.8400000000000001,
          0.8950000000000001
         ],
         "matches": "y11",
         "showticklabels": false
        },
        "yaxis2": {
         "anchor": "x2",
         "domain": [
          0.9450000000000001,
          1
         ],
         "matches": "y",
         "showticklabels": false
        },
        "yaxis20": {
         "anchor": "x20",
         "domain": [
          0.8400000000000001,
          0.8950000000000001
         ],
         "matches": "y11",
         "showticklabels": false
        },
        "yaxis21": {
         "anchor": "x21",
         "domain": [
          0.7350000000000001,
          0.7900000000000001
         ],
         "title": {
          "text": "Outflow Rate"
         }
        },
        "yaxis22": {
         "anchor": "x22",
         "domain": [
          0.7350000000000001,
          0.7900000000000001
         ],
         "matches": "y21",
         "showticklabels": false
        },
        "yaxis23": {
         "anchor": "x23",
         "domain": [
          0.7350000000000001,
          0.7900000000000001
         ],
         "matches": "y21",
         "showticklabels": false
        },
        "yaxis24": {
         "anchor": "x24",
         "domain": [
          0.7350000000000001,
          0.7900000000000001
         ],
         "matches": "y21",
         "showticklabels": false
        },
        "yaxis25": {
         "anchor": "x25",
         "domain": [
          0.7350000000000001,
          0.7900000000000001
         ],
         "matches": "y21",
         "showticklabels": false
        },
        "yaxis26": {
         "anchor": "x26",
         "domain": [
          0.7350000000000001,
          0.7900000000000001
         ],
         "matches": "y21",
         "showticklabels": false
        },
        "yaxis27": {
         "anchor": "x27",
         "domain": [
          0.7350000000000001,
          0.7900000000000001
         ],
         "matches": "y21",
         "showticklabels": false
        },
        "yaxis28": {
         "anchor": "x28",
         "domain": [
          0.7350000000000001,
          0.7900000000000001
         ],
         "matches": "y21",
         "showticklabels": false
        },
        "yaxis29": {
         "anchor": "x29",
         "domain": [
          0.7350000000000001,
          0.7900000000000001
         ],
         "matches": "y21",
         "showticklabels": false
        },
        "yaxis3": {
         "anchor": "x3",
         "domain": [
          0.9450000000000001,
          1
         ],
         "matches": "y",
         "showticklabels": false
        },
        "yaxis30": {
         "anchor": "x30",
         "domain": [
          0.7350000000000001,
          0.7900000000000001
         ],
         "matches": "y21",
         "showticklabels": false
        },
        "yaxis31": {
         "anchor": "x31",
         "domain": [
          0.6300000000000001,
          0.6850000000000002
         ],
         "title": {
          "text": "Outflow Rate"
         }
        },
        "yaxis32": {
         "anchor": "x32",
         "domain": [
          0.6300000000000001,
          0.6850000000000002
         ],
         "matches": "y31",
         "showticklabels": false
        },
        "yaxis33": {
         "anchor": "x33",
         "domain": [
          0.6300000000000001,
          0.6850000000000002
         ],
         "matches": "y31",
         "showticklabels": false
        },
        "yaxis34": {
         "anchor": "x34",
         "domain": [
          0.6300000000000001,
          0.6850000000000002
         ],
         "matches": "y31",
         "showticklabels": false
        },
        "yaxis35": {
         "anchor": "x35",
         "domain": [
          0.6300000000000001,
          0.6850000000000002
         ],
         "matches": "y31",
         "showticklabels": false
        },
        "yaxis36": {
         "anchor": "x36",
         "domain": [
          0.6300000000000001,
          0.6850000000000002
         ],
         "matches": "y31",
         "showticklabels": false
        },
        "yaxis37": {
         "anchor": "x37",
         "domain": [
          0.6300000000000001,
          0.6850000000000002
         ],
         "matches": "y31",
         "showticklabels": false
        },
        "yaxis38": {
         "anchor": "x38",
         "domain": [
          0.6300000000000001,
          0.6850000000000002
         ],
         "matches": "y31",
         "showticklabels": false
        },
        "yaxis39": {
         "anchor": "x39",
         "domain": [
          0.6300000000000001,
          0.6850000000000002
         ],
         "matches": "y31",
         "showticklabels": false
        },
        "yaxis4": {
         "anchor": "x4",
         "domain": [
          0.9450000000000001,
          1
         ],
         "matches": "y",
         "showticklabels": false
        },
        "yaxis40": {
         "anchor": "x40",
         "domain": [
          0.6300000000000001,
          0.6850000000000002
         ],
         "matches": "y31",
         "showticklabels": false
        },
        "yaxis41": {
         "anchor": "x41",
         "domain": [
          0.525,
          0.5800000000000001
         ],
         "title": {
          "text": "Outflow Rate"
         }
        },
        "yaxis42": {
         "anchor": "x42",
         "domain": [
          0.525,
          0.5800000000000001
         ],
         "matches": "y41",
         "showticklabels": false
        },
        "yaxis43": {
         "anchor": "x43",
         "domain": [
          0.525,
          0.5800000000000001
         ],
         "matches": "y41",
         "showticklabels": false
        },
        "yaxis44": {
         "anchor": "x44",
         "domain": [
          0.525,
          0.5800000000000001
         ],
         "matches": "y41",
         "showticklabels": false
        },
        "yaxis45": {
         "anchor": "x45",
         "domain": [
          0.525,
          0.5800000000000001
         ],
         "matches": "y41",
         "showticklabels": false
        },
        "yaxis46": {
         "anchor": "x46",
         "domain": [
          0.525,
          0.5800000000000001
         ],
         "matches": "y41",
         "showticklabels": false
        },
        "yaxis47": {
         "anchor": "x47",
         "domain": [
          0.525,
          0.5800000000000001
         ],
         "matches": "y41",
         "showticklabels": false
        },
        "yaxis48": {
         "anchor": "x48",
         "domain": [
          0.525,
          0.5800000000000001
         ],
         "matches": "y41",
         "showticklabels": false
        },
        "yaxis49": {
         "anchor": "x49",
         "domain": [
          0.525,
          0.5800000000000001
         ],
         "matches": "y41",
         "showticklabels": false
        },
        "yaxis5": {
         "anchor": "x5",
         "domain": [
          0.9450000000000001,
          1
         ],
         "matches": "y",
         "showticklabels": false
        },
        "yaxis50": {
         "anchor": "x50",
         "domain": [
          0.525,
          0.5800000000000001
         ],
         "matches": "y41",
         "showticklabels": false
        },
        "yaxis51": {
         "anchor": "x51",
         "domain": [
          0.42000000000000004,
          0.47500000000000003
         ],
         "title": {
          "text": "Outflow Rate"
         }
        },
        "yaxis52": {
         "anchor": "x52",
         "domain": [
          0.42000000000000004,
          0.47500000000000003
         ],
         "matches": "y51",
         "showticklabels": false
        },
        "yaxis53": {
         "anchor": "x53",
         "domain": [
          0.42000000000000004,
          0.47500000000000003
         ],
         "matches": "y51",
         "showticklabels": false
        },
        "yaxis54": {
         "anchor": "x54",
         "domain": [
          0.42000000000000004,
          0.47500000000000003
         ],
         "matches": "y51",
         "showticklabels": false
        },
        "yaxis55": {
         "anchor": "x55",
         "domain": [
          0.42000000000000004,
          0.47500000000000003
         ],
         "matches": "y51",
         "showticklabels": false
        },
        "yaxis56": {
         "anchor": "x56",
         "domain": [
          0.42000000000000004,
          0.47500000000000003
         ],
         "matches": "y51",
         "showticklabels": false
        },
        "yaxis57": {
         "anchor": "x57",
         "domain": [
          0.42000000000000004,
          0.47500000000000003
         ],
         "matches": "y51",
         "showticklabels": false
        },
        "yaxis58": {
         "anchor": "x58",
         "domain": [
          0.42000000000000004,
          0.47500000000000003
         ],
         "matches": "y51",
         "showticklabels": false
        },
        "yaxis59": {
         "anchor": "x59",
         "domain": [
          0.42000000000000004,
          0.47500000000000003
         ],
         "matches": "y51",
         "showticklabels": false
        },
        "yaxis6": {
         "anchor": "x6",
         "domain": [
          0.9450000000000001,
          1
         ],
         "matches": "y",
         "showticklabels": false
        },
        "yaxis60": {
         "anchor": "x60",
         "domain": [
          0.42000000000000004,
          0.47500000000000003
         ],
         "matches": "y51",
         "showticklabels": false
        },
        "yaxis61": {
         "anchor": "x61",
         "domain": [
          0.31500000000000006,
          0.37000000000000005
         ],
         "title": {
          "text": "Outflow Rate"
         }
        },
        "yaxis62": {
         "anchor": "x62",
         "domain": [
          0.31500000000000006,
          0.37000000000000005
         ],
         "matches": "y61",
         "showticklabels": false
        },
        "yaxis63": {
         "anchor": "x63",
         "domain": [
          0.31500000000000006,
          0.37000000000000005
         ],
         "matches": "y61",
         "showticklabels": false
        },
        "yaxis64": {
         "anchor": "x64",
         "domain": [
          0.31500000000000006,
          0.37000000000000005
         ],
         "matches": "y61",
         "showticklabels": false
        },
        "yaxis65": {
         "anchor": "x65",
         "domain": [
          0.31500000000000006,
          0.37000000000000005
         ],
         "matches": "y61",
         "showticklabels": false
        },
        "yaxis66": {
         "anchor": "x66",
         "domain": [
          0.31500000000000006,
          0.37000000000000005
         ],
         "matches": "y61",
         "showticklabels": false
        },
        "yaxis67": {
         "anchor": "x67",
         "domain": [
          0.31500000000000006,
          0.37000000000000005
         ],
         "matches": "y61",
         "showticklabels": false
        },
        "yaxis68": {
         "anchor": "x68",
         "domain": [
          0.31500000000000006,
          0.37000000000000005
         ],
         "matches": "y61",
         "showticklabels": false
        },
        "yaxis69": {
         "anchor": "x69",
         "domain": [
          0.31500000000000006,
          0.37000000000000005
         ],
         "matches": "y61",
         "showticklabels": false
        },
        "yaxis7": {
         "anchor": "x7",
         "domain": [
          0.9450000000000001,
          1
         ],
         "matches": "y",
         "showticklabels": false
        },
        "yaxis70": {
         "anchor": "x70",
         "domain": [
          0.31500000000000006,
          0.37000000000000005
         ],
         "matches": "y61",
         "showticklabels": false
        },
        "yaxis71": {
         "anchor": "x71",
         "domain": [
          0.21000000000000002,
          0.265
         ],
         "title": {
          "text": "Outflow Rate"
         }
        },
        "yaxis72": {
         "anchor": "x72",
         "domain": [
          0.21000000000000002,
          0.265
         ],
         "matches": "y71",
         "showticklabels": false
        },
        "yaxis73": {
         "anchor": "x73",
         "domain": [
          0.21000000000000002,
          0.265
         ],
         "matches": "y71",
         "showticklabels": false
        },
        "yaxis74": {
         "anchor": "x74",
         "domain": [
          0.21000000000000002,
          0.265
         ],
         "matches": "y71",
         "showticklabels": false
        },
        "yaxis75": {
         "anchor": "x75",
         "domain": [
          0.21000000000000002,
          0.265
         ],
         "matches": "y71",
         "showticklabels": false
        },
        "yaxis76": {
         "anchor": "x76",
         "domain": [
          0.21000000000000002,
          0.265
         ],
         "matches": "y71",
         "showticklabels": false
        },
        "yaxis77": {
         "anchor": "x77",
         "domain": [
          0.21000000000000002,
          0.265
         ],
         "matches": "y71",
         "showticklabels": false
        },
        "yaxis78": {
         "anchor": "x78",
         "domain": [
          0.21000000000000002,
          0.265
         ],
         "matches": "y71",
         "showticklabels": false
        },
        "yaxis79": {
         "anchor": "x79",
         "domain": [
          0.21000000000000002,
          0.265
         ],
         "matches": "y71",
         "showticklabels": false
        },
        "yaxis8": {
         "anchor": "x8",
         "domain": [
          0.9450000000000001,
          1
         ],
         "matches": "y",
         "showticklabels": false
        },
        "yaxis80": {
         "anchor": "x80",
         "domain": [
          0.21000000000000002,
          0.265
         ],
         "matches": "y71",
         "showticklabels": false
        },
        "yaxis81": {
         "anchor": "x81",
         "domain": [
          0.10500000000000001,
          0.16000000000000003
         ],
         "title": {
          "text": "Outflow Rate"
         }
        },
        "yaxis82": {
         "anchor": "x82",
         "domain": [
          0.10500000000000001,
          0.16000000000000003
         ],
         "matches": "y81",
         "showticklabels": false
        },
        "yaxis83": {
         "anchor": "x83",
         "domain": [
          0.10500000000000001,
          0.16000000000000003
         ],
         "matches": "y81",
         "showticklabels": false
        },
        "yaxis84": {
         "anchor": "x84",
         "domain": [
          0.10500000000000001,
          0.16000000000000003
         ],
         "matches": "y81",
         "showticklabels": false
        },
        "yaxis85": {
         "anchor": "x85",
         "domain": [
          0.10500000000000001,
          0.16000000000000003
         ],
         "matches": "y81",
         "showticklabels": false
        },
        "yaxis86": {
         "anchor": "x86",
         "domain": [
          0.10500000000000001,
          0.16000000000000003
         ],
         "matches": "y81",
         "showticklabels": false
        },
        "yaxis87": {
         "anchor": "x87",
         "domain": [
          0.10500000000000001,
          0.16000000000000003
         ],
         "matches": "y81",
         "showticklabels": false
        },
        "yaxis88": {
         "anchor": "x88",
         "domain": [
          0.10500000000000001,
          0.16000000000000003
         ],
         "matches": "y81",
         "showticklabels": false
        },
        "yaxis89": {
         "anchor": "x89",
         "domain": [
          0.10500000000000001,
          0.16000000000000003
         ],
         "matches": "y81",
         "showticklabels": false
        },
        "yaxis9": {
         "anchor": "x9",
         "domain": [
          0.9450000000000001,
          1
         ],
         "matches": "y",
         "showticklabels": false
        },
        "yaxis90": {
         "anchor": "x90",
         "domain": [
          0.10500000000000001,
          0.16000000000000003
         ],
         "matches": "y81",
         "showticklabels": false
        },
        "yaxis91": {
         "anchor": "x91",
         "domain": [
          0,
          0.05500000000000001
         ],
         "title": {
          "text": "Outflow Rate"
         }
        },
        "yaxis92": {
         "anchor": "x92",
         "domain": [
          0,
          0.05500000000000001
         ],
         "matches": "y91",
         "showticklabels": false
        },
        "yaxis93": {
         "anchor": "x93",
         "domain": [
          0,
          0.05500000000000001
         ],
         "matches": "y91",
         "showticklabels": false
        },
        "yaxis94": {
         "anchor": "x94",
         "domain": [
          0,
          0.05500000000000001
         ],
         "matches": "y91",
         "showticklabels": false
        },
        "yaxis95": {
         "anchor": "x95",
         "domain": [
          0,
          0.05500000000000001
         ],
         "matches": "y91",
         "showticklabels": false
        },
        "yaxis96": {
         "anchor": "x96",
         "domain": [
          0,
          0.05500000000000001
         ],
         "matches": "y91",
         "showticklabels": false
        },
        "yaxis97": {
         "anchor": "x97",
         "domain": [
          0,
          0.05500000000000001
         ],
         "matches": "y91",
         "showticklabels": false
        },
        "yaxis98": {
         "anchor": "x98",
         "domain": [
          0,
          0.05500000000000001
         ],
         "matches": "y91",
         "showticklabels": false
        },
        "yaxis99": {
         "anchor": "x99",
         "domain": [
          0,
          0.05500000000000001
         ],
         "matches": "y91",
         "showticklabels": false
        }
       }
      }
     },
     "metadata": {},
     "output_type": "display_data"
    }
   ],
   "source": [
    "from plotly.subplots import make_subplots\n",
    "\n",
    "# Create subplots for each combination of input parameters\n",
    "fig = make_subplots(rows=len(inflow_rate_range), cols=len(outflow_rate_range), shared_xaxes=True, shared_yaxes=True, vertical_spacing=0.05, horizontal_spacing=0.05)\n",
    "\n",
    "# Loop over each combination and add a heatmap to the corresponding subplot\n",
    "for i, inflow_rate in enumerate(inflow_rate_range):\n",
    "    for j, outflow_rate in enumerate(outflow_rate_range):\n",
    "        z = results[:,i,j]\n",
    "        fig.add_trace(\n",
    "            go.Heatmap(x=initial_stock_range, y=outflow_rate_range, z=z.T, colorscale='Viridis'),\n",
    "            row=i+1, col=j+1\n",
    "        )\n",
    "        # Set the axis titles for the first row and column\n",
    "        if j == 0:\n",
    "            fig.update_yaxes(title_text=\"Outflow Rate\", row=i+1, col=1)\n",
    "        if i == len(inflow_rate_range) - 1:\n",
    "            fig.update_xaxes(title_text=\"Initial Stock\", row=i+1, col=j+1)\n",
    "        # Set the subplot titles\n",
    "        fig.update_layout(title_text=f\"Inflow Rate = {inflow_rate}, Outflow Rate = {outflow_rate}\", font=dict(size=10))\n",
    "\n",
    "# Update the layout settings and show the figure\n",
    "fig.update_layout(\n",
    "    height=1000,\n",
    "    width=1000,\n",
    "    title_text=\"Sensitivity Analysis Results\",\n",
    "    showlegend=False,\n",
    ")\n",
    "fig.show()"
   ]
  },
  {
   "cell_type": "code",
   "execution_count": 8,
   "metadata": {},
   "outputs": [
    {
     "name": "stdout",
     "output_type": "stream",
     "text": [
      "Max stock level: 3.9500854841185264e+29\n",
      "Min stock level: 0.0\n",
      "Mean stock level: 1.993846783605034e+27\n"
     ]
    }
   ],
   "source": [
    "# Analyze the results to identify which input parameters had the greatest impact\n",
    "max_stock = np.max(results)\n",
    "min_stock = np.min(results)\n",
    "mean_stock = np.mean(results)\n",
    "print(f\"Max stock level: {max_stock}\")\n",
    "print(f\"Min stock level: {min_stock}\")\n",
    "print(f\"Mean stock level: {mean_stock}\")"
   ]
  }
 ],
 "metadata": {
  "kernelspec": {
   "display_name": "pymc_env",
   "language": "python",
   "name": "python3"
  },
  "language_info": {
   "codemirror_mode": {
    "name": "ipython",
    "version": 3
   },
   "file_extension": ".py",
   "mimetype": "text/x-python",
   "name": "python",
   "nbconvert_exporter": "python",
   "pygments_lexer": "ipython3",
   "version": "3.9.13"
  },
  "orig_nbformat": 4
 },
 "nbformat": 4,
 "nbformat_minor": 2
}
