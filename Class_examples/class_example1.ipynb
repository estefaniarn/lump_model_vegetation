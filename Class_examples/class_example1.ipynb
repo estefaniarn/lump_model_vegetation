{
 "cells": [
  {
   "cell_type": "code",
   "execution_count": 1,
   "id": "2186012f",
   "metadata": {},
   "outputs": [],
   "source": [
    "import numpy as np\n",
    "import pandas as pd\n",
    "import plotly.express as px\n",
    "import plotly.graph_objects as go"
   ]
  },
  {
   "cell_type": "code",
   "execution_count": 6,
   "id": "edbf7608",
   "metadata": {},
   "outputs": [],
   "source": [
    "import os\n",
    "from pathlib import Path\n",
    "\n",
    "path_cwd=Path.cwd()\n",
    "path_input=str(path_cwd)+'/d_input/'\n",
    "#path_output=str(path_cwd)+'/Data_output/'\n"
   ]
  },
  {
   "cell_type": "code",
   "execution_count": 8,
   "id": "7fd6f002",
   "metadata": {},
   "outputs": [],
   "source": [
    "#read\n",
    "df = pd.read_csv(path_input+'ENVIRONMENTAL_tidy.csv', index_col='key_0',parse_dates=['key_0'])\n",
    "sf_df=pd.read_csv(path_input+'SF_27.csv', index_col= 'Unnamed: 0',parse_dates=['Unnamed: 0'])"
   ]
  },
  {
   "cell_type": "code",
   "execution_count": 9,
   "id": "194bf850",
   "metadata": {},
   "outputs": [],
   "source": [
    "# In-Out\n",
    "Precipitation_2021= df.filter(items=['Rain(mm)']).loc['2021-05-01 00:30:00':'2021-09-15 00:30:00']\n",
    "PET_2021= df.filter(items=['PET(mm/h)']).loc['2021-05-01 00:30:00':'2021-09-15 00:30:00']\n",
    "Precipitation_2022= df.filter(items=['Rain(mm)']).loc['2022-05-01 00:30:00':'2022-09-15 00:30:00']\n",
    "PET_2022= df.filter(items=['PET(mm/h)']).loc['2022-05-01 00:30:00':'2022-09-15 00:30:00']\n",
    "\n",
    "#SF\n",
    "SF_2021=sf_df.filter(items=['Total SF_LR (cm3/h)']).loc['2021-05-01 00:30:00':'2021-09-15 00:30:00']\n",
    "sf_orig = ((SF_2021['Total SF_LR (cm3/h)'].values)*0.001).tolist()\n",
    "\n",
    "#SM\n",
    "SM_2021=sf_df.filter(items=['S_avg']).loc['2021-05-01 00:30:00':'2021-09-15 00:30:00']\n",
    "sm_orig = (SM_2021['S_avg'].values).tolist() # 5 cm3 of contributing area, 0.001 cm3 -> dm3"
   ]
  },
  {
   "attachments": {},
   "cell_type": "markdown",
   "id": "8b92fbe1",
   "metadata": {},
   "source": [
    "#### Parameters (capacities and flow)\n",
    "- X: concentrated fraction that is lost from P to seepage almost immediately \n",
    "- sf_max: maximum capacity for surface fracture L\n",
    "- df_max: maximum capacity for deep fracture L\n",
    "- tree_max: maximum capacity for tree L"
   ]
  },
  {
   "cell_type": "code",
   "execution_count": 7,
   "id": "9edad988",
   "metadata": {},
   "outputs": [],
   "source": [
    "#input data \n",
    "precipitation=((Precipitation_2021['Rain(mm)'].values)*50856*1e-6).tolist() #50,856 mm2 area of rain gauge. 1e-6 mm3 to dm3 \n",
    "\n",
    "pet=PET_2021['PET(mm/h)'].tolist() #calculated every 30 min and assumed to be over 1m2 -> mm~L\n",
    "\n",
    "dates=Precipitation_2021.index.tolist()"
   ]
  },
  {
   "cell_type": "code",
   "execution_count": 8,
   "id": "bce8ddeb",
   "metadata": {},
   "outputs": [],
   "source": [
    "from sfmodel1 import sfmodel\n",
    "\n",
    "m = sfmodel(shape=len(Precipitation_2021),params={'X': 0.03, 'sf_max': 1, 'df_max': 3, 'tree_max': 2},data={'precipitation': precipitation, 'pet': pet, 'dates': dates})\n",
    "\n",
    "# Reservoirs\n",
    "m.surface_fracture = [None]*m.shape\n",
    "m.deep_fracture = [None]*m.shape\n",
    "m.quickflow= [None]*m.shape\n",
    "m.tree = [None]*m.shape\n",
    "\n",
    "#Initial stocks\n",
    "m.surface_fracture[0] = 0.1 # L\n",
    "m.deep_fracture[0] = 0.3 # L\n",
    "m.quickflow[0] = 0.001 # L\n",
    "m.tree[0] = 0.1 #L\n",
    "\n",
    "# Flows- Record all flow channels\n",
    "m.q1 = [None]*m.shape # precipitation -> quickflow\n",
    "m.q2 = [None]*m.shape # precipitation -> soil\n",
    "m.q3 = [None]*m.shape # soil -> fracture\n",
    "m.q3_1 = [None]*m.shape # fracture -> soil\n",
    "m.q3_2 = [None]*m.shape #soil -> quickflow\n",
    "m.q4 = [None]*m.shape # fracture -> plant\n",
    "m.q4_1 = [None]*m.shape # fracture -> air\n",
    "m.q5 = [None]*m.shape # soil -> plant\n",
    "m.q5_1 = [None]*m.shape # soil -> air\n",
    "m.q6 = [None]*m.shape # plant -> air\n",
    "m.sapflow = [None]*m.shape # plant -> air"
   ]
  },
  {
   "cell_type": "code",
   "execution_count": null,
   "id": "76041b6e",
   "metadata": {},
   "outputs": [],
   "source": [
    "precipitation = m.data['precipitation']"
   ]
  },
  {
   "cell_type": "code",
   "execution_count": null,
   "id": "37e74efa",
   "metadata": {},
   "outputs": [],
   "source": []
  }
 ],
 "metadata": {
  "kernelspec": {
   "display_name": "base",
   "language": "python",
   "name": "python3"
  },
  "language_info": {
   "codemirror_mode": {
    "name": "ipython",
    "version": 3
   },
   "file_extension": ".py",
   "mimetype": "text/x-python",
   "name": "python",
   "nbconvert_exporter": "python",
   "pygments_lexer": "ipython3",
   "version": "3.10.9"
  }
 },
 "nbformat": 4,
 "nbformat_minor": 5
}
