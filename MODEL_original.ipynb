{
 "cells": [
  {
   "cell_type": "code",
   "execution_count": 1,
   "id": "hearing-crime",
   "metadata": {},
   "outputs": [],
   "source": [
    "import numpy as np\n",
    "import pandas as pd\n",
    "import matplotlib.pyplot as plt\n",
    "\n",
    "plt.style.use('tableau-colorblind10')"
   ]
  },
  {
   "attachments": {},
   "cell_type": "markdown",
   "id": "708032dc",
   "metadata": {},
   "source": [
    "Clocks move in hr. Every cycle the program will update each of the stocks using the rules/laws established below"
   ]
  },
  {
   "cell_type": "code",
   "execution_count": 2,
   "id": "finnish-mission",
   "metadata": {},
   "outputs": [
    {
     "data": {
      "text/plain": [
       "8760"
      ]
     },
     "execution_count": 2,
     "metadata": {},
     "output_type": "execute_result"
    }
   ],
   "source": [
    "# General simulation parameters\n",
    "Nt = 24*365 # hours\n",
    "Nt"
   ]
  },
  {
   "cell_type": "code",
   "execution_count": 3,
   "id": "treated-force",
   "metadata": {},
   "outputs": [],
   "source": [
    "# Law: make it rain for 50% of the simulated hours at random cumulative intervals\n",
    "#      Also, randomly apply dry regions to the precipitation map\n",
    "\n",
    "precipitation = [0]*Nt\n",
    "for i in range(int(Nt/4)):\n",
    "    precipitation[np.random.randint(Nt-1)] += np.random.randint(2) # this command chooses a random assigns random position in list (precipitation[ ]) value 0 or 1 (can be changed by changing the 2)\n",
    "\n",
    "for n in range(200): #200 days will be dry with \n",
    "    random_index = np.random.randint(Nt-1-24) #values counting from zero (-1) remove a day (-24)\n",
    "    for i in range(random_index, random_index+24): # make the random value +the next 24 ones all zero\n",
    "        precipitation[i] = 0"
   ]
  },
  {
   "cell_type": "code",
   "execution_count": 4,
   "id": "historic-steel",
   "metadata": {},
   "outputs": [],
   "source": [
    "# Reservoirs\n",
    "fracture = [None]*Nt\n",
    "soil     = [None]*Nt\n",
    "\n",
    "# Water sink(s)\n",
    "plant = [None]*Nt\n",
    "\n",
    "# Initial conditions\n",
    "fracture[0] = 10 # liters #this shall be determined in function of the data \n",
    "soil[0]     = 10\n",
    "plant[0]    = 1"
   ]
  },
  {
   "cell_type": "code",
   "execution_count": 5,
   "id": "blind-vault",
   "metadata": {},
   "outputs": [],
   "source": [
    "# Record all flow channels\n",
    "q1 = [None]*Nt # precipitation -> fracture /not likely \n",
    "q2 = [None]*Nt # precipitation -> soil\n",
    "q3 = [None]*Nt # soil -> fracture\n",
    "q4 = [None]*Nt # fracture -> plant\n",
    "q5 = [None]*Nt # soil -> plant\n",
    "q6 = [None]*Nt # plant -> air\n",
    "sapflow = [None]*Nt\n"
   ]
  },
  {
   "cell_type": "code",
   "execution_count": 17,
   "id": "56d5aa8f",
   "metadata": {},
   "outputs": [],
   "source": [
    "for n in range(Nt):\n",
    "    # Precipitation\n",
    "    # Law: 50% to each reservoir\n",
    "    if precipitation[n] > 0:\n",
    "        q1[n] = precipitation[n]*0.5 #here I need to specify how much of the precipitation stays in soil and how much goes to the fracture\n",
    "        q2[n] = precipitation[n]*0.5\n",
    "        fracture[n] += q1[n]\n",
    "        soil[n] += q2[n]\n",
    "    else:\n",
    "        q1[n] = 0\n",
    "        q2[n] = 0\n"
   ]
  },
  {
   "cell_type": "code",
   "execution_count": 16,
   "id": "loose-climb",
   "metadata": {},
   "outputs": [],
   "source": [
    "for n in range(Nt):\n",
    "    # Precipitation\n",
    "    # Law: 50% to each reservoir\n",
    "    if precipitation[n] > 0:\n",
    "        q1[n] = precipitation[n]*0.5 #here I need to specify how much of the precipitation stays in soil and how much goes to the fracture\n",
    "        q2[n] = precipitation[n]*0.5\n",
    "        fracture[n] += q1[n]\n",
    "        soil[n] += q2[n]\n",
    "    else:\n",
    "        q1[n] = 0\n",
    "        q2[n] = 0\n",
    "\n",
    "    # Soil-fracture mechanism\n",
    "    # Law: water flows from soil to fracture\n",
    "    #      flow rate is proportional to reservoir volume\n",
    "    if soil[n] > 0:\n",
    "        q3[n] = 0.0001*soil[n]\n",
    "        fracture[n] += q3[n]\n",
    "        soil[n] -= q3[n]\n",
    "    else:\n",
    "        q3[n] = 0\n",
    "\n",
    "    # Fracture-plant mechanism\n",
    "    # Law: same as before\n",
    "    if fracture[n] > 0:\n",
    "        q4[n] = 0.001*fracture[n]\n",
    "        plant[n] += q4[n]\n",
    "        fracture[n] -= q4[n]\n",
    "    else:\n",
    "        q4[n] = 0\n",
    "\n",
    "    # Soil-plant mechanism\n",
    "    # Law: same as before\n",
    "    if soil[n] > 0:\n",
    "        q5[n] = 0.001*fracture[n]\n",
    "        plant[n] += q5[n]\n",
    "        soil[n] -= q5[n]\n",
    "    else:\n",
    "        q5[n] = 0\n",
    "\n",
    "    # Plant sap-flow and transpiration\n",
    "    # Law: transpiration = q6\n",
    "    sapflow[n] = q4[n] + q5[n]\n",
    "    if plant[n] > 0:\n",
    "        q6[n] = sapflow[n]\n",
    "        plant[n] -= q6[n]\n",
    "        if sapflow[n] == 0:\n",
    "            print(sapflow[n])\n",
    "    else:\n",
    "        q6[n] = 0\n",
    "\n",
    "    # Copy computed results to future step\n",
    "    if n < (Nt-1):\n",
    "        soil[n+1] = soil[n]\n",
    "        fracture[n+1] = fracture[n]\n",
    "        plant[n+1] = plant[n]"
   ]
  },
  {
   "cell_type": "code",
   "execution_count": null,
   "id": "dd694eda",
   "metadata": {},
   "outputs": [],
   "source": [
    "#This is for my personal record, line (1) is equivalent to lines below (2) and it meants to do a random precipitation value every 24 h \n",
    "# n % 24 remain of X number of groups of 24 I can make from n, if n<24 I cannot make a single group out of 24 so the original value remains \n",
    "# for n>24 , e.g 25 I can group 24 and I have 1 extra, for 75 I can make 3 groups of 24 and I have 3 extra as residual \n",
    "# with that technique I make my original set 0,1,2,3,...8759 to become 0,1,2,...23,0,1,2,...,23,0,1,2....\n",
    "#then we set the condition that exactly at midnight every day it rains \n",
    "\n",
    "# (1) # precipitation = [np.random.randint(10) if n % 24 == 0 else 0 for n in range(Nt)]\n",
    "\n",
    "# (2) # \n",
    "#P=[]\n",
    "#for n in range (Nt): \n",
    "#    if n % 24 == 0: \n",
    "#        precipitation=np.random.randint(10)\n",
    "#        P.append(precipitation)\n",
    "#    else:\n",
    "#        precipitation=0\n",
    "#        P.append(precipitation)"
   ]
  }
 ],
 "metadata": {
  "kernelspec": {
   "display_name": "base",
   "language": "python",
   "name": "python3"
  },
  "language_info": {
   "codemirror_mode": {
    "name": "ipython",
    "version": 3
   },
   "file_extension": ".py",
   "mimetype": "text/x-python",
   "name": "python",
   "nbconvert_exporter": "python",
   "pygments_lexer": "ipython3",
   "version": "3.9.13"
  },
  "vscode": {
   "interpreter": {
    "hash": "a8f2d2911ef642a33b1d5af7d74cad3b8159aecaedc8536623a219ba6e86ca56"
   }
  }
 },
 "nbformat": 4,
 "nbformat_minor": 5
}
